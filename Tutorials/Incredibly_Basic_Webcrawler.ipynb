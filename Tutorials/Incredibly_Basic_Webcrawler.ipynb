{
 "cells": [
  {
   "cell_type": "code",
   "execution_count": 1,
   "metadata": {
    "collapsed": true
   },
   "outputs": [],
   "source": [
    "#Webwork\n",
    "from bs4 import BeautifulSoup\n",
    "from urllib.request import urlopen  #urllib2\n",
    "#from urllib2 import urlopen\n",
    "\n",
    "#offline\n",
    "import re\n",
    "import numpy as np\n",
    "\n",
    "#plotting\n",
    "from matplotlib import pyplot as plt\n",
    "from matplotlib.font_manager import FontProperties\n",
    "\n",
    "%matplotlib inline\n",
    "\n",
    "url = \"http://www.ru.nl/artificialintelligence/\""
   ]
  },
  {
   "cell_type": "code",
   "execution_count": 2,
   "metadata": {
    "collapsed": false
   },
   "outputs": [],
   "source": [
    "def make_soup(url):\n",
    "    html = urlopen(url).read()\n",
    "    return BeautifulSoup(html,\"lxml\")\n",
    "\n"
   ]
  },
  {
   "cell_type": "code",
   "execution_count": 3,
   "metadata": {
    "collapsed": true
   },
   "outputs": [],
   "source": [
    "def crawler(url,maxlevel,link_list,link_tuple_list):\n",
    "    if (maxlevel == 0):\n",
    "        return\n",
    "    else:\n",
    "    #try to open link if not possible skip\n",
    "    #NEW\n",
    "        try:\n",
    "            soup = make_soup(url)\n",
    "        except:\n",
    "            return\n",
    "    \n",
    "        links = soup.find_all('a', attrs={'href': re.compile(\"^http://www.ru.nl/artificialintelligence\")}) \n",
    "        for link in links:\n",
    "            link_url = link.get('href')#[:-1]\n",
    "            link_tuple_list.append((url,link_url)) \n",
    "            link_list.append(link_url)\n",
    "            crawler(link_url,maxlevel -1,link_list,link_tuple_list)\n",
    "        return list(set(link_list)),link_tuple_list\n"
   ]
  },
  {
   "cell_type": "code",
   "execution_count": 4,
   "metadata": {
    "collapsed": false
   },
   "outputs": [
    {
     "ename": "NameError",
     "evalue": "name 'URL' is not defined",
     "output_type": "error",
     "traceback": [
      "\u001b[1;31m---------------------------------------------------------------------------\u001b[0m",
      "\u001b[1;31mNameError\u001b[0m                                 Traceback (most recent call last)",
      "\u001b[1;32m<ipython-input-4-e5a6b1ab43ce>\u001b[0m in \u001b[0;36m<module>\u001b[1;34m()\u001b[0m\n\u001b[0;32m      1\u001b[0m \u001b[0mlink_list\u001b[0m \u001b[1;33m=\u001b[0m \u001b[1;33m[\u001b[0m\u001b[1;33m]\u001b[0m\u001b[1;33m\u001b[0m\u001b[0m\n\u001b[0;32m      2\u001b[0m \u001b[0mlink_tuple_list\u001b[0m \u001b[1;33m=\u001b[0m \u001b[1;33m[\u001b[0m\u001b[1;33m]\u001b[0m\u001b[1;33m\u001b[0m\u001b[0m\n\u001b[1;32m----> 3\u001b[1;33m \u001b[0mlink_list\u001b[0m\u001b[1;33m,\u001b[0m\u001b[0mlink_tuple_list\u001b[0m \u001b[1;33m=\u001b[0m \u001b[0mcrawler\u001b[0m\u001b[1;33m(\u001b[0m\u001b[0mURL\u001b[0m\u001b[1;33m,\u001b[0m\u001b[1;36m1\u001b[0m\u001b[1;33m,\u001b[0m\u001b[0mlink_list\u001b[0m\u001b[1;33m,\u001b[0m\u001b[0mlink_tuple_list\u001b[0m\u001b[1;33m)\u001b[0m\u001b[1;33m\u001b[0m\u001b[0m\n\u001b[0m\u001b[0;32m      4\u001b[0m \u001b[0mlink_tuple_list\u001b[0m\u001b[1;33m[\u001b[0m\u001b[1;36m0\u001b[0m\u001b[1;33m]\u001b[0m\u001b[1;33m\u001b[0m\u001b[0m\n",
      "\u001b[1;31mNameError\u001b[0m: name 'URL' is not defined"
     ]
    }
   ],
   "source": [
    "link_list = []\n",
    "link_tuple_list = []\n",
    "link_list,link_tuple_list = crawler(url,1,link_list,link_tuple_list)\n",
    "link_tuple_list[0]"
   ]
  },
  {
   "cell_type": "code",
   "execution_count": 5,
   "metadata": {
    "collapsed": true
   },
   "outputs": [],
   "source": [
    "\n",
    "\n",
    "\n",
    "\n",
    "def crawler_matrix(url,num_rec):\n",
    "    \n",
    "    llist=[]\n",
    "    ltlist = []\n",
    "\n",
    "    link_list,link_tuple_list = crawler(url,num_rec,llist,ltlist)    \n",
    "\n",
    "    matrix = np.zeros((len(link_list),len(link_list)))\n",
    "    \n",
    "\n",
    "    for id1 in range(len(link_list)):\n",
    "        for id2 in range(len(link_list)):\n",
    "            if not link_list[id1] is link_list[id2]:\n",
    "                try:\n",
    "                    idx = link_tuple_list.index((link_list[id1],link_list[id2]))\n",
    "\n",
    "                    matrix[id1,id2] = 1\n",
    "                except:\n",
    "                    error = 1\n",
    "\n",
    "    return matrix,link_list\n"
   ]
  },
  {
   "cell_type": "code",
   "execution_count": 6,
   "metadata": {
    "collapsed": true
   },
   "outputs": [],
   "source": [
    "X, link_list = crawler_matrix(url,3)\n",
    "\n"
   ]
  },
  {
   "cell_type": "code",
   "execution_count": 7,
   "metadata": {
    "collapsed": false
   },
   "outputs": [
    {
     "data": {
      "text/plain": [
       "2293.0"
      ]
     },
     "execution_count": 7,
     "metadata": {},
     "output_type": "execute_result"
    }
   ],
   "source": [
    "sum(sum(X))\n",
    "\n"
   ]
  },
  {
   "cell_type": "code",
   "execution_count": 8,
   "metadata": {
    "collapsed": false
   },
   "outputs": [
    {
     "data": {
      "text/plain": [
       "(146, 146)"
      ]
     },
     "execution_count": 8,
     "metadata": {},
     "output_type": "execute_result"
    }
   ],
   "source": [
    "X.shape"
   ]
  },
  {
   "cell_type": "code",
   "execution_count": 9,
   "metadata": {
    "collapsed": false
   },
   "outputs": [
    {
     "data": {
      "text/plain": [
       "['http://www.ru.nl/artificialintelligence/news-events/good-aifternoon-2013-0/vm-good-aifternoon/prof-dr-friederike/',\n",
       " 'http://www.ru.nl/artificialintelligence/news-events/good-aifternoon-2012/vm-good-aifternoon/cyrill-stachniss/@960852/disclaimer-en/',\n",
       " 'http://www.ru.nl/artificialintelligence/contact/adres-secretary/',\n",
       " 'http://www.ru.nl/artificialintelligence/news-events/good-aifternoon-2013-0/vm-good-aifternoon/dr-khiet-truong/',\n",
       " 'http://www.ru.nl/artificialintelligence/news-events/good-aifternoon-2013-0/vm-good-aifternoon/dr-jeremy-hill/']"
      ]
     },
     "execution_count": 9,
     "metadata": {},
     "output_type": "execute_result"
    }
   ],
   "source": [
    "link_list[:5]\n",
    "\n"
   ]
  },
  {
   "cell_type": "code",
   "execution_count": 10,
   "metadata": {
    "collapsed": true
   },
   "outputs": [],
   "source": [
    "def normalize_matrix(Q):\n",
    "    M = Q.shape[1]\n",
    "\n",
    "    Q_star = np.apply_along_axis(lambda X: X/np.sum(X,axis=0),1,Q)\n",
    "    mask = np.where(np.isnan(Q_star))\n",
    "    \n",
    "    Q_star[mask] = 1/M\n",
    "\n",
    "    alpha = .85\n",
    "    J = np.ones((M,M))\n",
    "    \n",
    "    G = alpha*Q_star + (1-alpha) * J/M\n",
    "    return G"
   ]
  },
  {
   "cell_type": "code",
   "execution_count": 11,
   "metadata": {
    "collapsed": false
   },
   "outputs": [
    {
     "name": "stderr",
     "output_type": "stream",
     "text": [
      "C:\\Users\\Trost\\Anaconda3\\lib\\site-packages\\ipykernel\\__main__.py:4: RuntimeWarning: invalid value encountered in true_divide\n"
     ]
    },
    {
     "data": {
      "text/plain": [
       "array([[ 0.0010274 ,  0.0010274 ,  0.03644406, ...,  0.0010274 ,\n",
       "         0.0010274 ,  0.03644406],\n",
       "       [ 0.00684932,  0.00684932,  0.00684932, ...,  0.00684932,\n",
       "         0.00684932,  0.00684932],\n",
       "       [ 0.0010274 ,  0.0010274 ,  0.0010274 , ...,  0.0010274 ,\n",
       "         0.0010274 ,  0.03798392],\n",
       "       ..., \n",
       "       [ 0.0010274 ,  0.0010274 ,  0.03798392, ...,  0.0010274 ,\n",
       "         0.0010274 ,  0.03798392],\n",
       "       [ 0.00684932,  0.00684932,  0.00684932, ...,  0.00684932,\n",
       "         0.00684932,  0.00684932],\n",
       "       [ 0.0010274 ,  0.0010274 ,  0.03644406, ...,  0.0010274 ,\n",
       "         0.0010274 ,  0.0010274 ]])"
      ]
     },
     "execution_count": 11,
     "metadata": {},
     "output_type": "execute_result"
    }
   ],
   "source": [
    "Q = normalize_matrix(X)\n",
    "Q"
   ]
  },
  {
   "cell_type": "code",
   "execution_count": 18,
   "metadata": {
    "collapsed": true
   },
   "outputs": [],
   "source": [
    "\n",
    "def Pagerank(Q_star):\n",
    "    M = Q_star.shape[1]\n",
    "    \n",
    "    #random start\n",
    "    draws = np.random.random((M,))\n",
    "    p = draws/np.sum(draws)\n",
    "    #iterate and store\n",
    "    N = 50\n",
    "    store_p = np.zeros((M,N))\n",
    "    \n",
    "    for i in range(N):\n",
    "        p = np.dot(p,Q_star)\n",
    "        store_p[:,i] = p\n",
    "        \n",
    "    plt.close()\n",
    "    plt.xkcd()\n",
    "  #  a = plt.figure()\n",
    "\n",
    "    \n",
    "    for i in range(M):\n",
    "        plt.plot(store_p[i,])\n",
    "    return store_p\n",
    "    \n",
    "    a.title(\"'This converges nicely', he said, staring into the fiery abyss\")\n",
    "    plt.xlabel('convergence')\n",
    "    plt.ylabel('density of tears')\n",
    "    plt.show()\n",
    "\n",
    "\n"
   ]
  },
  {
   "cell_type": "code",
   "execution_count": 19,
   "metadata": {
    "collapsed": false
   },
   "outputs": [
    {
     "data": {
      "image/png": "[encoded data removed]",
      "text/plain": [
       "<matplotlib.figure.Figure at 0x7b839e8>"
      ]
     },
     "metadata": {},
     "output_type": "display_data"
    }
   ],
   "source": [
    "G = Pagerank(Q)\n",
    "\n"
   ]
  },
  {
   "cell_type": "code",
   "execution_count": 14,
   "metadata": {
    "collapsed": true
   },
   "outputs": [],
   "source": [
    "ind3 = G[:,-1].argmax()\n",
    "\n"
   ]
  },
  {
   "cell_type": "code",
   "execution_count": 15,
   "metadata": {
    "collapsed": false
   },
   "outputs": [
    {
     "data": {
      "text/plain": [
       "'http://www.ru.nl/artificialintelligence/news-events/good-aifternoon-2013-0/'"
      ]
     },
     "execution_count": 15,
     "metadata": {},
     "output_type": "execute_result"
    }
   ],
   "source": [
    "link_list[ind3]\n",
    "\n"
   ]
  },
  {
   "cell_type": "code",
   "execution_count": 16,
   "metadata": {
    "collapsed": false
   },
   "outputs": [
    {
     "data": {
      "text/plain": [
       "array([ 78, 107, 128,  86,  84, 144,  34,  54,  16,  11,  85,  72, 110,\n",
       "       139,  53,  55,  67, 115,   1, 120, 133, 105,  56, 118, 134,  73,\n",
       "        66,  77,  24,  80,  90,  31,  12,  99,  22,   5,  95,  20, 124,\n",
       "        98,  15, 106,  40,  68,  88,  81, 121,  32,  59,  94,  65,  76,\n",
       "       103,  87,  83,  61, 113, 100,   0,   4,  14,  38,  46,  47,  37,\n",
       "         3,  41,  50,  17, 108,  92,   8,  93,  82, 137,  75,  97,  89,\n",
       "        25,  44,  35, 111,  91,  10, 136, 114,  60,   6,  27,  23,  51,\n",
       "       112,  49,  52,  79,  43,  48, 123,   9,  28, 109, 104,  29,  42,\n",
       "       119, 131, 135, 143, 132,  19, 141, 142, 127, 102,  26,  70, 140,\n",
       "       126,  62,   7,  13,  64,  18,  74,  63,  69,   2, 122,  39,  36,\n",
       "       101,  58, 125, 138,  57, 129, 117,  96,  33,  71, 145, 130,  45,\n",
       "        30, 116,  21], dtype=int64)"
      ]
     },
     "execution_count": 16,
     "metadata": {},
     "output_type": "execute_result"
    }
   ],
   "source": [
    "sorted_arr = G[:,-1].argsort()\n",
    "sorted_arr"
   ]
  },
  {
   "cell_type": "code",
   "execution_count": 17,
   "metadata": {
    "collapsed": false
   },
   "outputs": [
    {
     "name": "stdout",
     "output_type": "stream",
     "text": [
      "0  th  http://www.ru.nl/artificialintelligence/news-events/good-aifternoon-2013-0/\n",
      "1  th  http://www.ru.nl/artificialintelligence/news-events/good-aifternoon-2012/\n",
      "2  th  http://www.ru.nl/artificialintelligence/news-events/good-aifternoon-2014/\n",
      "3  th  http://www.ru.nl/artificialintelligence/news-events/good-aifternoon-2015/\n",
      "4  th  http://www.ru.nl/artificialintelligence/news-events/good-aifternoon-2011/\n",
      "5  th  http://www.ru.nl/artificialintelligence/news-events/good-aifternoon-2009/\n",
      "6  th  http://www.ru.nl/artificialintelligence/news-events/\n",
      "7  th  http://www.ru.nl/artificialintelligence/\n",
      "8  th  http://www.ru.nl/artificialintelligence/vm/sitemap/\n",
      "9  th  http://www.ru.nl/artificialintelligence/news-events/good-aifternoon-2008/\n",
      "10  th  http://www.ru.nl/artificialintelligence/news-events/good-aifternoon-2007/\n",
      "11  th  http://www.ru.nl/artificialintelligence/news-events/news/\n",
      "12  th  http://www.ru.nl/artificialintelligence/news-events/good-aifternoon-2010/\n",
      "13  th  http://www.ru.nl/artificialintelligence/research/\n",
      "14  th  http://www.ru.nl/artificialintelligence/research/projects/\n"
     ]
    }
   ],
   "source": [
    "\n",
    "\n",
    "\n",
    "\n",
    "for i in range(15):\n",
    "    print(i,' th ',link_list[sorted_arr[-(i+1)]])\n"
   ]
  },
  {
   "cell_type": "code",
   "execution_count": null,
   "metadata": {
    "collapsed": true
   },
   "outputs": [],
   "source": []
  }
 ],
 "metadata": {
  "kernelspec": {
   "display_name": "Python 3",
   "language": "python",
   "name": "python3"
  },
  "language_info": {
   "codemirror_mode": {
    "name": "ipython",
    "version": 3
   },
   "file_extension": ".py",
   "mimetype": "text/x-python",
   "name": "python",
   "nbconvert_exporter": "python",
   "pygments_lexer": "ipython3",
   "version": "3.4.3"
  }
 },
 "nbformat": 4,
 "nbformat_minor": 0
}

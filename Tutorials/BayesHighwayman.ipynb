{
 "cells": [
  {
   "cell_type": "markdown",
   "metadata": {},
   "source": [
    "# Ways to deal with Multi-Armed Bandits\n"
   ]
  },
  {
   "cell_type": "markdown",
   "metadata": {},
   "source": [
    "Multi-armed Bandits are a subfield of reinforcement learning problems. They occur whenever a choice has to be made between two or more actions with uncertain reward. One of the most prominent applications for bandit problems is website optimisation. Given several Layouts, the question is which one to choose in order to achieve the maximum effect.\n",
    "\n",
    "I will compare a few popular ways of solving bandit problems.\n",
    "The analysis of bandit problem solutions traditionally focusses on the notion of $\\textit{regret}$, which intuitively translates to \"how much am I losing with my strategy compared to the case in which I always choose the optimal arm\"."
   ]
  },
  {
   "cell_type": "code",
   "execution_count": 1,
   "metadata": {
    "collapsed": true
   },
   "outputs": [],
   "source": [
    "import numpy as np\n",
    "import matplotlib.pyplot as plt\n",
    "import scipy.stats as stats\n",
    "import matplotlib.cm as cm\n",
    "%matplotlib inline"
   ]
  },
  {
   "cell_type": "code",
   "execution_count": 2,
   "metadata": {
    "collapsed": false
   },
   "outputs": [
    {
     "data": {
      "text/plain": [
       "array([ 0.99015404,  0.16532289])"
      ]
     },
     "execution_count": 2,
     "metadata": {},
     "output_type": "execute_result"
    }
   ],
   "source": [
    "#set some parameters\n",
    "# number of arms\n",
    "num_options = 2\n",
    "#number of measurements\n",
    "N = 10000\n",
    "#true outcome of the arms\n",
    "theta = np.random.random(size = (num_options,))\n",
    "theta"
   ]
  },
  {
   "cell_type": "code",
   "execution_count": 3,
   "metadata": {
    "collapsed": false
   },
   "outputs": [
    {
     "data": {
      "text/plain": [
       "0"
      ]
     },
     "execution_count": 3,
     "metadata": {},
     "output_type": "execute_result"
    }
   ],
   "source": [
    "#best arm\n",
    "best_arm = np.argmax(theta)\n",
    "best_arm"
   ]
  },
  {
   "cell_type": "code",
   "execution_count": 4,
   "metadata": {
    "collapsed": false
   },
   "outputs": [
    {
     "data": {
      "text/plain": [
       "0.57773846658550476"
      ]
     },
     "execution_count": 4,
     "metadata": {},
     "output_type": "execute_result"
    }
   ],
   "source": [
    "average_theta = np.mean(theta)\n",
    "average_theta"
   ]
  },
  {
   "cell_type": "code",
   "execution_count": 5,
   "metadata": {
    "collapsed": false
   },
   "outputs": [
    {
     "data": {
      "text/plain": [
       "array([ 0.99015404,  0.16532289])"
      ]
     },
     "execution_count": 5,
     "metadata": {},
     "output_type": "execute_result"
    }
   ],
   "source": [
    "theta"
   ]
  },
  {
   "cell_type": "code",
   "execution_count": 6,
   "metadata": {
    "collapsed": false
   },
   "outputs": [],
   "source": [
    "#convert arm to response depending on theta\n",
    "def is_conversion(choice,_bool=True,theta=theta):\n",
    "    if np.random.random() < theta[choice]:\n",
    "        _return = True\n",
    "    else:\n",
    "        _return = False\n",
    "    if _bool == False:\n",
    "        _return = 1*_return\n",
    "    else:\n",
    "        print('a')\n",
    "        \n",
    "    return _return"
   ]
  },
  {
   "cell_type": "markdown",
   "metadata": {},
   "source": [
    "## A/B testing\n",
    "\n",
    "A/B testing is basically what every psychology student does in their (experimental) thesis work: Sample a finite amount of Data and then decide which treatment (or hypothesis) is better. \n",
    "\n",
    "While it seems that A/B testing could theoretically be done 'online', i.e. with continuous computation of results this is quite a shitty thing to do. Often A/B tests use significance testing as stop criterion to determine whether to continue the exploration phase or start exploiting. However, 'peeking' at your Data during an ongoing experiment is a bad idea for several reasons [see e.g. [cite1]]. If you don't use significance test, though, there's going to be a problem it the rewards of the arms are really close together, or seem really close together in your exploration phase: Then the arm for the exploitation phase might be chosen really wrong.\n",
    "Long story short: If you are serious with what you want to achieve, don't use A/B testing 'online'. Conduct your experiment and then go exploit. \n",
    "\n",
    "You also sacrifice half of your control group, which some other algorithms don't (necessarily).\n",
    "\n",
    "Since it's not online (Don't!), we can't really react to changing envoironments and might bring in systematic errors (Kaptein 2015 introduces the case of a phone company that lets people chose between beer cooler and smartphone when switching and is super surprised that their A/B test shows that the beer cooler gives way higher returns, though being significantly cheaper. In this case the first 10k people who will open the email-ad, as Kaptein argues, do pretty likely already own a smartphone since they access it so fast, while the rest of the people might have to look at the email on their PC, with sadness in their eyes because they neither own a smartphone nor friends with whom they might share a cool beer. This got dark pretty quick.).\n",
    "\n",
    "\n",
    "Oh yeah, it's called A/B testing, by the way, not A/B/C testing, and that's kinda for a reason: you can implement some quirky one vs one approach and test A/B and the winner against C, but... Why bother.\n",
    "\n",
    "Also, most of the other algorithms can incorporate new versions pretty well. Immagine thinking about switching the color of your header and having to do fairly extensive testing before harvesting the payoff.\n",
    "\n",
    "Here's one implementation:"
   ]
  },
  {
   "cell_type": "code",
   "execution_count": 7,
   "metadata": {
    "collapsed": false
   },
   "outputs": [],
   "source": [
    "class AB(object):\n",
    "    def __init__(self,n_needed):\n",
    "        self.values = np.zeros(shape=(2,))\n",
    "        self.trials = np.zeros(shape=(2,)) \n",
    "        self.successes = np.zeros(shape=(2,))\n",
    "        self.n_run = 0\n",
    "        self.n_needed = n_needed\n",
    "        \n",
    "    def choose_arm(self):\n",
    "        #many people something like if A significantly better than B stop\n",
    "        #but that's stupid. If you want to do that, compute the estimated n\n",
    "        #that you'll need for your test and then stick with it.\n",
    "        if self.n_run < self.n_needed:\n",
    "            arm = self.test()\n",
    "            \n",
    "        else:\n",
    "            arm = self.exploit()\n",
    "        self.n_run = self.n_run +1\n",
    "        return arm\n",
    "            \n",
    "    def test(self):\n",
    "        if np.random.random() <.5:\n",
    "            return 0\n",
    "        else:\n",
    "            return 1\n",
    "        \n",
    "    def update(self,arm,success):\n",
    "        self.trials[arm] = self.trials[arm] +1\n",
    "        \n",
    "        if success:\n",
    "            self.successes[arm] = self.successes[arm] +1\n",
    "            \n",
    "        self.values[arm] = self.successes[arm]/self.trials[arm]\n",
    "        \n",
    "        \n",
    "                \n",
    "        if success:\n",
    "            self.successes[arm] = self.successes[arm] +1\n",
    "        \n",
    "        \n",
    "    def exploit(self):\n",
    "        return np.argmax(self.values)\n",
    "        "
   ]
  },
  {
   "cell_type": "markdown",
   "metadata": {},
   "source": [
    "## epsilon greedy\n",
    "\n",
    "Epsilon Greedy can be explained as an 'extended version of A/B testing'. However, that's not exactly true.\n",
    "The Idea behind is easy and intuitively follows from 'explore vs exploit': There are two possible ways the algorithm can work, and which one is used is determined by epsilon (thus the name). With probability $\\epsilon$, the algorithm performs an experiment (i.e. draws one random arm and records the outcome), with probability 1-$\\epsilon$ the algorithm just plays the arm that had the best payoff so far (i.e. the one with the best ratio of reward/draws).\n",
    "\n",
    "There are smart implementations that use a decaying epsilon (making exploitation more likely as experience is gained) that perform reasonably well (since it's actually a cool idea)."
   ]
  },
  {
   "cell_type": "code",
   "execution_count": 8,
   "metadata": {
    "collapsed": true
   },
   "outputs": [],
   "source": [
    "import numpy as np\n",
    "\n",
    "class EpsilonGreedy(object):\n",
    "    def __init__(self,n_arms,epsilon_decay=50):\n",
    "        self.counts = [0] * n_arms  # example: number of views\n",
    "        self.values = [0.] * n_arms # example: number of clicks / views\n",
    "        self.decay = epsilon_decay\n",
    "        self.n = n_arms\n",
    "\n",
    "    def choose_arm(self):\n",
    "        \"\"\"Choose an arm for testing\"\"\"\n",
    "        epsilon = self.get_epsilon()\n",
    "        if np.random.random() > epsilon:\n",
    "            # Exploit (use best arm)\n",
    "            return np.argmax(self.values)\n",
    "        else:\n",
    "            # Explore (test all arms)\n",
    "            return np.random.randint(self.n)\n",
    "\n",
    "    def update(self,arm,reward):\n",
    "        \"\"\"Update an arm with some reward value\"\"\" # Example: click = 1; no click = 0\n",
    "        self.counts[arm] = self.counts[arm] + 1\n",
    "        n = self.counts[arm]\n",
    "        value = self.values[arm]\n",
    "        # Running product\n",
    "        new_value = ((n - 1) / float(n)) * value + (1 / float(n)) * reward\n",
    "        self.values[arm] = new_value\n",
    "\n",
    "    def get_epsilon(self):\n",
    "        \"\"\"Produce epsilon\"\"\"\n",
    "        total = np.sum(self.counts)\n",
    "        return float(self.decay) / (total + float(self.decay))\n",
    "        #return(.5)"
   ]
  },
  {
   "cell_type": "markdown",
   "metadata": {},
   "source": [
    "## UCB\n",
    "\n",
    "UCB stands for 'Upper confidence Bounded', it is an example for an algorithm that plays the arm with the highest plausible reward. \n",
    "\n"
   ]
  },
  {
   "cell_type": "code",
   "execution_count": 9,
   "metadata": {
    "collapsed": false
   },
   "outputs": [],
   "source": [
    "class UCB(object):\n",
    "    def __init__(self,num_options =2):\n",
    "        self.num_options = num_options\n",
    "        self.trials = np.zeros(shape=(num_options,))\n",
    "        self.successes = np.zeros(shape=(num_options,))\n",
    "        self.values = np.zeros(shape=(num_options,))\n",
    "        \n",
    "        \n",
    "    def update(self,arm,success):\n",
    "        self.trials[arm] = self.trials[arm] +1\n",
    "        \n",
    "        if success:\n",
    "            self.successes[arm] = self.successes[arm] +1\n",
    "            \n",
    "        self.values[arm] = np.sum(self.successes[arm])/np.sum(self.trials[arm])+(\n",
    "            2*np.log(len(self.trials)))/np.sum(self.trials[arm])**(1/2)\n",
    "        \n",
    "        \n",
    "        \n",
    "    def choose_arm(self):\n",
    "        return np.argmax(self.values)\n",
    "        "
   ]
  },
  {
   "cell_type": "markdown",
   "metadata": {},
   "source": [
    "## Thompson Sampling\n",
    "\n",
    "Thompson Sampling is just incredibly genius. \n",
    "\n",
    "In our example, each of the arms is assigned a beta distribution. There are other distributions that can be used, but the Beta is reliable and easy to use and generally awesome (remember the beta-binomial conjugate prior: the parameters of the beta-distribution are just the #trials and #successes). Then the algorithm samples expected payoff from each of the distributions and the arm that produces the highest theoretical payoff is played. The outcome is saved.\n",
    "\n",
    "Please take a moment to think about how genius that is. Since the Beta Distribution is a...well Distribution, it will occasionally happen that one of the arms are played that are considered suboptimal, thus the experiment never ends. Also, less frequently played options' distributions kinda stretch out further than even often-rewawrded options, so you will actually very likely find the right one pretty quick.\n",
    "\n",
    "Additionally, that thing is fully bayesian, with all the perks that come with that (priors, everyone?).\n",
    "\n",
    "Adding a decay rate into update()   \n",
    "\n",
    "        self.trials[arm] = decay_rate*self.trials[arm] +1\n",
    "        #count number of successes on that arm\n",
    "        if success:\n",
    "            self.successes[arm] = decay_rate*self.successes[arm] +1\n",
    "                        \n",
    "leads to awesome effects: decay rate < 0 means that older examples will be forgot faster, making the player more adaptable to changes (though it's actually already pretty adaptable). \n",
    "Decay rates of more than 0 will lead to relative 'bold' behaviour: early examples are overweighted. Not sure why you'd want that, but it's possible."
   ]
  },
  {
   "cell_type": "code",
   "execution_count": 10,
   "metadata": {
    "collapsed": false
   },
   "outputs": [],
   "source": [
    "class BetaBandit(object):\n",
    "    def __init__(self, num_options = 2, prior = None):\n",
    "        \"\"\"initialize BetaBandit\"\"\"\n",
    "        self.num_options = num_options\n",
    "        if prior == None:\n",
    "            self.prior = np.ones(shape=(num_options,2))\n",
    "        else:\n",
    "            self.prior = prior\n",
    "        self.trials = np.zeros(shape=(num_options,))\n",
    "        self.successes = np.zeros(shape=(num_options,))\n",
    "        \n",
    "        \n",
    "    def update(self,arm,success):\n",
    "        \"\"\"update beta-parameters of specific arm\"\"\"\n",
    "        #count times arm has been drawn\"\"\"\n",
    "        self.trials[arm] = self.trials[arm] +1\n",
    "        #count number of successes on that arm\"\"\"\n",
    "        if success:\n",
    "            self.successes[arm] = self.successes[arm] +1\n",
    "            \n",
    "\n",
    "    def choose_arm(self):\n",
    "        \"\"\"draw from arms.\n",
    "        arm with the highest expected outcome wins. \n",
    "        expected outcome is determined stochastically, so even an arm with bad \n",
    "        outcome until now will have a chance of being drawn\"\"\"\n",
    "        sampled_theta=[]\n",
    "        for i in range(self.num_options):\n",
    "\n",
    "            dist = stats.beta(self.prior[i,0]+self.successes[i], \n",
    "                              self.prior[i,1]+self.trials[i] - self.successes[i])\n",
    "                \n",
    "            #print(dist.rvs())\n",
    "            sampled_theta += [dist.rvs()]\n",
    "      \n",
    "        return(sampled_theta.index(max(sampled_theta)))\n",
    "\n",
    "    def plot_betas(self):\n",
    "        \"\"\"plot the distributions that underly the arms\"\"\"\n",
    "        \n",
    "        w = 10\n",
    "        z = 5\n",
    "        colors = iter(cm.rainbow(np.linspace(0, 1, self.num_options)))\n",
    "            \n",
    "        for k,i in enumerate(range(self.num_options)):\n",
    "                color = next(colors)\n",
    "\n",
    "                dist = stats.beta(self.prior[i,0] + self.successes[i],\n",
    "                            self.prior[i,1] + self.trials[i] - self.successes[i])\n",
    "                x = np.linspace(0,1,100)\n",
    "                y = dist.pdf(x)\n",
    "                plt.plot(x,y,color=color,label=\"arm #%i\"%(i+1))\n",
    "                plt.fill_between(x,0,y,alpha=1/self.num_options,color=color)\n",
    "                leg = plt.legend()\n",
    "                plt.tight_layout\n",
    "                "
   ]
  },
  {
   "cell_type": "markdown",
   "metadata": {},
   "source": [
    "## Comparisson\n",
    "\n",
    "### epsilon greedy\n",
    "\n",
    "Thompson sampling might in practice work a bit better early in the game if the distinction between the arms are large (say .5,.9),mainly because it will tend to pick the better arm relatively fast because it isn't forced to randomly choose every .1 or so trial. \n",
    "\n",
    "Over longer timespan, thompson sampling will dominate epsilon greedy in many cases because of the 10% rule, which means that in 10% - (10-1/k)% the non-optimal arm will be played. However, adding a decaying epsilon will reduce or eliminate that problematique.\n",
    "\n"
   ]
  },
  {
   "cell_type": "markdown",
   "metadata": {},
   "source": [
    "## how to compare"
   ]
  },
  {
   "cell_type": "code",
   "execution_count": 11,
   "metadata": {
    "collapsed": true
   },
   "outputs": [],
   "source": [
    "def test_application(app,plot = False):\n",
    "    arms = []\n",
    "    outcomes = []\n",
    "    for i in range(N):\n",
    "        arm = app.choose_arm()\n",
    "        arms += [arm]\n",
    "        outcome = is_conversion(arm,_bool=False)\n",
    "        outcomes += [outcome]\n",
    "        app.update(arm,outcome)\n",
    "    regret = np.sum(outcomes - np.ones(shape=(N,))*theta[best_arm])\n",
    "    if plot ==True:\n",
    "        plt.plot(np.cumsum( np.ones(shape=(N,))*theta[best_arm] -outcomes ),label='regret')#is_conversion(best_arm,_bool=False)))\n",
    "       # plt.plot(np.cumsum( np.ones(shape=(N,))*theta[best_arm] - np.ones(shape=(N,))*average_theta),label = 'average_regret')\n",
    "        plt.title(str(type(app)))\n",
    "        leg = plt.legend()\n",
    "        plt.tight_layout()\n",
    "        plt.show()\n",
    "    return regret"
   ]
  },
  {
   "cell_type": "code",
   "execution_count": 12,
   "metadata": {
    "collapsed": false
   },
   "outputs": [],
   "source": [
    "iterations = 100\n",
    "\n",
    "\n",
    "for trial in range(iterations):\n",
    "\n",
    "    eg = EpsilonGreedy(n_arms = num_options)\n",
    "    bb = BetaBandit(num_options = num_options)\n",
    "    ab = AB(1000)  \n",
    "    ucb = UCB()\n",
    "    N = 10000\n",
    "    plot = False\n",
    "    #test_application(eg)\n",
    "    applist = [ab,eg,ucb,bb]\n",
    "    regret = np.zeros(shape=(len(applist),iterations))\n",
    "\n",
    "    for k,app in enumerate(applist):\n",
    "        if plot == True:\n",
    "            sx = plt.subplot(3,1,k)\n",
    "        regret[k,trial] = test_application(app,plot = plot)"
   ]
  },
  {
   "cell_type": "code",
   "execution_count": 13,
   "metadata": {
    "collapsed": false
   },
   "outputs": [
    {
     "data": {
      "text/plain": [
       "array([-418.54040406, -113.54040406,   -0.54040406,   11.45959594])"
      ]
     },
     "execution_count": 13,
     "metadata": {},
     "output_type": "execute_result"
    }
   ],
   "source": [
    "regret.sum(axis=1)\n"
   ]
  },
  {
   "cell_type": "code",
   "execution_count": 14,
   "metadata": {
    "collapsed": false
   },
   "outputs": [
    {
     "data": {
      "image/png": "[encoded data removed]",
      "text/plain": [
       "<matplotlib.figure.Figure at 0x7fd31224aac8>"
      ]
     },
     "metadata": {},
     "output_type": "display_data"
    }
   ],
   "source": [
    "bb.plot_betas()"
   ]
  },
  {
   "cell_type": "code",
   "execution_count": 15,
   "metadata": {
    "collapsed": false
   },
   "outputs": [
    {
     "data": {
      "text/plain": [
       "array([ 9913.,     0.])"
      ]
     },
     "execution_count": 15,
     "metadata": {},
     "output_type": "execute_result"
    }
   ],
   "source": [
    "bb.successes\n"
   ]
  },
  {
   "cell_type": "code",
   "execution_count": 16,
   "metadata": {
    "collapsed": false
   },
   "outputs": [
    {
     "data": {
      "text/plain": [
       "array([ 0.99015404,  0.16532289])"
      ]
     },
     "execution_count": 16,
     "metadata": {},
     "output_type": "execute_result"
    }
   ],
   "source": [
    "theta"
   ]
  },
  {
   "cell_type": "markdown",
   "metadata": {},
   "source": [
    "## Plotting the regret of different approaches"
   ]
  },
  {
   "cell_type": "code",
   "execution_count": 17,
   "metadata": {
    "collapsed": false
   },
   "outputs": [
    {
     "name": "stderr",
     "output_type": "stream",
     "text": [
      "/home/thomas/anaconda3/lib/python3.4/site-packages/matplotlib/axes/_subplots.py:69: MatplotlibDeprecationWarning: The use of 0 (which ends up being the _last_ sub-plot) is deprecated in 1.4 and will raise an error in 1.5\n",
      "  mplDeprecation)\n"
     ]
    },
    {
     "data": {
      "image/png": "[encoded data removed]",
      "text/plain": [
       "<matplotlib.figure.Figure at 0x7fd3121f9b00>"
      ]
     },
     "metadata": {},
     "output_type": "display_data"
    },
    {
     "data": {
      "image/png": "[encoded data removed]",
      "text/plain": [
       "<matplotlib.figure.Figure at 0x7fd3120f6d30>"
      ]
     },
     "metadata": {},
     "output_type": "display_data"
    },
    {
     "data": {
      "image/png": "[encoded data removed]",
      "text/plain": [
       "<matplotlib.figure.Figure at 0x7fd312015b38>"
      ]
     },
     "metadata": {},
     "output_type": "display_data"
    },
    {
     "data": {
      "image/png": "[encoded data removed]",
      "text/plain": [
       "<matplotlib.figure.Figure at 0x7fd3120d8860>"
      ]
     },
     "metadata": {},
     "output_type": "display_data"
    }
   ],
   "source": [
    "    eg = EpsilonGreedy(n_arms = num_options)\n",
    "    bb = BetaBandit(num_options = num_options)\n",
    "    ab = AB(1000)  \n",
    "    ucb = UCB()\n",
    "    N = 10000\n",
    "    plot = True\n",
    "    #test_application(eg)\n",
    "    applist = [ab,eg,ucb,bb]\n",
    "    regret = np.zeros(shape=(len(applist),iterations))\n",
    "\n",
    "    for k,app in enumerate(applist):\n",
    "        if plot == True:\n",
    "            sx = plt.subplot(3,1,k)\n",
    "        regret[k,trial] = test_application(app,plot = plot)"
   ]
  },
  {
   "cell_type": "markdown",
   "metadata": {
    "collapsed": true
   },
   "source": [
    "The algorithms were run 100 times each over 10000 samples, obtaining the numbers from cell [13]. The plots depict the regret over a single example run.\n",
    "\n",
    "As we can see, the regret of A/B testing is the highest, which is due to the hard coded exploration phase in it's beginning. Note, however, that with A/B testing it MIGHT have happened that we choose the wrong arm and stick with it, in which case the regret would be maximal.\n",
    "\n",
    "Epsilon Greedy performs better than A/B testing, which is also as expected, since it tries to diminish the negative effects of the eyplorations phase and tends to converge to the exploitation phase faster.\n",
    "\n",
    "UCB and Thompson sampling perform very well in this situation. In the particular run that was plotted, they both achieve $\\textit{negative}$ regret. This is due to the statistical nature of the \"optimal\" arm; it seems both Thompson Sampling and UCB got lucky. However, the regret is expected to be near the optimum most of the time. \n"
   ]
  },
  {
   "cell_type": "code",
   "execution_count": null,
   "metadata": {
    "collapsed": true
   },
   "outputs": [],
   "source": []
  }
 ],
 "metadata": {
  "kernelspec": {
   "display_name": "Python 3",
   "language": "python",
   "name": "python3"
  },
  "language_info": {
   "codemirror_mode": {
    "name": "ipython",
    "version": 3
   },
   "file_extension": ".py",
   "mimetype": "text/x-python",
   "name": "python",
   "nbconvert_exporter": "python",
   "pygments_lexer": "ipython3",
   "version": "3.4.3"
  }
 },
 "nbformat": 4,
 "nbformat_minor": 0
}

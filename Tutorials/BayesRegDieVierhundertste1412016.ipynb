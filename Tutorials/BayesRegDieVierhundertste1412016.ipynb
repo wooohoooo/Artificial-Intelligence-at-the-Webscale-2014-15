{
 "cells": [
  {
   "cell_type": "code",
   "execution_count": 1,
   "metadata": {
    "collapsed": true
   },
   "outputs": [],
   "source": [
    "import numpy as np\n",
    "import matplotlib.pyplot as plt\n",
    "from IPython.core.pylabtools import figsize\n",
    "%matplotlib inline\n",
    "import scipy.stats as stats\n",
    "import seaborn as sns; sns.set_context('notebook')\n",
    "figsize=(45,10)\n",
    "from IPython.core.pylabtools import figsize\n",
    "figsize(14.5,6.5)\n",
    "from sklearn import linear_model\n"
   ]
  },
  {
   "cell_type": "markdown",
   "metadata": {},
   "source": [
    "\n",
    "# Linear Bandit Solver"
   ]
  },
  {
   "cell_type": "markdown",
   "metadata": {},
   "source": [
    "### Bayesian Linear Regression\n",
    "\n",
    "The Idea is to combine thompson sampling with a linear model in order to utilize the context that is given by the world.\n",
    "\n",
    "In order to understand how a linear model and thompson sapling go together, we'll first do a short excursion towards Bayesian linear Regression:\n"
   ]
  },
  {
   "cell_type": "code",
   "execution_count": 2,
   "metadata": {
    "collapsed": false
   },
   "outputs": [
    {
     "name": "stdout",
     "output_type": "stream",
     "text": [
      "[[ 77.5 ]\n",
      " [ 43.75]\n",
      " [ 55.  ]] [ 2403.15471688  1859.85931993  2171.90917821]\n"
     ]
    },
    {
     "data": {
      "text/plain": [
       "(25, 1)"
      ]
     },
     "execution_count": 2,
     "metadata": {},
     "output_type": "execute_result"
    },
    {
     "name": "stderr",
     "output_type": "stream",
     "text": [
      "C:\\Users\\Trost\\Anaconda3\\lib\\site-packages\\matplotlib\\collections.py:590: FutureWarning: elementwise comparison failed; returning scalar instead, but in the future will perform elementwise comparison\n",
      "  if self._edgecolors == str('face'):\n"
     ]
    },
    {
     "data": {
      "image/png": "[encoded data removed]",
      "text/plain": [
       "<matplotlib.figure.Figure at 0x6d28cc0>"
      ]
     },
     "metadata": {},
     "output_type": "display_data"
    }
   ],
   "source": [
    "num_features = 1\n",
    "num_data = 25\n",
    "\n",
    "from sklearn.datasets import make_regression \n",
    "\n",
    "X1 = np.zeros((num_data,num_features))\n",
    "for i in range(num_features):\n",
    "    X1[:,i] = np.linspace(10,100,num_data).T\n",
    "\n",
    "np.random.shuffle(X1)\n",
    "def evaluate(X):\n",
    "    y = 0\n",
    "    #coefs = np.random.normal(0,10,X.shape[0])\n",
    "    try:\n",
    "        for i in range(X.shape[0]):\n",
    "            np.random.seed(i)\n",
    "            y += X[i]*np.random.normal(0,10)\n",
    "        return y\n",
    "    \n",
    "    except:\n",
    "        print('ex')\n",
    "        return  X*12\n",
    "y1 = []\n",
    "for i in range(num_data):\n",
    "    y1 += [evaluate(X1[i,:])]\n",
    "y1 = np.array(y1).flatten()+np.random.normal(0,90,X1.shape[0])\n",
    "\n",
    "X,y,coef = make_regression(num_data,num_features,noise   = 20,shuffle=True, coef = True)\n",
    "y = -y\n",
    "X = X1\n",
    "y = y1\n",
    "y = y+1000\n",
    "print(X[:3],y[:3])\n",
    "if num_features ==1:\n",
    "    plt.scatter(X,y,color = 'blue')\n",
    "    \n",
    "\n",
    "X.shape"
   ]
  },
  {
   "cell_type": "code",
   "execution_count": 3,
   "metadata": {
    "collapsed": false
   },
   "outputs": [
    {
     "data": {
      "text/plain": [
       "(25, 1)"
      ]
     },
     "execution_count": 3,
     "metadata": {},
     "output_type": "execute_result"
    }
   ],
   "source": [
    "X.shape"
   ]
  },
  {
   "cell_type": "code",
   "execution_count": 4,
   "metadata": {
    "collapsed": false
   },
   "outputs": [],
   "source": [
    "class BayesRegr(object):\n",
    "    def __init__(self,num_features,alpha = .1,beta = .1,v=100,fit_intercept=False):\n",
    "        self.fit_intercept = fit_intercept\n",
    "        self.num_features = num_features\n",
    "        if self.fit_intercept == True:\n",
    "            self.num_features += 1\n",
    "            \n",
    "        self.B = np.eye(self.num_features)*alpha\n",
    "        self.Binv = np.linalg.inv(self.B)\n",
    "        #print(self.num_features)\n",
    "        self.f = np.atleast_2d(np.zeros(self.num_features))#np.array([0,0]) #np.zeros(shape=(num_features,))\n",
    "        #print(self.f)\n",
    "        self.mu = np.zeros(num_features)\n",
    "        self.beta = beta\n",
    "        self.v = v\n",
    "        \n",
    "    def add_intercept(self,X):\n",
    "        if self.fit_intercept==False:\n",
    "            return X\n",
    "        else:\n",
    "            X_new= np.atleast_2d(np.insert(X,0,1))\n",
    "            #print(X_new.shape)\n",
    "            #print(X_new.T.shape)\n",
    "            return X_new.T#np.atleast_2d(np.append(X[::-1],1))#[::-1])    \n",
    "    def observe_x(self,x,y):\n",
    "        y = np.atleast_2d(y)\n",
    "        x = self.add_intercept(x)\n",
    "        #print(self.B.shape,x.shape)\n",
    "\n",
    "        self.B += np.outer(x,x)\n",
    "        #print(x.T.shape,y.shape)\n",
    "        #print(np.dot(x,y))\n",
    "        self.f += np.dot(x,y).T\n",
    " \n",
    "        \n",
    "    def train(self,X,y,shuffle = True):\n",
    "        index = list(range(X.shape[0]))\n",
    "        if shuffle ==True:\n",
    "            np.random.shuffle(index)\n",
    "        for i in index:\n",
    "            self.observe_x(X[i],y[i]) \n",
    "            \n",
    "    def predict_ML_x(self,x):\n",
    "        beta = np.linalg.inv(self.B).dot(self.f.T)\n",
    "        x = self.add_intercept(x)\n",
    "        try:\n",
    "            return x.T.dot(beta)[0][0]\n",
    "        except:\n",
    "            y_hat = x*beta\n",
    "            return y_hat[0]\n",
    "\n",
    "        \n",
    "    def predict_ML(self,X):\n",
    "        beta= np.linalg.inv(self.B).dot(self.f.T)\n",
    "\n",
    "        y = []\n",
    "        try:\n",
    "            for i in range(len(X)):\n",
    "                x = X[i]\n",
    "                y += [self.predict_ML_x(x)]\n",
    "                #y +=[x.dot(beta)]\n",
    "                return y\n",
    "        except:\n",
    "            X = self.add_intercept(X)\n",
    "            return X.T.dot(beta)\n",
    "            \n",
    "    def draw(self):\n",
    "        B_inv = np.linalg.inv(self.B)\n",
    "        mu_t = B_inv.dot(self.f.T)\n",
    "        dist = stats.multivariate_normal\n",
    "        #print(mu_t.shape,B_inv)\n",
    "        return dist.rvs(mean=mu_t.flatten(),cov=self.v**2*B_inv)\n",
    "\n",
    "        "
   ]
  },
  {
   "cell_type": "code",
   "execution_count": 5,
   "metadata": {
    "collapsed": false
   },
   "outputs": [
    {
     "name": "stdout",
     "output_type": "stream",
     "text": [
      "error of ols: 244766, \n",
      "error of predictive mean: 246915\n"
     ]
    },
    {
     "name": "stderr",
     "output_type": "stream",
     "text": [
      "C:\\Users\\Trost\\Anaconda3\\lib\\site-packages\\matplotlib\\collections.py:590: FutureWarning: elementwise comparison failed; returning scalar instead, but in the future will perform elementwise comparison\n",
      "  if self._edgecolors == str('face'):\n"
     ]
    },
    {
     "data": {
      "image/png": "[encoded data removed]",
      "text/plain": [
       "<matplotlib.figure.Figure at 0x6d28b38>"
      ]
     },
     "metadata": {},
     "output_type": "display_data"
    }
   ],
   "source": [
    "regr = linear_model.LinearRegression()\n",
    "regr.fit(X,y)\n",
    "\n",
    "y_hat_2 = regr.predict(X)\n",
    "\n",
    "\n",
    "test = BayesRegr(num_features,fit_intercept=True)\n",
    "test.train(X,y)\n",
    "\n",
    "y_hat = []\n",
    "for i in range(num_data):\n",
    "    y_hat += [test.predict_ML_x(X[i])]\n",
    "    \n",
    "y_hat = np.array(y_hat) \n",
    "\n",
    "if num_features == 1:\n",
    "    plt.scatter(X,y)\n",
    "    plt.plot(X,y_hat,color = 'r')\n",
    "\n",
    "print('error of ols: %i, \\nerror of predictive mean: %i'%(round(np.sum((y - y_hat_2)**2)),round(np.sum((y - y_hat)**2))))\n",
    "\n"
   ]
  },
  {
   "cell_type": "code",
   "execution_count": 6,
   "metadata": {
    "collapsed": false
   },
   "outputs": [],
   "source": [
    "draw_list = []"
   ]
  },
  {
   "cell_type": "code",
   "execution_count": 7,
   "metadata": {
    "collapsed": false
   },
   "outputs": [
    {
     "name": "stderr",
     "output_type": "stream",
     "text": [
      "C:\\Users\\Trost\\Anaconda3\\lib\\site-packages\\matplotlib\\collections.py:590: FutureWarning: elementwise comparison failed; returning scalar instead, but in the future will perform elementwise comparison\n",
      "  if self._edgecolors == str('face'):\n"
     ]
    },
    {
     "data": {
      "image/png": "[encoded data removed]",
      "text/plain": [
       "<matplotlib.figure.Figure at 0xa27d2b0>"
      ]
     },
     "metadata": {},
     "output_type": "display_data"
    }
   ],
   "source": [
    "if num_features ==1:\n",
    "    num_draws = 10\n",
    "    plt.scatter(X,y)\n",
    "\n",
    "    plt.plot(X,regr.predict(X),label = 'ols',alpha=.3)\n",
    "    plt.scatter(X,y_hat,color = 'r',label = 'ML')\n",
    "\n",
    "\n",
    "    y_hat = []\n",
    "    for i in range(num_data):\n",
    "        y_hat += [test.predict_ML_x(X[i])]\n",
    "\n",
    "    y_hat = np.array(y_hat) \n",
    "\n",
    "    plt.plot(X,y_hat,label='bandit')\n",
    "    #plt.plot(X,X*beta,label='stream')\n",
    "\n",
    "    for i in range(num_draws-1):\n",
    "        w = test.draw()\n",
    "        draw_list += [w]\n",
    "    #plt.plot(X,X*w,label='draws')\n",
    "    #draw = w.dot(test.add_intercept(X[1]))\n",
    "    #draw_list +=[draw]\n",
    "\n",
    "        plt.plot(X,w[0]+w[1]*X,color = 'y')\n",
    "    plt.plot(X,w[0]+w[1]*X,label='draw',color = 'y')\n",
    "\n",
    "    plt.legend()\n"
   ]
  },
  {
   "cell_type": "code",
   "execution_count": null,
   "metadata": {
    "collapsed": true
   },
   "outputs": [],
   "source": []
  },
  {
   "cell_type": "code",
   "execution_count": null,
   "metadata": {
    "collapsed": true
   },
   "outputs": [],
   "source": []
  },
  {
   "cell_type": "code",
   "execution_count": null,
   "metadata": {
    "collapsed": true
   },
   "outputs": [],
   "source": []
  },
  {
   "cell_type": "code",
   "execution_count": null,
   "metadata": {
    "collapsed": true
   },
   "outputs": [],
   "source": []
  },
  {
   "cell_type": "code",
   "execution_count": null,
   "metadata": {
    "collapsed": true
   },
   "outputs": [],
   "source": []
  },
  {
   "cell_type": "code",
   "execution_count": null,
   "metadata": {
    "collapsed": true
   },
   "outputs": [],
   "source": []
  },
  {
   "cell_type": "code",
   "execution_count": null,
   "metadata": {
    "collapsed": true
   },
   "outputs": [],
   "source": []
  },
  {
   "cell_type": "code",
   "execution_count": null,
   "metadata": {
    "collapsed": true
   },
   "outputs": [],
   "source": []
  },
  {
   "cell_type": "code",
   "execution_count": null,
   "metadata": {
    "collapsed": true
   },
   "outputs": [],
   "source": []
  },
  {
   "cell_type": "code",
   "execution_count": null,
   "metadata": {
    "collapsed": true
   },
   "outputs": [],
   "source": []
  },
  {
   "cell_type": "code",
   "execution_count": null,
   "metadata": {
    "collapsed": true
   },
   "outputs": [],
   "source": []
  },
  {
   "cell_type": "code",
   "execution_count": null,
   "metadata": {
    "collapsed": true
   },
   "outputs": [],
   "source": []
  },
  {
   "cell_type": "code",
   "execution_count": null,
   "metadata": {
    "collapsed": true
   },
   "outputs": [],
   "source": []
  },
  {
   "cell_type": "code",
   "execution_count": null,
   "metadata": {
    "collapsed": true
   },
   "outputs": [],
   "source": []
  },
  {
   "cell_type": "code",
   "execution_count": null,
   "metadata": {
    "collapsed": true
   },
   "outputs": [],
   "source": [
    "\n",
    "\n",
    "\n",
    "\n",
    "def regr(x,y,A,b):\n",
    "    #x = add_intercept(x)\n",
    "    #x = np.insert(x,0,1)\n",
    "    A += np.outer(x,x)[0]\n",
    "    b += np.inner(x,y)\n",
    "    return A,b\n",
    "\n",
    "A = 0\n",
    "b = 0\n",
    "\n",
    "for i in range(len(y)):\n",
    "    A,b = regr(X[i],y[i],A,b)\n",
    "    \n",
    "    \n",
    "beta = 1/A * b\n",
    "beta\n",
    "\n",
    "\n",
    "\n",
    "\n",
    "plt.scatter(X,y)\n",
    "\n",
    "plt.plot(X,X*beta,label='stream')\n",
    "\n",
    "plt.legend()"
   ]
  }
 ],
 "metadata": {
  "kernelspec": {
   "display_name": "Python 3",
   "language": "python",
   "name": "python3"
  },
  "language_info": {
   "codemirror_mode": {
    "name": "ipython",
    "version": 3
   },
   "file_extension": ".py",
   "mimetype": "text/x-python",
   "name": "python",
   "nbconvert_exporter": "python",
   "pygments_lexer": "ipython3",
   "version": "3.4.3"
  }
 },
 "nbformat": 4,
 "nbformat_minor": 0
}

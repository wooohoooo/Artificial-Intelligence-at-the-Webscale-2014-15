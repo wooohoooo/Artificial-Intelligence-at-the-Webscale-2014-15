{
 "cells": [
  {
   "cell_type": "code",
   "execution_count": 177,
   "metadata": {
    "collapsed": true
   },
   "outputs": [],
   "source": [
    "from sklearn.datasets import make_regression \n",
    "import numpy as np\n",
    "import matplotlib.pyplot as plt\n",
    "%matplotlib inline\n",
    "from IPython.core.pylabtools import figsize\n",
    "figsize(12,5)\n",
    "import scipy.stats as stats"
   ]
  },
  {
   "cell_type": "markdown",
   "metadata": {},
   "source": [
    "# creating a test dataset for the linear thompson sampler \n",
    "\n",
    "Based on this paper (http://jmlr.csail.mit.edu/proceedings/papers/v28/agrawal13.pdf) by Agrawal and Goyal"
   ]
  },
  {
   "cell_type": "code",
   "execution_count": 178,
   "metadata": {
    "collapsed": false
   },
   "outputs": [
    {
     "data": {
      "image/png": "[encoded data removed]",
      "text/plain": [
       "<matplotlib.figure.Figure at 0x7c99940>"
      ]
     },
     "metadata": {},
     "output_type": "display_data"
    }
   ],
   "source": [
    "num_datapoints = 10000\n",
    "num_arms = 2\n",
    "\n",
    "def sigmoid(X):\n",
    "    return 1./(1+np.exp(-X))\n",
    "\n",
    "def evaluate2(X,logistic = False):\n",
    "    if logistic == True:\n",
    "        return np.round(sigmoid(X[0]*10 + X[1]* -50 + np.random.normal(0,5,np.atleast_2d(X).shape[0])))\n",
    "    return 10*X[1]+ X[0]*5 + X[0]*X[1]*5 + 1-X[1] * -20\n",
    "\n",
    "\n",
    "def evaluate(X,simple=True):\n",
    "    simple =True\n",
    "    if simple:\n",
    "        return  X[0]*X[1]*5 +  (1-X[1])*X[0] + (1-X[1])*20 \n",
    "    else:\n",
    "        40+10*X[1]+ X[0]*5 - X[0]*X[1]*50 + 1-X[1] * +40\n",
    "    \n",
    "\n",
    "#def evaluate(X):\n",
    "#    return stats.multivariate_normal.pdf(X,mean=None,cov=1)\n",
    "    \n",
    "\n",
    "X = np.array([np.linspace(.1,10,num_datapoints),np.random.binomial(num_arms-1,.7,num_datapoints)])\n",
    "#X = np.array([np.random.binomial(num_arms-1,.7,num_datapoints),np.random.binomial(num_arms-1,.7,num_datapoints)])\n",
    "\n",
    "y = []\n",
    "for i in range(X.shape[1]):\n",
    "    y += [evaluate(X[:,i])]\n",
    "\n",
    "    \n",
    "y = np.array(y)\n",
    "\n",
    "if num_arms ==2: \n",
    "    plt.plot(X[0][X[1].astype(bool)],y[X[1].astype(bool)],'x',color='red')\n",
    "    plt.plot(X[0][~X[1].astype(bool)],y[~X[1].astype(bool)],'x',color='blue')\n",
    "    \n",
    "else:\n",
    "    plt.plot(X[0],y,'x')\n"
   ]
  },
  {
   "cell_type": "code",
   "execution_count": 179,
   "metadata": {
    "collapsed": false
   },
   "outputs": [
    {
     "data": {
      "text/plain": [
       "array([  0.5       ,  20.1009901 ,   0.50990099, ...,  29.9980198 ,\n",
       "        49.9950495 ,  50.        ])"
      ]
     },
     "execution_count": 179,
     "metadata": {},
     "output_type": "execute_result"
    }
   ],
   "source": [
    "y[:]"
   ]
  },
  {
   "cell_type": "code",
   "execution_count": 180,
   "metadata": {
    "collapsed": false
   },
   "outputs": [
    {
     "data": {
      "text/plain": [
       "20.100990099009902"
      ]
     },
     "execution_count": 180,
     "metadata": {},
     "output_type": "execute_result"
    }
   ],
   "source": [
    "y[1]"
   ]
  },
  {
   "cell_type": "markdown",
   "metadata": {},
   "source": [
    "# linear thompson"
   ]
  },
  {
   "cell_type": "code",
   "execution_count": 181,
   "metadata": {
    "collapsed": false
   },
   "outputs": [],
   "source": [
    "class linear_thompson(object):\n",
    "    def __init__(self,arms = [0,1],mu = None,len_cont = 1,nu_sq = .10,f = 0):\n",
    "        self.num_arms = len(arms)\n",
    "        self.arms = arms\n",
    "        if mu == None: #no prior\n",
    "            self.mu = np.zeros(shape = (self.num_arms-1+len_cont))\n",
    "        else: \n",
    "            self.mu = mu\n",
    "        self.f = np.zeros(self.num_arms-1+len_cont)\n",
    "\n",
    "        self.B = np.eye(self.num_arms-1+len_cont)\n",
    "        self.Binv = np.linalg.inv(self.B)\n",
    "\n",
    "        self.nu_sq = nu_sq\n",
    "        \n",
    "    def make_context(self,arm,context = []):\n",
    "        return np.atleast_2d(arm+context)\n",
    "\n",
    "        \n",
    "    def add_intercept(self,X):\n",
    "        try:\n",
    "            X.shape[1]\n",
    "        except:\n",
    "            X = np.atleast_2d(X)\n",
    "        X_new = np.ones((X.shape[0],X.shape[1]+1),dtype=X.dtype)\n",
    "        X_new[:,1:] = X[:,:]\n",
    "        return X_new\n",
    "    \n",
    "    \n",
    "    \n",
    "    def choose(self, context = []):\n",
    "        \"\"\" L is inverse of matrix v**2 *Binv\n",
    "        self.muc = draw*L + mu\"\"\"\n",
    "        if self.muc is None:\n",
    "            L = np.linalg.cholesky(self.v**2.0 * self.Binv)\n",
    "            norm = np.random.normal(size=self.d)\n",
    "            self.muc = self.mu + np.dot(L, norm)\n",
    "\n",
    "        rewards = np.zeros(self.n_arms)\n",
    "        \"\"\"context is dummy from arms and contexts\"\"\"\n",
    "\n",
    "        for i, arm in enumerate(product(*[range(arm) for arm in self.n_arms])):\n",
    "            b = self.createContext(context, arm)\n",
    "            rewards[arm] = np.dot(b, self.muc)\n",
    "\n",
    "        self.muc = None\n",
    "        return np.unravel_index(np.argmax(rewards), self.n_arms)\n",
    "    \n",
    "    \n",
    "    def select_arm(self,context = []):\n",
    "        \"\"\"context is a list?\"\"\"\n",
    "        samples = []\n",
    "        \n",
    "        L = np.linalg.cholesky(self.nu_sq**2*self.Binv)\n",
    "        norm = np.random.normal(size=self.num_arms)\n",
    "        self.muc = self.mu + np.dot(L,norm)\n",
    "        \n",
    "        for i in range(self.num_arms):\n",
    "            complete_context = self.make_context(self.arms[i],context)\n",
    "            #print(complete_context)\n",
    "            \n",
    "            samples += [np.dot(complete_context,self.muc)]\n",
    "            #print(samples)\n",
    "            \n",
    "        self.muc = None\n",
    "        #print('samples' + str(samples))\n",
    "        return samples.index(max(samples))\n",
    "        #return np.unravel_index(np.argmax(samples), self.n_arms)\n",
    "\n",
    "    \n",
    "    \n",
    "    def update(self,reward,arm,context):\n",
    "        complete_context = self.make_context(self.arms[arm],context)\n",
    "        \n",
    "        self.B = self.B + np.outer(complete_context,complete_context)\n",
    "        self.Binv = np.linalg.inv(self.B)\n",
    "        #print(self.f,complete_context,reward)\n",
    "        self.f = self.f + complete_context*reward\n",
    "        self.f = self.f[0] #what,why\n",
    "        self.mu =  np.dot(self.Binv,self.f)\n",
    "        #print(self.mu)\n",
    "\n",
    "    \n",
    "    \n",
    " \n",
    "        "
   ]
  },
  {
   "cell_type": "code",
   "execution_count": null,
   "metadata": {
    "collapsed": true
   },
   "outputs": [],
   "source": []
  },
  {
   "cell_type": "code",
   "execution_count": 182,
   "metadata": {
    "collapsed": false
   },
   "outputs": [
    {
     "data": {
      "text/plain": [
       "array([ 0.,  0.])"
      ]
     },
     "execution_count": 182,
     "metadata": {},
     "output_type": "execute_result"
    }
   ],
   "source": [
    "th = linear_thompson(arms = [[0],[1]])\n",
    "th.mu"
   ]
  },
  {
   "cell_type": "code",
   "execution_count": 183,
   "metadata": {
    "collapsed": false
   },
   "outputs": [
    {
     "data": {
      "text/plain": [
       "1"
      ]
     },
     "execution_count": 183,
     "metadata": {},
     "output_type": "execute_result"
    }
   ],
   "source": [
    "th.select_arm([0.2])"
   ]
  },
  {
   "cell_type": "code",
   "execution_count": 184,
   "metadata": {
    "collapsed": false
   },
   "outputs": [
    {
     "data": {
      "text/plain": [
       "(1, 1)"
      ]
     },
     "execution_count": 184,
     "metadata": {},
     "output_type": "execute_result"
    }
   ],
   "source": [
    "np.atleast_2d(X[0][0]).shape"
   ]
  },
  {
   "cell_type": "code",
   "execution_count": null,
   "metadata": {
    "collapsed": true
   },
   "outputs": [],
   "source": []
  },
  {
   "cell_type": "code",
   "execution_count": 185,
   "metadata": {
    "collapsed": false
   },
   "outputs": [],
   "source": [
    "simple = False\n",
    "\n",
    "avg_regret_list = []\n",
    "rand_regret_list =[]\n",
    "for i in range(2):\n",
    "    \n",
    "    actual_reward_list = []\n",
    "    optimal_reward_list = []\n",
    "    random_reward_list = []\n",
    "    arm_list = []\n",
    "    for i in range(X.shape[1]):\n",
    "\n",
    "        context = X[0][i]\n",
    "        random_arm = np.random.binomial(1,.5)\n",
    "        random_reward = evaluate([context,random_arm],simple)\n",
    "        random_reward_list += [random_reward]\n",
    "\n",
    "        optimal_reward = evaluate(X[:,i],simple)\n",
    "        optimal_reward_list += [optimal_reward]\n",
    "\n",
    "        arm = th.select_arm([context])\n",
    "        arm_list += [arm]\n",
    "\n",
    "        actual_reward = evaluate([context,arm],simple)\n",
    "        #print(actual_reward)\n",
    "        actual_reward_list += [actual_reward]\n",
    "\n",
    "        th.update(actual_reward,arm,context)\n",
    "\n",
    "    random_reward_list = np.array(random_reward_list)    \n",
    "    optimal_reward_list = np.array(optimal_reward_list)\n",
    "    arm_list = np.array(arm_list)\n",
    "    actual_reward_list = np.array(actual_reward_list)\n",
    "    regret = (actual_reward_list - optimal_reward_list)**2\n",
    "    avg_regret_list += [regret]\n",
    "    random_regret = (random_reward_list - optimal_reward_list)**2\n",
    "    rand_regret_list += [random_regret]\n",
    "\n"
   ]
  },
  {
   "cell_type": "code",
   "execution_count": 186,
   "metadata": {
    "collapsed": false
   },
   "outputs": [
    {
     "data": {
      "image/png": "[encoded data removed]",
      "text/plain": [
       "<matplotlib.figure.Figure at 0x7c0bbe0>"
      ]
     },
     "metadata": {},
     "output_type": "display_data"
    }
   ],
   "source": [
    "plt.plot(np.cumsum(np.mean(avg_regret_list,axis=1)),label='avg')\n",
    "plt.plot(np.cumsum(np.mean(rand_regret_list,axis=1)),label = 'rand')\n",
    "\n",
    "leg = plt.legend()"
   ]
  },
  {
   "cell_type": "code",
   "execution_count": null,
   "metadata": {
    "collapsed": false
   },
   "outputs": [],
   "source": []
  },
  {
   "cell_type": "code",
   "execution_count": null,
   "metadata": {
    "collapsed": false
   },
   "outputs": [],
   "source": []
  },
  {
   "cell_type": "code",
   "execution_count": null,
   "metadata": {
    "collapsed": false
   },
   "outputs": [],
   "source": []
  },
  {
   "cell_type": "code",
   "execution_count": null,
   "metadata": {
    "collapsed": true
   },
   "outputs": [],
   "source": []
  },
  {
   "cell_type": "code",
   "execution_count": null,
   "metadata": {
    "collapsed": true
   },
   "outputs": [],
   "source": []
  }
 ],
 "metadata": {
  "kernelspec": {
   "display_name": "Python 3",
   "language": "python",
   "name": "python3"
  },
  "language_info": {
   "codemirror_mode": {
    "name": "ipython",
    "version": 3
   },
   "file_extension": ".py",
   "mimetype": "text/x-python",
   "name": "python",
   "nbconvert_exporter": "python",
   "pygments_lexer": "ipython3",
   "version": "3.4.3"
  }
 },
 "nbformat": 4,
 "nbformat_minor": 0
}

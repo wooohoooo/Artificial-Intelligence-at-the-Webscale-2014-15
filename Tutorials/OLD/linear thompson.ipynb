{
 "cells": [
  {
   "cell_type": "code",
   "execution_count": 1,
   "metadata": {
    "collapsed": true
   },
   "outputs": [],
   "source": [
    "import numpy as np\n",
    "import scipy.stats as stats\n",
    "import matplotlib.pyplot as plt\n",
    "%matplotlib inline\n",
    "import seaborn as sns; sns.set_context('notebook')\n",
    "figsize=(45,10)\n",
    "from IPython.core.pylabtools import figsize\n",
    "figsize(14.5,10)"
   ]
  },
  {
   "cell_type": "markdown",
   "metadata": {},
   "source": [
    "# the problem"
   ]
  },
  {
   "cell_type": "markdown",
   "metadata": {},
   "source": [
    "log normal seems adequate"
   ]
  },
  {
   "cell_type": "code",
   "execution_count": 2,
   "metadata": {
    "collapsed": true
   },
   "outputs": [],
   "source": [
    "cov = [[1.0, 0.2, 0.3,],\n",
    "       [0.2, 1.0, 0.3,],\n",
    "       [0.3, 0.3, 1.0]]\n",
    "cov = np.array(cov)"
   ]
  },
  {
   "cell_type": "code",
   "execution_count": 3,
   "metadata": {
    "collapsed": true
   },
   "outputs": [],
   "source": [
    "mu  = np.log([0.3, 0.4, 0.5])\n"
   ]
  },
  {
   "cell_type": "code",
   "execution_count": 4,
   "metadata": {
    "collapsed": true
   },
   "outputs": [],
   "source": [
    "rv = np.random.multivariate_normal(mu, cov, size=5)\n",
    "log_rv= np.exp(rv)"
   ]
  },
  {
   "cell_type": "code",
   "execution_count": 5,
   "metadata": {
    "collapsed": false
   },
   "outputs": [
    {
     "data": {
      "text/plain": [
       "array([[ 0.34456982,  1.38267097,  1.04595444],\n",
       "       [ 0.0917394 ,  0.51084997,  0.40555067],\n",
       "       [ 0.23832652,  0.25387664,  0.14578191],\n",
       "       [ 0.18287657,  0.18881772,  0.80504274],\n",
       "       [ 0.03955732,  0.08757163,  0.13878268]])"
      ]
     },
     "execution_count": 5,
     "metadata": {},
     "output_type": "execute_result"
    }
   ],
   "source": [
    "log_rv"
   ]
  },
  {
   "cell_type": "code",
   "execution_count": 6,
   "metadata": {
    "collapsed": false
   },
   "outputs": [
    {
     "data": {
      "text/plain": [
       "0.34456981846934731"
      ]
     },
     "execution_count": 6,
     "metadata": {},
     "output_type": "execute_result"
    }
   ],
   "source": [
    "log_rv[0,0]"
   ]
  },
  {
   "cell_type": "code",
   "execution_count": 7,
   "metadata": {
    "collapsed": false
   },
   "outputs": [],
   "source": [
    "\n",
    "        \n",
    "            \n",
    "        "
   ]
  },
  {
   "cell_type": "code",
   "execution_count": 8,
   "metadata": {
    "collapsed": false
   },
   "outputs": [
    {
     "data": {
      "text/plain": [
       "array([[3, 0, 0],\n",
       "       [0, 3, 0],\n",
       "       [0, 0, 3]])"
      ]
     },
     "execution_count": 8,
     "metadata": {},
     "output_type": "execute_result"
    }
   ],
   "source": [
    "np.diag((3,3,3))"
   ]
  },
  {
   "cell_type": "code",
   "execution_count": 9,
   "metadata": {
    "collapsed": false
   },
   "outputs": [
    {
     "data": {
      "text/plain": [
       "array([ 0.,  0.])"
      ]
     },
     "execution_count": 9,
     "metadata": {},
     "output_type": "execute_result"
    }
   ],
   "source": [
    "np.zeros(shape=(2,))"
   ]
  },
  {
   "cell_type": "code",
   "execution_count": 10,
   "metadata": {
    "collapsed": false
   },
   "outputs": [],
   "source": [
    "a = normal_thompson()"
   ]
  },
  {
   "cell_type": "code",
   "execution_count": 11,
   "metadata": {
    "collapsed": false
   },
   "outputs": [],
   "source": [
    "a.update(1,1,log_rv[1,1])"
   ]
  },
  {
   "cell_type": "code",
   "execution_count": 12,
   "metadata": {
    "collapsed": false
   },
   "outputs": [],
   "source": [
    "a.update(1,1,log_rv[1,2])"
   ]
  },
  {
   "cell_type": "code",
   "execution_count": 13,
   "metadata": {
    "collapsed": true
   },
   "outputs": [],
   "source": [
    "a.update(1,1,log_rv[1,1])"
   ]
  },
  {
   "cell_type": "code",
   "execution_count": 14,
   "metadata": {
    "collapsed": true
   },
   "outputs": [],
   "source": [
    "a.update(1,1,log_rv[2,1])"
   ]
  },
  {
   "cell_type": "code",
   "execution_count": 15,
   "metadata": {
    "collapsed": false
   },
   "outputs": [
    {
     "data": {
      "text/plain": [
       "array([[ 0.        ,  0.        ,  0.        ,  0.        ,  0.        ],\n",
       "       [ 0.        ,  0.42028181,  0.        ,  0.        ,  0.        ],\n",
       "       [ 0.        ,  0.        ,  0.        ,  0.        ,  0.        ]])"
      ]
     },
     "execution_count": 15,
     "metadata": {},
     "output_type": "execute_result"
    }
   ],
   "source": [
    "a.reward"
   ]
  },
  {
   "cell_type": "code",
   "execution_count": 16,
   "metadata": {
    "collapsed": false
   },
   "outputs": [
    {
     "data": {
      "text/plain": [
       "array([[ 0.,  0.,  0.,  0.,  0.],\n",
       "       [ 0.,  4.,  0.,  0.,  0.],\n",
       "       [ 0.,  0.,  0.,  0.,  0.]])"
      ]
     },
     "execution_count": 16,
     "metadata": {},
     "output_type": "execute_result"
    }
   ],
   "source": [
    "a.N"
   ]
  },
  {
   "cell_type": "code",
   "execution_count": 17,
   "metadata": {
    "collapsed": false
   },
   "outputs": [
    {
     "data": {
      "text/plain": [
       "array([[ 10.        ,  10.        ,  10.        ,  10.        ,  10.        ],\n",
       "       [ 10.        ,   0.42198486,  10.        ,  10.        ,  10.        ],\n",
       "       [ 10.        ,  10.        ,  10.        ,  10.        ,  10.        ]])"
      ]
     },
     "execution_count": 17,
     "metadata": {},
     "output_type": "execute_result"
    }
   ],
   "source": [
    "a.std"
   ]
  },
  {
   "cell_type": "code",
   "execution_count": 18,
   "metadata": {
    "collapsed": false
   },
   "outputs": [
    {
     "data": {
      "text/plain": [
       "0"
      ]
     },
     "execution_count": 18,
     "metadata": {},
     "output_type": "execute_result"
    }
   ],
   "source": [
    "a.choose_arm(1)"
   ]
  },
  {
   "cell_type": "code",
   "execution_count": 19,
   "metadata": {
    "collapsed": false
   },
   "outputs": [
    {
     "name": "stderr",
     "output_type": "stream",
     "text": [
      "C:\\Users\\Trost\\Anaconda3\\lib\\site-packages\\matplotlib\\collections.py:590: FutureWarning: elementwise comparison failed; returning scalar instead, but in the future will perform elementwise comparison\n",
      "  if self._edgecolors == str('face'):\n"
     ]
    },
    {
     "data": {
      "image/png": "[encoded data removed]",
      "text/plain": [
       "<matplotlib.figure.Figure at 0x8da9a58>"
      ]
     },
     "metadata": {},
     "output_type": "display_data"
    }
   ],
   "source": [
    "for i in range(1000):\n",
    "    rv = np.random.multivariate_normal(mu, cov, size=5)\n",
    "    log_rv= np.exp(rv)\n",
    "    arm = np.random.randint(0,5)\n",
    "    cont = np.random.randint(0,3)\n",
    "    \n",
    "    a.choose_arm(cont)\n",
    "    reward = log_rv[arm,cont]\n",
    "    a.update(cont,arm,reward)\n",
    "    \n",
    "\n",
    "figsize(14.5,5)\n",
    "plt.pcolor(a.std/a.std.max(axis=0),cmap=plt.cm.Blues)\n",
    "frame1 = plt.gca()\n",
    "\n",
    "#plt.axis('off')\n",
    "frame1.axes.get_xaxis().set_visible(False)\n",
    "frame1.axes.get_yaxis().set_visible(False)\n",
    "#figsize(14.5,10)\n",
    "plt.savefig('whatever_christmas4.png', facecolor='white', edgecolor='k')\n"
   ]
  },
  {
   "cell_type": "code",
   "execution_count": 20,
   "metadata": {
    "collapsed": false
   },
   "outputs": [
    {
     "data": {
      "text/plain": [
       "array([  1.59880978e-03,   2.82216263e-04,   3.73331052e-03,\n",
       "         2.11717749e-05,   2.58645579e-03,   9.15103745e-03,\n",
       "         7.18017731e-02,   6.77608331e-04,   2.98500890e-02,\n",
       "         2.41201128e-03,   9.27324130e-03,   2.62492837e-04,\n",
       "         2.37251686e-02,   2.99850237e-03,   5.18596546e-03])"
      ]
     },
     "execution_count": 20,
     "metadata": {},
     "output_type": "execute_result"
    }
   ],
   "source": [
    "a.std.flatten()"
   ]
  },
  {
   "cell_type": "code",
   "execution_count": 21,
   "metadata": {
    "collapsed": false
   },
   "outputs": [
    {
     "data": {
      "text/plain": [
       "array([[ 0.57783902,  0.73698325,  0.89980812],\n",
       "       [ 0.48746602,  0.66456266,  0.82997314],\n",
       "       [ 0.45631916,  0.58106112,  0.79064559],\n",
       "       [ 0.35981879,  0.56777406,  0.69819661],\n",
       "       [ 0.50732048,  0.63269321,  0.78759743]])"
      ]
     },
     "execution_count": 21,
     "metadata": {},
     "output_type": "execute_result"
    }
   ],
   "source": [
    "a.reward.T"
   ]
  },
  {
   "cell_type": "code",
   "execution_count": 22,
   "metadata": {
    "collapsed": false
   },
   "outputs": [
    {
     "name": "stderr",
     "output_type": "stream",
     "text": [
      "C:\\Users\\Trost\\Anaconda3\\lib\\site-packages\\matplotlib\\collections.py:590: FutureWarning: elementwise comparison failed; returning scalar instead, but in the future will perform elementwise comparison\n",
      "  if self._edgecolors == str('face'):\n"
     ]
    },
    {
     "data": {
      "image/png": "[encoded data removed]",
      "text/plain": [
       "<matplotlib.figure.Figure at 0x8b73240>"
      ]
     },
     "metadata": {},
     "output_type": "display_data"
    }
   ],
   "source": [
    "#fig, ax = plt.subplots()\n",
    "ax = plt.subplot(2,1,1)\n",
    "heatmap = plt.pcolor(a.reward,cmap=plt.cm.Blues)\n",
    "ax.invert_yaxis()\n",
    "ax.xaxis.tick_top()\n",
    "\n",
    "fig =  plt.subplot(2,1,2)\n",
    "heatmap = plt.pcolor(a.std/a.std.max(axis=0),cmap=plt.cm.Blues)\n",
    "#fig.invert_yaxis()\n",
    "fig.xaxis.tick_top()\n"
   ]
  },
  {
   "cell_type": "code",
   "execution_count": null,
   "metadata": {
    "collapsed": false
   },
   "outputs": [],
   "source": []
  },
  {
   "cell_type": "code",
   "execution_count": 23,
   "metadata": {
    "collapsed": false
   },
   "outputs": [
    {
     "data": {
      "text/plain": [
       "array([[1, 0, 0],\n",
       "       [0, 2, 0],\n",
       "       [0, 0, 1]])"
      ]
     },
     "execution_count": 23,
     "metadata": {},
     "output_type": "execute_result"
    }
   ],
   "source": [
    "ya = np.diag((1,2,1))\n",
    "ya"
   ]
  },
  {
   "cell_type": "code",
   "execution_count": 24,
   "metadata": {
    "collapsed": false
   },
   "outputs": [
    {
     "data": {
      "text/plain": [
       "array([[ 1. ,  0. ,  0. ],\n",
       "       [ 0. ,  0.5,  0. ],\n",
       "       [ 0. ,  0. ,  1. ]])"
      ]
     },
     "execution_count": 24,
     "metadata": {},
     "output_type": "execute_result"
    }
   ],
   "source": [
    "np.linalg.inv(ya)"
   ]
  },
  {
   "cell_type": "markdown",
   "metadata": {},
   "source": [
    "# Linear"
   ]
  },
  {
   "cell_type": "code",
   "execution_count": 25,
   "metadata": {
    "collapsed": false
   },
   "outputs": [],
   "source": [
    "class linear_thompson(object):\n",
    "    \"\"\" from: Thompson Sampling for Contextual Bandits with Linear Payoffs, Agrawal\"\"\"\n",
    "    def __init__(self,mu= None,f = 0,d=3,nu_sq = 1000,num_arms = 3,len_cont = 2,simple=True):\n",
    "        self.B = np.diag(np.ones(shape=(d+len_cont)))\n",
    "        self.simple=simple\n",
    "        if mu == None:\n",
    "            self.mu = np.zeros(shape = (d+len_cont,))\n",
    "        self.f =np.zeros(shape = (d+len_cont,))\n",
    "        self.d = d\n",
    "        self.nu_sq = nu_sq\n",
    "        self.arms = [[0,1,0],[1,0,0],[0,0,1],[1,1,0],[0,2,4]]#dummies?\n",
    "        self.num_arms = len(self.arms)\n",
    "        \n",
    "    def select_arm(self, context):\n",
    "        \"\"\"selects an arm depending on bayesian regression model.\n",
    "        simple means sample five times from normal distribution with given m(x) and s(x);\n",
    "        ~simple means draw weights from multivariate normal with mu and B and then multiply in weight. \n",
    "        Not sure if that's exactly the same thing.\"\"\"\n",
    "        if self.simple:\n",
    "            samples = []\n",
    "\n",
    "            for i in range(self.num_arms):\n",
    "                compl_cont = self.arms[i]\n",
    "                compl_cont = np.atleast_2d(compl_cont+context)\n",
    "                mu_new = compl_cont.dot(self.mu)\n",
    "                std_new = compl_cont.dot(self.nu_sq*np.linalg.inv(self.B)).dot(compl_cont.T)\n",
    "                samples += [np.random.normal(mu_new,std_new)]\n",
    "            return samples.index(max(samples))\n",
    "    \n",
    "        mu_t = np.random.multivariate_normal(self.mu,self.nu_sq*np.linalg.inv(self.B))\n",
    "        samples = []\n",
    "        for i in range(self.num_arms):\n",
    "            compl_cont = self.arms[i]\n",
    "            compl_cont = compl_cont + context\n",
    "            #print(compl_cont)\n",
    "            b_i = np.atleast_2d(compl_cont)\n",
    "            samples += [b_i.dot(mu_t)]\n",
    "            \n",
    "        return samples.index(max(samples))\n",
    "    \n",
    "    def update(self,reward,arm,context):\n",
    "        \"\"\"updates bayesian regression model. Variance isn't optimal right now.\"\"\"\n",
    "        cont = np.array(self.arms[arm]+context)\n",
    "\n",
    "        self.B = self.B + np.atleast_2d(cont).T.dot(np.atleast_2d(cont))\n",
    "        self.f = self.f+ cont.T*reward\n",
    "        self.mu = np.linalg.inv(self.B).dot(np.atleast_2d(self.f).T).T.flatten()\n",
    "            \n",
    "    \n",
    "        "
   ]
  },
  {
   "cell_type": "code",
   "execution_count": 26,
   "metadata": {
    "collapsed": false
   },
   "outputs": [
    {
     "data": {
      "text/plain": [
       "array([ 0.,  0.,  0.,  0.,  0.])"
      ]
     },
     "execution_count": 26,
     "metadata": {},
     "output_type": "execute_result"
    }
   ],
   "source": [
    "a = linear_thompson()\n",
    "b = linear_thompson(simple=False)\n",
    "np.linalg.inv(a.B).dot(a.f)"
   ]
  },
  {
   "cell_type": "code",
   "execution_count": 27,
   "metadata": {
    "collapsed": false
   },
   "outputs": [
    {
     "data": {
      "text/plain": [
       "(array([ 0.,  0.,  0.,  0.,  0.]), array([ 0.,  0.,  0.,  0.,  0.]))"
      ]
     },
     "execution_count": 27,
     "metadata": {},
     "output_type": "execute_result"
    }
   ],
   "source": [
    "#a = linear_thompson()\n",
    "a.mu,b.mu"
   ]
  },
  {
   "cell_type": "code",
   "execution_count": 28,
   "metadata": {
    "collapsed": false
   },
   "outputs": [
    {
     "data": {
      "text/plain": [
       "4"
      ]
     },
     "execution_count": 28,
     "metadata": {},
     "output_type": "execute_result"
    }
   ],
   "source": [
    "a.select_arm([1,1])"
   ]
  },
  {
   "cell_type": "code",
   "execution_count": 29,
   "metadata": {
    "collapsed": false
   },
   "outputs": [
    {
     "data": {
      "text/plain": [
       "(array([[ 1.,  0.,  0.,  0.,  0.],\n",
       "        [ 0.,  1.,  0.,  0.,  0.],\n",
       "        [ 0.,  0.,  1.,  0.,  0.],\n",
       "        [ 0.,  0.,  0.,  1.,  0.],\n",
       "        [ 0.,  0.,  0.,  0.,  1.]]), array([[ 1.,  0.,  0.,  0.,  0.],\n",
       "        [ 0.,  1.,  0.,  0.,  0.],\n",
       "        [ 0.,  0.,  1.,  0.,  0.],\n",
       "        [ 0.,  0.,  0.,  1.,  0.],\n",
       "        [ 0.,  0.,  0.,  0.,  1.]]))"
      ]
     },
     "execution_count": 29,
     "metadata": {},
     "output_type": "execute_result"
    }
   ],
   "source": [
    "a.B,b.B"
   ]
  },
  {
   "cell_type": "code",
   "execution_count": 30,
   "metadata": {
    "collapsed": false
   },
   "outputs": [
    {
     "data": {
      "text/plain": [
       "array([[ 1.,  0.,  0.,  0.,  0.],\n",
       "       [ 0.,  1.,  0.,  0.,  0.],\n",
       "       [ 0.,  0.,  1.,  0.,  0.],\n",
       "       [ 0.,  0.,  0.,  1.,  0.],\n",
       "       [ 0.,  0.,  0.,  0.,  1.]])"
      ]
     },
     "execution_count": 30,
     "metadata": {},
     "output_type": "execute_result"
    }
   ],
   "source": [
    "np.linalg.inv(a.B)"
   ]
  },
  {
   "cell_type": "code",
   "execution_count": null,
   "metadata": {
    "collapsed": true
   },
   "outputs": [],
   "source": []
  },
  {
   "cell_type": "code",
   "execution_count": 31,
   "metadata": {
    "collapsed": false
   },
   "outputs": [
    {
     "data": {
      "text/plain": [
       "[1, 0, 0]"
      ]
     },
     "execution_count": 31,
     "metadata": {},
     "output_type": "execute_result"
    }
   ],
   "source": [
    "a.arms[1]"
   ]
  },
  {
   "cell_type": "code",
   "execution_count": 32,
   "metadata": {
    "collapsed": false
   },
   "outputs": [],
   "source": [
    "#a.update(10,2,[1,0])"
   ]
  },
  {
   "cell_type": "code",
   "execution_count": 33,
   "metadata": {
    "collapsed": false
   },
   "outputs": [
    {
     "data": {
      "text/plain": [
       "array([ 0.,  0.,  0.,  0.,  0.])"
      ]
     },
     "execution_count": 33,
     "metadata": {},
     "output_type": "execute_result"
    }
   ],
   "source": [
    "a.mu"
   ]
  },
  {
   "cell_type": "code",
   "execution_count": 34,
   "metadata": {
    "collapsed": false
   },
   "outputs": [
    {
     "data": {
      "text/plain": [
       "array([ 0.,  0.,  0.,  0.,  0.])"
      ]
     },
     "execution_count": 34,
     "metadata": {},
     "output_type": "execute_result"
    }
   ],
   "source": [
    "a.f"
   ]
  },
  {
   "cell_type": "markdown",
   "metadata": {},
   "source": [
    "# testsuite"
   ]
  },
  {
   "cell_type": "code",
   "execution_count": 35,
   "metadata": {
    "collapsed": false
   },
   "outputs": [],
   "source": [
    "which = []\n",
    "which_ = []\n",
    "opt_arm = []\n",
    "cont = [[0,1],[0,0],[1,0]]\n",
    "num_rounds = 1000000\n",
    "for i in range(num_rounds):\n",
    "    j = np.random.randint(3)\n",
    "    context = cont[j]\n",
    "    #print(context)\n",
    "    arm = a.select_arm(context)\n",
    "    which += [arm]\n",
    "    which_ += [j]\n",
    "    if context == cont[0]:\n",
    "        opt_arm +=[1]\n",
    "\n",
    "        reward = 1\n",
    "        if arm ==1:\n",
    "            reward = 1.3\n",
    "        if arm == 0:\n",
    "            reward = 1.0\n",
    "        if arm == 2:\n",
    "            reward = 0.4\n",
    "        if arm == 4:\n",
    "            reward = 0\n",
    "    if context == cont[1]:\n",
    "        opt_arm +=[4]\n",
    "\n",
    "        reward = .3\n",
    "        if arm ==4:\n",
    "            reward = 1.3\n",
    "        if arm == 2:\n",
    "            reward = 1.0\n",
    "        if arm == 0:\n",
    "            reward = 0\n",
    "        if arm == 3:\n",
    "            reward = .1\n",
    "            \n",
    "    if context == cont[2]:\n",
    "        opt_arm +=[3]\n",
    "        reward = .5\n",
    "        if arm ==4:\n",
    "            reward = .3\n",
    "        if arm == 2:\n",
    "            reward = .2\n",
    "        if arm == 1:\n",
    "            reward = 0\n",
    "        if arm == 0:\n",
    "            reward = 0\n",
    "        if arm == 3:\n",
    "            reward = .7\n",
    "    a.update(reward,arm,context)\n",
    "    "
   ]
  },
  {
   "cell_type": "code",
   "execution_count": 36,
   "metadata": {
    "collapsed": false
   },
   "outputs": [
    {
     "data": {
      "text/plain": [
       "array([[  940358.,   901571.,        0.,   313391.,   313087.],\n",
       "       [  901571.,  1125291.,   441120.,   337576.,   337360.],\n",
       "       [       0.,   441120.,   883585.,    73377.,    73646.],\n",
       "       [  313391.,   337576.,    73377.,   333549.,        0.],\n",
       "       [  313087.,   337360.,    73646.,        0.,   333261.]])"
      ]
     },
     "execution_count": 36,
     "metadata": {},
     "output_type": "execute_result"
    }
   ],
   "source": [
    "a.B"
   ]
  },
  {
   "cell_type": "code",
   "execution_count": 37,
   "metadata": {
    "collapsed": false
   },
   "outputs": [
    {
     "data": {
      "text/plain": [
       "array([  3159,  38786,   1344, 901571,  55140], dtype=int64)"
      ]
     },
     "execution_count": 37,
     "metadata": {},
     "output_type": "execute_result"
    }
   ],
   "source": [
    "np.bincount(which)"
   ]
  },
  {
   "cell_type": "code",
   "execution_count": 38,
   "metadata": {
    "collapsed": false
   },
   "outputs": [
    {
     "data": {
      "text/plain": [
       "array([     0, 333260,      0, 333548, 333192], dtype=int64)"
      ]
     },
     "execution_count": 38,
     "metadata": {},
     "output_type": "execute_result"
    }
   ],
   "source": [
    "np.bincount(opt_arm)"
   ]
  },
  {
   "cell_type": "code",
   "execution_count": 39,
   "metadata": {
    "collapsed": false
   },
   "outputs": [
    {
     "data": {
      "text/plain": [
       "0.33202599999999999"
      ]
     },
     "execution_count": 39,
     "metadata": {},
     "output_type": "execute_result"
    }
   ],
   "source": [
    "(np.array(opt_arm) == np.array(which)).sum()/num_rounds"
   ]
  },
  {
   "cell_type": "code",
   "execution_count": 40,
   "metadata": {
    "collapsed": false
   },
   "outputs": [
    {
     "data": {
      "text/plain": [
       "0.2"
      ]
     },
     "execution_count": 40,
     "metadata": {},
     "output_type": "execute_result"
    }
   ],
   "source": [
    "1/5"
   ]
  },
  {
   "cell_type": "markdown",
   "metadata": {},
   "source": [
    "Check for precisions!\n"
   ]
  },
  {
   "cell_type": "markdown",
   "metadata": {
    "collapsed": true
   },
   "source": [
    "# Theory\n",
    "Bayesian Regression, then sample values at different X_i = context.append(Arm)"
   ]
  },
  {
   "cell_type": "code",
   "execution_count": 41,
   "metadata": {
    "collapsed": false
   },
   "outputs": [
    {
     "data": {
      "text/plain": [
       "array([ 0.11780635,  0.06480367, -0.00113095,  0.46992787,  0.78020257])"
      ]
     },
     "execution_count": 41,
     "metadata": {},
     "output_type": "execute_result"
    }
   ],
   "source": [
    "a.mu"
   ]
  },
  {
   "cell_type": "code",
   "execution_count": null,
   "metadata": {
    "collapsed": true
   },
   "outputs": [],
   "source": []
  },
  {
   "cell_type": "code",
   "execution_count": null,
   "metadata": {
    "collapsed": true
   },
   "outputs": [],
   "source": []
  }
 ],
 "metadata": {
  "kernelspec": {
   "display_name": "Python 3",
   "language": "python",
   "name": "python3"
  },
  "language_info": {
   "codemirror_mode": {
    "name": "ipython",
    "version": 3
   },
   "file_extension": ".py",
   "mimetype": "text/x-python",
   "name": "python",
   "nbconvert_exporter": "python",
   "pygments_lexer": "ipython3",
   "version": "3.4.3"
  }
 },
 "nbformat": 4,
 "nbformat_minor": 0
}

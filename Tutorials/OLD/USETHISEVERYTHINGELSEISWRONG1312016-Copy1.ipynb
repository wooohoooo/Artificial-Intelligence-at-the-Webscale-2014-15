{
 "cells": [
  {
   "cell_type": "code",
   "execution_count": 1,
   "metadata": {
    "collapsed": true
   },
   "outputs": [],
   "source": [
    "import numpy as np\n",
    "import matplotlib.pyplot as plt\n",
    "from IPython.core.pylabtools import figsize\n",
    "%matplotlib inline\n",
    "import scipy.stats as stats\n",
    "import seaborn as sns; sns.set_context('notebook')\n",
    "figsize=(45,10)\n",
    "from IPython.core.pylabtools import figsize\n",
    "figsize(14.5,6.5)\n",
    "from sklearn import linear_model\n"
   ]
  },
  {
   "cell_type": "markdown",
   "metadata": {},
   "source": [
    "\n",
    "# Linear Bandit Solver"
   ]
  },
  {
   "cell_type": "markdown",
   "metadata": {},
   "source": [
    "### Bayesian Linear Regression\n"
   ]
  },
  {
   "cell_type": "code",
   "execution_count": 170,
   "metadata": {
    "collapsed": false
   },
   "outputs": [
    {
     "data": {
      "text/plain": [
       "False"
      ]
     },
     "execution_count": 170,
     "metadata": {},
     "output_type": "execute_result"
    },
    {
     "name": "stderr",
     "output_type": "stream",
     "text": [
      "C:\\Users\\Trost\\Anaconda3\\lib\\site-packages\\matplotlib\\collections.py:590: FutureWarning: elementwise comparison failed; returning scalar instead, but in the future will perform elementwise comparison\n",
      "  if self._edgecolors == str('face'):\n"
     ]
    },
    {
     "data": {
      "image/png": "[encoded data removed]",
      "text/plain": [
       "<matplotlib.figure.Figure at 0xaf8e2b0>"
      ]
     },
     "metadata": {},
     "output_type": "display_data"
    }
   ],
   "source": [
    "num_features = 1\n",
    "num_data = 10\n",
    "\n",
    "from sklearn.datasets import make_regression \n",
    "\n",
    "X1 = np.atleast_2d(np.linspace(10,100,num_data)).T\n",
    "\n",
    "np.random.shuffle(X1)\n",
    "def evaluate(X):\n",
    "    return  X*10  #+ np.random.normal(0,1)\n",
    "y1 = []\n",
    "for i in range(num_data):\n",
    "    y1 += [evaluate(X1[i,:])]\n",
    "y1 = np.array(y1).flatten()\n",
    "\n",
    "X,y,coef = make_regression(num_data,num_features,noise   = 20,shuffle=True, coef = True)\n",
    "y = -y\n",
    "#X1,y1,coef = make_regression(num_data,num_features,noise   = 20,shuffle=True, coef = True)\n",
    "X = X1\n",
    "y = y1\n",
    "#y += 100\n",
    "#X = np.array([0.4,.6,.3,.1])#,.11,.2,0.,.9,0.25,.35])#addeed some fake near-linear observations\n",
    "#y = np.array([.05,-.35,0,-.055])#,0.,.2,0.1,.5,-.9,.8])\n",
    "\n",
    "#X = np.atleast_2d(X)\n",
    "#y = X.copy()\n",
    "#plt.scatter(X1,y1,color = 'red')\n",
    "plt.scatter(X,y,color = 'blue')\n",
    "\n",
    "#X.shape,X1.shape,y.shape,y1.shape,type(X),type(X1),(X+X1).shape,type(y),type(y1),(y+y1).shape\n",
    "#X[:10],X1[:10]\n",
    "#y[:10],y1[:10]\n",
    "(X == y).all()\n",
    "\n",
    "#X[:10],X1[:10]"
   ]
  },
  {
   "cell_type": "code",
   "execution_count": 185,
   "metadata": {
    "collapsed": false
   },
   "outputs": [],
   "source": [
    "class BayesReg(object):\n",
    "    def __init__(self,num_features,alpha = 1,beta = 1):\n",
    "        self.num_features = num_features\n",
    "        self.B = np.eye(self.num_features+1)*alpha\n",
    "        self.Binv = np.linalg.inv(self.B)\n",
    "        self.f = np.atleast_2d(np.zeros(num_features+1)).T\n",
    "        #self.f = self.f.T\n",
    "        self.mu = 1\n",
    "        self.beta = beta\n",
    "        \n",
    "    def add_intercept(self,X):\n",
    "        try:\n",
    "            X.shape[1]\n",
    "        except:\n",
    "            X = np.atleast_2d(X)\n",
    "        X_new = np.ones((X.shape[0],X.shape[1]+1),dtype=X.dtype)\n",
    "        X_new[:,1:] = X[:,:]\n",
    "        return np.atleast_2d(np.append(X[::-1],1)[::-1])\n",
    "\n",
    "        return X_new[0]\n",
    "    \n",
    "    def add_intercept2(self,X):\n",
    "        return np.atleast_2d(X).T\n",
    "        #X = np.atleast_2d(X)\n",
    "        #X = np.append(np.atleast_2d(np.ones(shape=X.shape[1])).T,X,axis=1)\n",
    "        #return X\n",
    "    \n",
    "    def observe_x(self,x,y):\n",
    "        x = self.add_intercept(x)\n",
    "        #print(np.outer(x,x))\n",
    "        self.B = self.B + np.outer(x,x)\n",
    "        #print(self.B)\n",
    "        self.Binv = np.linalg.inv(self.B)\n",
    "        #self.Binv = 1/self.B \n",
    "        #self.f = self.f + np.dot(x,y)\n",
    "        #print(x*y)\n",
    "        #print(np.dot(x,y))\n",
    "        self.f = self.f + (x*y).T\n",
    "        #self.f = self.f.\n",
    "        #print('f')\n",
    "        print(self.f)\n",
    "        #print('nof')\n",
    "        self.mu += np.dot(self.Binv,self.f)\n",
    "        #self.mu = self.mu.T\n",
    "        #print('mu')\n",
    "        print(self.mu)\n",
    "        #print('nomu')\n",
    "        #self.mu += self.Binv * self.f\n",
    "    \n",
    "        \n",
    "    def train(self,X,y,shuffle = True):\n",
    "        index = list(range(X.shape[0]))\n",
    "        if shuffle ==True:\n",
    "            np.random.shuffle(index)\n",
    "        for i in index:\n",
    "            self.observe_x(X[i],y[i])\n",
    "\n",
    "    def predict(self,X):\n",
    "        \"\"\"predicts ML estimate (non bayesian)\"\"\"\n",
    "        pred_list = []\n",
    "        self.muc = self.beta*self.Binv.dot(self.mu)\n",
    "        for i in range(X.shape[0]):\n",
    "            pred_list += [np.sum(self.muc.T.dot(self.add_intercept(X[i]).T),axis=1)]\n",
    "            \n",
    "        return np.array(pred_list)\n",
    "    \n",
    "    def sx(self,x):\n",
    "        x = self.add_intercept(x)\n",
    "        return np.sqrt(1/self.beta + x.dot(self.Binv).dot(x.T))\n",
    "    \n",
    "    def mx(self,x,N=1):\n",
    "        x = self.add_intercept(x)\n",
    "        x_Binv = self.Binv.dot(self.mu)\n",
    "        return self.beta*N*x.dot(x_Binv)\n",
    "    \n",
    "    def predict_dist(self,X):\n",
    "        sx = []\n",
    "        mx = []\n",
    "        for i in range(X.shape[0]):\n",
    "            sx += [self.sx(X[i])]\n",
    "            mx += [self.mx(X[i])]\n",
    "        sx = np.asarray(sx)\n",
    "        mx = np.asarray(mx)\n",
    "        return mx,sx\n",
    "    \n",
    "    def draw(self,num=1):\n",
    "        \"\"\" MUC instead of MU?!\"\"\"\n",
    "        w = []\n",
    "        self.muc = self.beta*self.Binv.dot(self.mu)\n",
    "        print(self.muc)\n",
    "\n",
    "        for i in range(num):\n",
    "            w += [stats.multivariate_normal.rvs(self.muc.flatten(),self.Binv)]\n",
    "        return w\n",
    "        \n",
    "        \n",
    "        "
   ]
  },
  {
   "cell_type": "code",
   "execution_count": 186,
   "metadata": {
    "collapsed": false
   },
   "outputs": [
    {
     "data": {
      "text/plain": [
       "array([[   1.,   20.],\n",
       "       [  20.,  400.]])"
      ]
     },
     "execution_count": 186,
     "metadata": {},
     "output_type": "execute_result"
    }
   ],
   "source": [
    "test = BayesReg(num_features,alpha = 1,beta = 1)\n",
    "A = test.add_intercept(X[0])\n",
    "t = y[0]\n",
    "B = np.atleast_2d(A)\n",
    "np.outer(A,A)"
   ]
  },
  {
   "cell_type": "code",
   "execution_count": 187,
   "metadata": {
    "collapsed": false
   },
   "outputs": [
    {
     "data": {
      "text/plain": [
       "array([[  1.,  20.]])"
      ]
     },
     "execution_count": 187,
     "metadata": {},
     "output_type": "execute_result"
    }
   ],
   "source": [
    "A"
   ]
  },
  {
   "cell_type": "code",
   "execution_count": 188,
   "metadata": {
    "collapsed": false
   },
   "outputs": [
    {
     "data": {
      "text/plain": [
       "array([[   1.,   20.],\n",
       "       [  20.,  400.]])"
      ]
     },
     "execution_count": 188,
     "metadata": {},
     "output_type": "execute_result"
    }
   ],
   "source": [
    "np.outer(B,B)"
   ]
  },
  {
   "cell_type": "code",
   "execution_count": 189,
   "metadata": {
    "collapsed": false
   },
   "outputs": [
    {
     "data": {
      "text/plain": [
       "(1, 2)"
      ]
     },
     "execution_count": 189,
     "metadata": {},
     "output_type": "execute_result"
    }
   ],
   "source": [
    "D = (A*t)\n",
    "D.shape"
   ]
  },
  {
   "cell_type": "code",
   "execution_count": 190,
   "metadata": {
    "collapsed": false
   },
   "outputs": [
    {
     "data": {
      "text/plain": [
       "(2, 1)"
      ]
     },
     "execution_count": 190,
     "metadata": {},
     "output_type": "execute_result"
    }
   ],
   "source": [
    "C = (B*t).T\n",
    "C.shape"
   ]
  },
  {
   "cell_type": "code",
   "execution_count": 191,
   "metadata": {
    "collapsed": false
   },
   "outputs": [
    {
     "ename": "ValueError",
     "evalue": "shapes (1,2) and (1,2) not aligned: 2 (dim 1) != 1 (dim 0)",
     "output_type": "error",
     "traceback": [
      "\u001b[1;31m---------------------------------------------------------------------------\u001b[0m",
      "\u001b[1;31mValueError\u001b[0m                                Traceback (most recent call last)",
      "\u001b[1;32m<ipython-input-191-3e2d983451c6>\u001b[0m in \u001b[0;36m<module>\u001b[1;34m()\u001b[0m\n\u001b[1;32m----> 1\u001b[1;33m \u001b[0mnp\u001b[0m\u001b[1;33m.\u001b[0m\u001b[0mdot\u001b[0m\u001b[1;33m(\u001b[0m\u001b[0mA\u001b[0m\u001b[1;33m,\u001b[0m\u001b[0mD\u001b[0m\u001b[1;33m)\u001b[0m\u001b[1;33m.\u001b[0m\u001b[0mshape\u001b[0m\u001b[1;33m\u001b[0m\u001b[0m\n\u001b[0m",
      "\u001b[1;31mValueError\u001b[0m: shapes (1,2) and (1,2) not aligned: 2 (dim 1) != 1 (dim 0)"
     ]
    }
   ],
   "source": [
    "np.dot(A,D).shape"
   ]
  },
  {
   "cell_type": "code",
   "execution_count": 192,
   "metadata": {
    "collapsed": false
   },
   "outputs": [
    {
     "data": {
      "text/plain": [
       "(1, 1)"
      ]
     },
     "execution_count": 192,
     "metadata": {},
     "output_type": "execute_result"
    }
   ],
   "source": [
    "np.dot(D,C).shape"
   ]
  },
  {
   "cell_type": "code",
   "execution_count": 193,
   "metadata": {
    "collapsed": false
   },
   "outputs": [
    {
     "name": "stdout",
     "output_type": "stream",
     "text": [
      "[[  300.]\n",
      " [ 9000.]]\n",
      "[[  1.33259424]\n",
      " [ 10.97782705]]\n",
      "[[  1000.]\n",
      " [ 58000.]]\n",
      "[[  1.46767461]\n",
      " [ 20.97377464]]\n",
      "[[  1600.]\n",
      " [ 94000.]]\n",
      "[[  1.60096351]\n",
      " [ 30.97044242]]\n",
      "[[   2100.]\n",
      " [ 119000.]]\n",
      "[[  1.73728289]\n",
      " [ 40.96719672]]\n",
      "[[   2200.]\n",
      " [ 120000.]]\n",
      "[[  1.83047953]\n",
      " [ 50.96465499]]\n",
      "[[   3200.]\n",
      " [ 220000.]]\n",
      "[[  1.89248663]\n",
      " [ 60.96329859]]\n",
      "[[   4100.]\n",
      " [ 301000.]]\n",
      "[[  1.94887657]\n",
      " [ 70.96219829]]\n",
      "[[   4900.]\n",
      " [ 365000.]]\n",
      "[[  2.00430079]\n",
      " [ 80.9611803 ]]\n",
      "[[   5300.]\n",
      " [ 381000.]]\n",
      "[[  2.05724255]\n",
      " [ 90.9601814 ]]\n",
      "[[   5500.]\n",
      " [ 385000.]]\n",
      "[[   2.10269297]\n",
      " [ 100.95927239]]\n"
     ]
    }
   ],
   "source": [
    "test.train(X,y)"
   ]
  },
  {
   "cell_type": "code",
   "execution_count": 194,
   "metadata": {
    "collapsed": false
   },
   "outputs": [
    {
     "data": {
      "text/plain": [
       "array([[   2.10269297],\n",
       "       [ 100.95927239]])"
      ]
     },
     "execution_count": 194,
     "metadata": {},
     "output_type": "execute_result"
    }
   ],
   "source": [
    "test.mu"
   ]
  },
  {
   "cell_type": "code",
   "execution_count": 195,
   "metadata": {
    "collapsed": false
   },
   "outputs": [
    {
     "name": "stdout",
     "output_type": "stream",
     "text": [
      "[[ 0.21013116]\n",
      " [-0.00037955]]\n"
     ]
    },
    {
     "data": {
      "text/plain": [
       "1.0183810830209872"
      ]
     },
     "execution_count": 195,
     "metadata": {},
     "output_type": "execute_result"
    }
   ],
   "source": [
    "lin = np.linspace(min(X)*2,max(X)*2,100)#(-3,3,100)#\n",
    "num_draws = 10\n",
    "\n",
    "m,s = test.predict_dist(lin)\n",
    "w = test.draw(num=num_draws)\n",
    "w[0][0]"
   ]
  },
  {
   "cell_type": "code",
   "execution_count": 196,
   "metadata": {
    "collapsed": false
   },
   "outputs": [
    {
     "ename": "ValueError",
     "evalue": "x and y can be no greater than 2-D",
     "output_type": "error",
     "traceback": [
      "\u001b[1;31m---------------------------------------------------------------------------\u001b[0m",
      "\u001b[1;31mValueError\u001b[0m                                Traceback (most recent call last)",
      "\u001b[1;32m<ipython-input-196-71257068ef03>\u001b[0m in \u001b[0;36m<module>\u001b[1;34m()\u001b[0m\n\u001b[0;32m      1\u001b[0m \u001b[0mexponent\u001b[0m \u001b[1;33m=\u001b[0m \u001b[1;36m10\u001b[0m\u001b[1;33m\u001b[0m\u001b[0m\n\u001b[1;32m----> 2\u001b[1;33m \u001b[0mplt\u001b[0m\u001b[1;33m.\u001b[0m\u001b[0mplot\u001b[0m\u001b[1;33m(\u001b[0m\u001b[0mlin\u001b[0m\u001b[1;33m,\u001b[0m\u001b[0mm\u001b[0m\u001b[1;33m,\u001b[0m\u001b[0mcolor\u001b[0m\u001b[1;33m=\u001b[0m\u001b[1;34m'red'\u001b[0m\u001b[1;33m,\u001b[0m\u001b[0mlinewidth\u001b[0m \u001b[1;33m=\u001b[0m \u001b[1;36m3\u001b[0m\u001b[1;33m,\u001b[0m\u001b[0mlabel\u001b[0m\u001b[1;33m=\u001b[0m\u001b[1;34m'predictive Mean'\u001b[0m\u001b[1;33m)\u001b[0m\u001b[1;33m\u001b[0m\u001b[0m\n\u001b[0m\u001b[0;32m      3\u001b[0m \u001b[1;31m#plt.plot(X,y,'x')\u001b[0m\u001b[1;33m\u001b[0m\u001b[1;33m\u001b[0m\u001b[0m\n\u001b[0;32m      4\u001b[0m \u001b[0mplt\u001b[0m\u001b[1;33m.\u001b[0m\u001b[0mscatter\u001b[0m\u001b[1;33m(\u001b[0m\u001b[0mX\u001b[0m\u001b[1;33m,\u001b[0m\u001b[0my\u001b[0m\u001b[1;33m,\u001b[0m\u001b[0mcolor\u001b[0m\u001b[1;33m=\u001b[0m\u001b[1;34m'black'\u001b[0m\u001b[1;33m,\u001b[0m\u001b[0mlabel\u001b[0m\u001b[1;33m=\u001b[0m\u001b[1;34m'data'\u001b[0m\u001b[1;33m)\u001b[0m\u001b[1;33m\u001b[0m\u001b[0m\n\u001b[0;32m      5\u001b[0m \u001b[1;32mfor\u001b[0m \u001b[0mi\u001b[0m \u001b[1;32min\u001b[0m \u001b[0mrange\u001b[0m\u001b[1;33m(\u001b[0m\u001b[0mnum_draws\u001b[0m\u001b[1;33m-\u001b[0m\u001b[1;36m1\u001b[0m\u001b[1;33m)\u001b[0m\u001b[1;33m:\u001b[0m\u001b[1;33m\u001b[0m\u001b[0m\n",
      "\u001b[1;32mC:\\Users\\Trost\\Anaconda3\\lib\\site-packages\\matplotlib\\pyplot.py\u001b[0m in \u001b[0;36mplot\u001b[1;34m(*args, **kwargs)\u001b[0m\n\u001b[0;32m   3097\u001b[0m         \u001b[0max\u001b[0m\u001b[1;33m.\u001b[0m\u001b[0mhold\u001b[0m\u001b[1;33m(\u001b[0m\u001b[0mhold\u001b[0m\u001b[1;33m)\u001b[0m\u001b[1;33m\u001b[0m\u001b[0m\n\u001b[0;32m   3098\u001b[0m     \u001b[1;32mtry\u001b[0m\u001b[1;33m:\u001b[0m\u001b[1;33m\u001b[0m\u001b[0m\n\u001b[1;32m-> 3099\u001b[1;33m         \u001b[0mret\u001b[0m \u001b[1;33m=\u001b[0m \u001b[0max\u001b[0m\u001b[1;33m.\u001b[0m\u001b[0mplot\u001b[0m\u001b[1;33m(\u001b[0m\u001b[1;33m*\u001b[0m\u001b[0margs\u001b[0m\u001b[1;33m,\u001b[0m \u001b[1;33m**\u001b[0m\u001b[0mkwargs\u001b[0m\u001b[1;33m)\u001b[0m\u001b[1;33m\u001b[0m\u001b[0m\n\u001b[0m\u001b[0;32m   3100\u001b[0m         \u001b[0mdraw_if_interactive\u001b[0m\u001b[1;33m(\u001b[0m\u001b[1;33m)\u001b[0m\u001b[1;33m\u001b[0m\u001b[0m\n\u001b[0;32m   3101\u001b[0m     \u001b[1;32mfinally\u001b[0m\u001b[1;33m:\u001b[0m\u001b[1;33m\u001b[0m\u001b[0m\n",
      "\u001b[1;32mC:\\Users\\Trost\\Anaconda3\\lib\\site-packages\\matplotlib\\axes\\_axes.py\u001b[0m in \u001b[0;36mplot\u001b[1;34m(self, *args, **kwargs)\u001b[0m\n\u001b[0;32m   1371\u001b[0m         \u001b[0mlines\u001b[0m \u001b[1;33m=\u001b[0m \u001b[1;33m[\u001b[0m\u001b[1;33m]\u001b[0m\u001b[1;33m\u001b[0m\u001b[0m\n\u001b[0;32m   1372\u001b[0m \u001b[1;33m\u001b[0m\u001b[0m\n\u001b[1;32m-> 1373\u001b[1;33m         \u001b[1;32mfor\u001b[0m \u001b[0mline\u001b[0m \u001b[1;32min\u001b[0m \u001b[0mself\u001b[0m\u001b[1;33m.\u001b[0m\u001b[0m_get_lines\u001b[0m\u001b[1;33m(\u001b[0m\u001b[1;33m*\u001b[0m\u001b[0margs\u001b[0m\u001b[1;33m,\u001b[0m \u001b[1;33m**\u001b[0m\u001b[0mkwargs\u001b[0m\u001b[1;33m)\u001b[0m\u001b[1;33m:\u001b[0m\u001b[1;33m\u001b[0m\u001b[0m\n\u001b[0m\u001b[0;32m   1374\u001b[0m             \u001b[0mself\u001b[0m\u001b[1;33m.\u001b[0m\u001b[0madd_line\u001b[0m\u001b[1;33m(\u001b[0m\u001b[0mline\u001b[0m\u001b[1;33m)\u001b[0m\u001b[1;33m\u001b[0m\u001b[0m\n\u001b[0;32m   1375\u001b[0m             \u001b[0mlines\u001b[0m\u001b[1;33m.\u001b[0m\u001b[0mappend\u001b[0m\u001b[1;33m(\u001b[0m\u001b[0mline\u001b[0m\u001b[1;33m)\u001b[0m\u001b[1;33m\u001b[0m\u001b[0m\n",
      "\u001b[1;32mC:\\Users\\Trost\\Anaconda3\\lib\\site-packages\\matplotlib\\axes\\_base.py\u001b[0m in \u001b[0;36m_grab_next_args\u001b[1;34m(self, *args, **kwargs)\u001b[0m\n\u001b[0;32m    302\u001b[0m                 \u001b[1;32mreturn\u001b[0m\u001b[1;33m\u001b[0m\u001b[0m\n\u001b[0;32m    303\u001b[0m             \u001b[1;32mif\u001b[0m \u001b[0mlen\u001b[0m\u001b[1;33m(\u001b[0m\u001b[0mremaining\u001b[0m\u001b[1;33m)\u001b[0m \u001b[1;33m<=\u001b[0m \u001b[1;36m3\u001b[0m\u001b[1;33m:\u001b[0m\u001b[1;33m\u001b[0m\u001b[0m\n\u001b[1;32m--> 304\u001b[1;33m                 \u001b[1;32mfor\u001b[0m \u001b[0mseg\u001b[0m \u001b[1;32min\u001b[0m \u001b[0mself\u001b[0m\u001b[1;33m.\u001b[0m\u001b[0m_plot_args\u001b[0m\u001b[1;33m(\u001b[0m\u001b[0mremaining\u001b[0m\u001b[1;33m,\u001b[0m \u001b[0mkwargs\u001b[0m\u001b[1;33m)\u001b[0m\u001b[1;33m:\u001b[0m\u001b[1;33m\u001b[0m\u001b[0m\n\u001b[0m\u001b[0;32m    305\u001b[0m                     \u001b[1;32myield\u001b[0m \u001b[0mseg\u001b[0m\u001b[1;33m\u001b[0m\u001b[0m\n\u001b[0;32m    306\u001b[0m                 \u001b[1;32mreturn\u001b[0m\u001b[1;33m\u001b[0m\u001b[0m\n",
      "\u001b[1;32mC:\\Users\\Trost\\Anaconda3\\lib\\site-packages\\matplotlib\\axes\\_base.py\u001b[0m in \u001b[0;36m_plot_args\u001b[1;34m(self, tup, kwargs)\u001b[0m\n\u001b[0;32m    280\u001b[0m             \u001b[0mx\u001b[0m \u001b[1;33m=\u001b[0m \u001b[0mnp\u001b[0m\u001b[1;33m.\u001b[0m\u001b[0marange\u001b[0m\u001b[1;33m(\u001b[0m\u001b[0my\u001b[0m\u001b[1;33m.\u001b[0m\u001b[0mshape\u001b[0m\u001b[1;33m[\u001b[0m\u001b[1;36m0\u001b[0m\u001b[1;33m]\u001b[0m\u001b[1;33m,\u001b[0m \u001b[0mdtype\u001b[0m\u001b[1;33m=\u001b[0m\u001b[0mfloat\u001b[0m\u001b[1;33m)\u001b[0m\u001b[1;33m\u001b[0m\u001b[0m\n\u001b[0;32m    281\u001b[0m \u001b[1;33m\u001b[0m\u001b[0m\n\u001b[1;32m--> 282\u001b[1;33m         \u001b[0mx\u001b[0m\u001b[1;33m,\u001b[0m \u001b[0my\u001b[0m \u001b[1;33m=\u001b[0m \u001b[0mself\u001b[0m\u001b[1;33m.\u001b[0m\u001b[0m_xy_from_xy\u001b[0m\u001b[1;33m(\u001b[0m\u001b[0mx\u001b[0m\u001b[1;33m,\u001b[0m \u001b[0my\u001b[0m\u001b[1;33m)\u001b[0m\u001b[1;33m\u001b[0m\u001b[0m\n\u001b[0m\u001b[0;32m    283\u001b[0m \u001b[1;33m\u001b[0m\u001b[0m\n\u001b[0;32m    284\u001b[0m         \u001b[1;32mif\u001b[0m \u001b[0mself\u001b[0m\u001b[1;33m.\u001b[0m\u001b[0mcommand\u001b[0m \u001b[1;33m==\u001b[0m \u001b[1;34m'plot'\u001b[0m\u001b[1;33m:\u001b[0m\u001b[1;33m\u001b[0m\u001b[0m\n",
      "\u001b[1;32mC:\\Users\\Trost\\Anaconda3\\lib\\site-packages\\matplotlib\\axes\\_base.py\u001b[0m in \u001b[0;36m_xy_from_xy\u001b[1;34m(self, x, y)\u001b[0m\n\u001b[0;32m    223\u001b[0m             \u001b[1;32mraise\u001b[0m \u001b[0mValueError\u001b[0m\u001b[1;33m(\u001b[0m\u001b[1;34m\"x and y must have same first dimension\"\u001b[0m\u001b[1;33m)\u001b[0m\u001b[1;33m\u001b[0m\u001b[0m\n\u001b[0;32m    224\u001b[0m         \u001b[1;32mif\u001b[0m \u001b[0mx\u001b[0m\u001b[1;33m.\u001b[0m\u001b[0mndim\u001b[0m \u001b[1;33m>\u001b[0m \u001b[1;36m2\u001b[0m \u001b[1;32mor\u001b[0m \u001b[0my\u001b[0m\u001b[1;33m.\u001b[0m\u001b[0mndim\u001b[0m \u001b[1;33m>\u001b[0m \u001b[1;36m2\u001b[0m\u001b[1;33m:\u001b[0m\u001b[1;33m\u001b[0m\u001b[0m\n\u001b[1;32m--> 225\u001b[1;33m             \u001b[1;32mraise\u001b[0m \u001b[0mValueError\u001b[0m\u001b[1;33m(\u001b[0m\u001b[1;34m\"x and y can be no greater than 2-D\"\u001b[0m\u001b[1;33m)\u001b[0m\u001b[1;33m\u001b[0m\u001b[0m\n\u001b[0m\u001b[0;32m    226\u001b[0m \u001b[1;33m\u001b[0m\u001b[0m\n\u001b[0;32m    227\u001b[0m         \u001b[1;32mif\u001b[0m \u001b[0mx\u001b[0m\u001b[1;33m.\u001b[0m\u001b[0mndim\u001b[0m \u001b[1;33m==\u001b[0m \u001b[1;36m1\u001b[0m\u001b[1;33m:\u001b[0m\u001b[1;33m\u001b[0m\u001b[0m\n",
      "\u001b[1;31mValueError\u001b[0m: x and y can be no greater than 2-D"
     ]
    },
    {
     "data": {
      "image/png": "[encoded data removed]",
      "text/plain": [
       "<matplotlib.figure.Figure at 0xafaeda0>"
      ]
     },
     "metadata": {},
     "output_type": "display_data"
    }
   ],
   "source": [
    "exponent = 10\n",
    "plt.plot(lin,m,color='red',linewidth = 3,label='predictive Mean')\n",
    "#plt.plot(X,y,'x')\n",
    "plt.scatter(X,y,color='black',label='data')\n",
    "for i in range(num_draws-1):\n",
    "    plt.plot(lin,lin*w[i+1][1]+w[i+1][0],color='cyan',alpha = (np.log(num_draws)+1)/num_draws)\n",
    "plt.plot(lin,lin*w[0][1]+w[0][0],color='cyan',alpha = (np.log(num_draws)+1)/num_draws,label = 'draws')\n",
    "\n",
    "plt.plot(lin,m - s**exponent,'blue',linewidth = 3,label='uncertainty')\n",
    "plt.plot(lin,m + s**exponent,'blue',linewidth = 3)\n",
    "\n",
    "plt.legend()\n",
    "plt.fill_between(lin,m,m- s**exponent,alpha = .3)\n",
    "plt.fill_between(lin,m,m + s**exponent,alpha = .3)\n",
    "\n",
    "lin.shape, m.shape, s.shape"
   ]
  },
  {
   "cell_type": "code",
   "execution_count": null,
   "metadata": {
    "collapsed": true
   },
   "outputs": [],
   "source": [
    "regr = linear_model.LinearRegression()"
   ]
  },
  {
   "cell_type": "code",
   "execution_count": null,
   "metadata": {
    "collapsed": false
   },
   "outputs": [],
   "source": [
    "regr.fit(X,y)"
   ]
  },
  {
   "cell_type": "code",
   "execution_count": 197,
   "metadata": {
    "collapsed": false
   },
   "outputs": [
    {
     "data": {
      "text/plain": [
       "<matplotlib.legend.Legend at 0xa01f208>"
      ]
     },
     "execution_count": 197,
     "metadata": {},
     "output_type": "execute_result"
    },
    {
     "name": "stderr",
     "output_type": "stream",
     "text": [
      "C:\\Users\\Trost\\Anaconda3\\lib\\site-packages\\matplotlib\\collections.py:590: FutureWarning: elementwise comparison failed; returning scalar instead, but in the future will perform elementwise comparison\n",
      "  if self._edgecolors == str('face'):\n"
     ]
    },
    {
     "data": {
      "image/png": "[encoded data removed]",
      "text/plain": [
       "<matplotlib.figure.Figure at 0x9feeba8>"
      ]
     },
     "metadata": {},
     "output_type": "display_data"
    }
   ],
   "source": [
    "plt.plot(X,test.predict(X),label = 'bayesreg')\n",
    "plt.scatter(X,y)\n",
    "\n",
    "plt.plot(X,regr.predict(X),label = 'ols')\n",
    "plt.legend()"
   ]
  },
  {
   "cell_type": "code",
   "execution_count": null,
   "metadata": {
    "collapsed": true
   },
   "outputs": [],
   "source": []
  },
  {
   "cell_type": "code",
   "execution_count": null,
   "metadata": {
    "collapsed": true
   },
   "outputs": [],
   "source": []
  },
  {
   "cell_type": "code",
   "execution_count": null,
   "metadata": {
    "collapsed": true
   },
   "outputs": [],
   "source": []
  },
  {
   "cell_type": "code",
   "execution_count": null,
   "metadata": {
    "collapsed": true
   },
   "outputs": [],
   "source": []
  }
 ],
 "metadata": {
  "kernelspec": {
   "display_name": "Python 3",
   "language": "python",
   "name": "python3"
  },
  "language_info": {
   "codemirror_mode": {
    "name": "ipython",
    "version": 3
   },
   "file_extension": ".py",
   "mimetype": "text/x-python",
   "name": "python",
   "nbconvert_exporter": "python",
   "pygments_lexer": "ipython3",
   "version": "3.4.3"
  }
 },
 "nbformat": 4,
 "nbformat_minor": 0
}

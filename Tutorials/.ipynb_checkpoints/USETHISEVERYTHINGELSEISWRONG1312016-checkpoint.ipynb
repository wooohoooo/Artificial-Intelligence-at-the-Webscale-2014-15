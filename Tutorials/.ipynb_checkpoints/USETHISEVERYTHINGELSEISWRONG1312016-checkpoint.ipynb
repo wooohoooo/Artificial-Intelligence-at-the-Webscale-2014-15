{
 "cells": [
  {
   "cell_type": "code",
   "execution_count": 25,
   "metadata": {
    "collapsed": true
   },
   "outputs": [],
   "source": [
    "import numpy as np\n",
    "import matplotlib.pyplot as plt\n",
    "from IPython.core.pylabtools import figsize\n",
    "%matplotlib inline\n",
    "import scipy.stats as stats\n",
    "import seaborn as sns; sns.set_context('notebook')\n",
    "figsize=(45,10)\n",
    "from IPython.core.pylabtools import figsize\n",
    "figsize(14.5,6.5)\n",
    "from sklearn import linear_model\n"
   ]
  },
  {
   "cell_type": "markdown",
   "metadata": {},
   "source": [
    "\n",
    "# Linear Bandit Solver"
   ]
  },
  {
   "cell_type": "markdown",
   "metadata": {},
   "source": [
    "### Bayesian Linear Regression\n"
   ]
  },
  {
   "cell_type": "code",
   "execution_count": 429,
   "metadata": {
    "collapsed": false
   },
   "outputs": [
    {
     "data": {
      "text/plain": [
       "False"
      ]
     },
     "execution_count": 429,
     "metadata": {},
     "output_type": "execute_result"
    },
    {
     "name": "stderr",
     "output_type": "stream",
     "text": [
      "C:\\Users\\Trost\\Anaconda3\\lib\\site-packages\\matplotlib\\collections.py:590: FutureWarning: elementwise comparison failed; returning scalar instead, but in the future will perform elementwise comparison\n",
      "  if self._edgecolors == str('face'):\n"
     ]
    },
    {
     "data": {
      "image/png": "[encoded data removed]",
      "text/plain": [
       "<matplotlib.figure.Figure at 0xdaa1048>"
      ]
     },
     "metadata": {},
     "output_type": "display_data"
    }
   ],
   "source": [
    "num_features = 1\n",
    "num_data = 100\n",
    "\n",
    "from sklearn.datasets import make_regression \n",
    "\n",
    "X1 = np.atleast_2d(np.linspace(10,100,num_data)).T\n",
    "\n",
    "np.random.shuffle(X1)\n",
    "def evaluate(X):\n",
    "    return  X*10  #+ np.random.normal(0,1)\n",
    "y1 = []\n",
    "for i in range(num_data):\n",
    "    y1 += [evaluate(X1[i,:])]\n",
    "y1 = np.array(y1).flatten()\n",
    "\n",
    "X,y,coef = make_regression(num_data,num_features,noise   = 20,shuffle=True, coef = True)\n",
    "y = -y\n",
    "#X1,y1,coef = make_regression(num_data,num_features,noise   = 20,shuffle=True, coef = True)\n",
    "#X = X1\n",
    "#y = y1\n",
    "#y += 100\n",
    "#X = np.array([0.4,.6,.3,.1])#,.11,.2,0.,.9,0.25,.35])#addeed some fake near-linear observations\n",
    "#y = np.array([.05,-.35,0,-.055])#,0.,.2,0.1,.5,-.9,.8])\n",
    "\n",
    "#X = np.atleast_2d(X)\n",
    "#y = X.copy()\n",
    "#plt.scatter(X1,y1,color = 'red')\n",
    "plt.scatter(X,y,color = 'blue')\n",
    "\n",
    "#X.shape,X1.shape,y.shape,y1.shape,type(X),type(X1),(X+X1).shape,type(y),type(y1),(y+y1).shape\n",
    "#X[:10],X1[:10]\n",
    "#y[:10],y1[:10]\n",
    "(X == y).all()\n",
    "\n",
    "#X[:10],X1[:10]"
   ]
  },
  {
   "cell_type": "code",
   "execution_count": 430,
   "metadata": {
    "collapsed": false
   },
   "outputs": [],
   "source": [
    "class BayesReg(object):\n",
    "    def __init__(self,num_features,alpha = 1,beta = 1):\n",
    "        self.num_features = num_features\n",
    "        self.B = np.eye(self.num_features+1)*alpha\n",
    "        self.Binv = np.linalg.inv(self.B)\n",
    "        self.f = np.zeros(num_features+1)\n",
    "        #self.f = self.f.T\n",
    "        self.mu = 1\n",
    "        self.beta = beta\n",
    "        \n",
    "    def add_intercept(self,X):\n",
    "        try:\n",
    "            X.shape[1]\n",
    "        except:\n",
    "            X = np.atleast_2d(X)\n",
    "        X_new = np.ones((X.shape[0],X.shape[1]+1),dtype=X.dtype)\n",
    "        X_new[:,1:] = X[:,:]\n",
    "        return np.atleast_2d(np.append(X[::-1],1)[::-1])[0]\n",
    "\n",
    "        return X_new[0]\n",
    "    \n",
    "    def add_intercept2(self,X):\n",
    "        return np.atleast_2d(X).T\n",
    "        #X = np.atleast_2d(X)\n",
    "        #X = np.append(np.atleast_2d(np.ones(shape=X.shape[1])).T,X,axis=1)\n",
    "        #return X\n",
    "    \n",
    "    def observe_x(self,x,y):\n",
    "        x = self.add_intercept(x)\n",
    "        #print(np.outer(x,x))\n",
    "        self.B = self.B + np.outer(x,x)\n",
    "        #print(self.B)\n",
    "        self.Binv = np.linalg.inv(self.B)\n",
    "        #self.Binv = 1/self.B \n",
    "        #self.f = self.f + np.dot(x,y)\n",
    "        #print(x*y)\n",
    "        #print(np.dot(x,y))\n",
    "        self.f = self.f + x*y\n",
    "        #print('f')\n",
    "        #print(self.f)\n",
    "        #print('nof')\n",
    "        self.mu += np.dot(self.Binv,self.f)\n",
    "        #print('mu')\n",
    "        print(self.mu)\n",
    "        #print('nomu')\n",
    "        #self.mu += self.Binv * self.f\n",
    "    \n",
    "        \n",
    "    def train(self,X,y,shuffle = True):\n",
    "        index = list(range(X.shape[0]))\n",
    "        if shuffle ==True:\n",
    "            np.random.shuffle(index)\n",
    "        for i in index:\n",
    "            self.observe_x(X[i],y[i])\n",
    "\n",
    "    def predict(self,X):\n",
    "        \"\"\"predicts ML estimate (non bayesian)\"\"\"\n",
    "        pred_list = []\n",
    "        self.muc = self.beta*self.Binv.dot(self.mu)\n",
    "        for i in range(X.shape[0]):\n",
    "            pred_list += [np.sum(self.muc.dot(self.add_intercept(X[i])))]\n",
    "            \n",
    "        return np.array(pred_list)\n",
    "    \n",
    "    def sx(self,x):\n",
    "        x = self.add_intercept(x)\n",
    "        return np.sqrt(1/self.beta + x.dot(self.Binv).dot(x.T))\n",
    "    \n",
    "    def mx(self,x,N=1):\n",
    "        x = self.add_intercept(x)\n",
    "        x_Binv = self.Binv.dot(self.mu)\n",
    "        return self.beta*N*x.dot(x_Binv)\n",
    "    \n",
    "    def predict_dist(self,X):\n",
    "        sx = []\n",
    "        mx = []\n",
    "        for i in range(X.shape[0]):\n",
    "            sx += [self.sx(X[i])]\n",
    "            mx += [self.mx(X[i])]\n",
    "        sx = np.asarray(sx)\n",
    "        mx = np.asarray(mx)\n",
    "        return mx,sx\n",
    "    \n",
    "    def draw(self,num=1):\n",
    "        \"\"\" MUC instead of MU?!\"\"\"\n",
    "        w = []\n",
    "        self.muc = self.beta*self.Binv.dot(self.mu)\n",
    "\n",
    "        for i in range(num):\n",
    "            w += [stats.multivariate_normal.rvs(self.muc.flatten(),self.Binv)]\n",
    "        return w\n",
    "        \n",
    "        \n",
    "        "
   ]
  },
  {
   "cell_type": "code",
   "execution_count": null,
   "metadata": {
    "collapsed": true
   },
   "outputs": [],
   "source": []
  },
  {
   "cell_type": "code",
   "execution_count": 431,
   "metadata": {
    "collapsed": false
   },
   "outputs": [
    {
     "data": {
      "text/plain": [
       "array([[ 1.        , -1.21393711],\n",
       "       [-1.21393711,  1.47364332]])"
      ]
     },
     "execution_count": 431,
     "metadata": {},
     "output_type": "execute_result"
    }
   ],
   "source": [
    "test = BayesReg(num_features,alpha = 1,beta = 1)\n",
    "A = test.add_intercept(X[0])\n",
    "t = y[0]\n",
    "B = np.atleast_2d(A)\n",
    "np.outer(A,A)"
   ]
  },
  {
   "cell_type": "code",
   "execution_count": 432,
   "metadata": {
    "collapsed": false
   },
   "outputs": [
    {
     "data": {
      "text/plain": [
       "array([ 1.        , -1.21393711])"
      ]
     },
     "execution_count": 432,
     "metadata": {},
     "output_type": "execute_result"
    }
   ],
   "source": [
    "A"
   ]
  },
  {
   "cell_type": "code",
   "execution_count": 433,
   "metadata": {
    "collapsed": false
   },
   "outputs": [
    {
     "data": {
      "text/plain": [
       "array([[ 1.        , -1.21393711],\n",
       "       [-1.21393711,  1.47364332]])"
      ]
     },
     "execution_count": 433,
     "metadata": {},
     "output_type": "execute_result"
    }
   ],
   "source": [
    "np.outer(B,B)"
   ]
  },
  {
   "cell_type": "code",
   "execution_count": 434,
   "metadata": {
    "collapsed": false
   },
   "outputs": [
    {
     "data": {
      "text/plain": [
       "(2,)"
      ]
     },
     "execution_count": 434,
     "metadata": {},
     "output_type": "execute_result"
    }
   ],
   "source": [
    "D = (A*t)\n",
    "D.shape"
   ]
  },
  {
   "cell_type": "code",
   "execution_count": 435,
   "metadata": {
    "collapsed": false
   },
   "outputs": [
    {
     "data": {
      "text/plain": [
       "(2, 1)"
      ]
     },
     "execution_count": 435,
     "metadata": {},
     "output_type": "execute_result"
    }
   ],
   "source": [
    "C = (B*t).T\n",
    "C.shape"
   ]
  },
  {
   "cell_type": "code",
   "execution_count": 436,
   "metadata": {
    "collapsed": false
   },
   "outputs": [
    {
     "data": {
      "text/plain": [
       "()"
      ]
     },
     "execution_count": 436,
     "metadata": {},
     "output_type": "execute_result"
    }
   ],
   "source": [
    "np.dot(A,D).shape"
   ]
  },
  {
   "cell_type": "code",
   "execution_count": 437,
   "metadata": {
    "collapsed": false
   },
   "outputs": [
    {
     "data": {
      "text/plain": [
       "(1,)"
      ]
     },
     "execution_count": 437,
     "metadata": {},
     "output_type": "execute_result"
    }
   ],
   "source": [
    "np.dot(D,C).shape"
   ]
  },
  {
   "cell_type": "code",
   "execution_count": null,
   "metadata": {
    "collapsed": true
   },
   "outputs": [],
   "source": []
  },
  {
   "cell_type": "code",
   "execution_count": null,
   "metadata": {
    "collapsed": true
   },
   "outputs": [],
   "source": []
  },
  {
   "cell_type": "code",
   "execution_count": null,
   "metadata": {
    "collapsed": true
   },
   "outputs": [],
   "source": []
  },
  {
   "cell_type": "code",
   "execution_count": null,
   "metadata": {
    "collapsed": true
   },
   "outputs": [],
   "source": []
  },
  {
   "cell_type": "code",
   "execution_count": 438,
   "metadata": {
    "collapsed": false
   },
   "outputs": [
    {
     "name": "stdout",
     "output_type": "stream",
     "text": [
      "[-5.83139738 -3.45106607]\n",
      "[-8.20468538 -6.90569502]\n",
      "[-13.26410628 -13.21404313]\n",
      "[-24.09050544 -10.52385951]\n",
      "[-36.58394525  -9.27534522]\n",
      "[-45.8932209   -8.25981278]\n",
      "[-49.26348306  -9.26222479]\n",
      "[-50.7250976   -8.73334805]\n",
      "[-52.57900694  -8.22891178]\n",
      "[-53.82779786  -8.32951338]\n",
      "[-52.80990916 -12.24820799]\n",
      "[-53.00121488 -13.89991225]\n",
      "[-49.28420444 -19.45542064]\n",
      "[-45.37214532 -24.68229608]\n",
      "[-42.07226634 -29.35793619]\n",
      "[-37.21461405 -32.14071897]\n",
      "[-32.85173505 -36.18254187]\n",
      "[-26.04194351 -43.03590565]\n",
      "[-20.08073931 -51.38046787]\n",
      "[-14.2958467  -61.19119749]\n",
      "[-10.36498773 -72.9599122 ]\n",
      "[ -6.31828122 -84.66285843]\n",
      "[ -1.037818   -97.75449287]\n",
      "[   3.81564109 -112.79616806]\n",
      "[   9.22112812 -128.88662504]\n",
      "[  14.75511067 -145.187109  ]\n",
      "[  18.49853901 -159.74529029]\n",
      "[  23.32174255 -175.67244016]\n",
      "[  27.57639782 -192.50030274]\n",
      "[  31.80687243 -209.33289517]\n",
      "[  35.03896083 -226.92656072]\n",
      "[  38.5665841 -243.9282679]\n",
      "[  41.42414296 -261.95540059]\n",
      "[  43.2837192  -279.96321854]\n",
      "[  45.67113177 -297.65593549]\n",
      "[  48.41898568 -315.49330806]\n",
      "[  51.34225118 -333.32627294]\n",
      "[  53.82032251 -351.83586839]\n",
      "[  55.97852629 -370.42925598]\n",
      "[  58.33373521 -387.6922826 ]\n",
      "[  59.83898048 -404.65865944]\n",
      "[  61.25347942 -421.72160555]\n",
      "[  62.26414769 -438.59253037]\n",
      "[  62.51254549 -457.31187949]\n",
      "[  63.22553116 -476.06730307]\n",
      "[  63.3038698  -495.44319763]\n",
      "[  63.34189049 -514.79977723]\n",
      "[  63.50413742 -534.00965418]\n",
      "[  63.65661498 -553.24614812]\n",
      "[  64.21962874 -572.84231026]\n",
      "[  64.73134508 -592.49118822]\n",
      "[  64.67163494 -611.1981966 ]\n",
      "[  64.30751749 -629.76473022]\n",
      "[  63.82142848 -648.45539124]\n",
      "[  64.11320326 -667.55459012]\n",
      "[  64.34893869 -686.79651209]\n",
      "[  64.54492248 -706.03147841]\n",
      "[  63.97737852 -724.0015334 ]\n",
      "[  63.66875773 -742.36290501]\n",
      "[  63.87595521 -760.59192587]\n",
      "[  64.0591066  -778.80348436]\n",
      "[  64.14213574 -796.89626084]\n",
      "[  65.42904674 -817.73175247]\n",
      "[  66.64041804 -838.58969571]\n",
      "[  68.07405704 -859.24014479]\n",
      "[  69.60446964 -879.74043667]\n",
      "[  70.82394929 -900.30424933]\n",
      "[  72.18020994 -920.78184955]\n",
      "[  73.49474325 -941.25671432]\n",
      "[  74.65651396 -961.48271391]\n",
      "[  76.06263118 -981.11511837]\n",
      "[   77.65338052 -1000.68186915]\n",
      "[   79.29225303 -1020.28260081]\n",
      "[   81.17947202 -1040.18235886]\n",
      "[   82.90822732 -1060.22620562]\n",
      "[   84.87104888 -1080.13007964]\n",
      "[   86.44677161 -1099.27699297]\n",
      "[   87.92667559 -1118.54252965]\n",
      "[   89.51155754 -1137.96403256]\n",
      "[   91.06035854 -1157.495945  ]\n",
      "[   92.38380881 -1176.95782552]\n",
      "[   93.41155767 -1196.31967988]\n",
      "[   94.20827841 -1215.99968142]\n",
      "[   95.10524574 -1235.40293601]\n",
      "[   95.80597051 -1254.72697024]\n",
      "[   96.21711472 -1274.45451443]\n",
      "[   96.47883455 -1294.66009578]\n",
      "[   96.69036987 -1314.83280212]\n",
      "[   96.83444905 -1335.08209497]\n",
      "[   97.17040315 -1355.08859408]\n",
      "[   97.82806063 -1374.99915161]\n",
      "[   98.51897343 -1394.93910528]\n",
      "[   98.93230589 -1414.60477785]\n",
      "[   99.02634565 -1434.38359549]\n",
      "[   98.84059779 -1453.90484374]\n",
      "[   98.66139777 -1473.42692626]\n",
      "[   98.35169319 -1492.79168969]\n",
      "[   98.10145635 -1512.17221538]\n",
      "[   98.05016473 -1531.32247985]\n",
      "[   97.96841632 -1550.52691437]\n"
     ]
    }
   ],
   "source": [
    "test.train(X,y)"
   ]
  },
  {
   "cell_type": "code",
   "execution_count": 439,
   "metadata": {
    "collapsed": false
   },
   "outputs": [
    {
     "data": {
      "text/plain": [
       "array([   97.96841632, -1550.52691437])"
      ]
     },
     "execution_count": 439,
     "metadata": {},
     "output_type": "execute_result"
    }
   ],
   "source": [
    "test.mu"
   ]
  },
  {
   "cell_type": "code",
   "execution_count": 440,
   "metadata": {
    "collapsed": false
   },
   "outputs": [
    {
     "data": {
      "text/plain": [
       "4.3725757517440016"
      ]
     },
     "execution_count": 440,
     "metadata": {},
     "output_type": "execute_result"
    }
   ],
   "source": [
    "lin = np.linspace(min(X)*2,max(X)*2,100)#(-3,3,100)#\n",
    "num_draws = 10\n",
    "\n",
    "m,s = test.predict_dist(lin)\n",
    "w = test.draw(num=num_draws)\n",
    "w[0][0]"
   ]
  },
  {
   "cell_type": "code",
   "execution_count": 441,
   "metadata": {
    "collapsed": false
   },
   "outputs": [
    {
     "data": {
      "text/plain": [
       "((100,), (100,), (100,))"
      ]
     },
     "execution_count": 441,
     "metadata": {},
     "output_type": "execute_result"
    },
    {
     "name": "stderr",
     "output_type": "stream",
     "text": [
      "C:\\Users\\Trost\\Anaconda3\\lib\\site-packages\\matplotlib\\collections.py:590: FutureWarning: elementwise comparison failed; returning scalar instead, but in the future will perform elementwise comparison\n",
      "  if self._edgecolors == str('face'):\n"
     ]
    },
    {
     "data": {
      "image/png": "[encoded data removed]",
      "text/plain": [
       "<matplotlib.figure.Figure at 0xa6bca58>"
      ]
     },
     "metadata": {},
     "output_type": "display_data"
    }
   ],
   "source": [
    "exponent = 10\n",
    "plt.plot(lin,m,color='red',linewidth = 3,label='predictive Mean')\n",
    "#plt.plot(X,y,'x')\n",
    "plt.scatter(X,y,color='black',label='data')\n",
    "for i in range(num_draws-1):\n",
    "    plt.plot(lin,lin*w[i+1][1]+w[i+1][0],color='cyan',alpha = (np.log(num_draws)+1)/num_draws)\n",
    "plt.plot(lin,lin*w[0][1]+w[0][0],color='cyan',alpha = (np.log(num_draws)+1)/num_draws,label = 'draws')\n",
    "\n",
    "plt.plot(lin,m - s**exponent,'blue',linewidth = 3,label='uncertainty')\n",
    "plt.plot(lin,m + s**exponent,'blue',linewidth = 3)\n",
    "\n",
    "plt.legend()\n",
    "plt.fill_between(lin,m,m- s**exponent,alpha = .3)\n",
    "plt.fill_between(lin,m,m + s**exponent,alpha = .3)\n",
    "\n",
    "lin.shape, m.shape, s.shape"
   ]
  },
  {
   "cell_type": "code",
   "execution_count": 442,
   "metadata": {
    "collapsed": true
   },
   "outputs": [],
   "source": [
    "regr = linear_model.LinearRegression()"
   ]
  },
  {
   "cell_type": "code",
   "execution_count": 443,
   "metadata": {
    "collapsed": false
   },
   "outputs": [
    {
     "data": {
      "text/plain": [
       "LinearRegression(copy_X=True, fit_intercept=True, n_jobs=1, normalize=False)"
      ]
     },
     "execution_count": 443,
     "metadata": {},
     "output_type": "execute_result"
    }
   ],
   "source": [
    "regr.fit(X,y)"
   ]
  },
  {
   "cell_type": "code",
   "execution_count": 444,
   "metadata": {
    "collapsed": false
   },
   "outputs": [
    {
     "data": {
      "text/plain": [
       "<matplotlib.legend.Legend at 0xb5ff198>"
      ]
     },
     "execution_count": 444,
     "metadata": {},
     "output_type": "execute_result"
    },
    {
     "name": "stderr",
     "output_type": "stream",
     "text": [
      "C:\\Users\\Trost\\Anaconda3\\lib\\site-packages\\matplotlib\\collections.py:590: FutureWarning: elementwise comparison failed; returning scalar instead, but in the future will perform elementwise comparison\n",
      "  if self._edgecolors == str('face'):\n"
     ]
    },
    {
     "data": {
      "image/png": "[encoded data removed]",
      "text/plain": [
       "<matplotlib.figure.Figure at 0xda4ef98>"
      ]
     },
     "metadata": {},
     "output_type": "display_data"
    }
   ],
   "source": [
    "plt.plot(X,test.predict(X),label = 'bayesreg')\n",
    "plt.scatter(X,y)\n",
    "\n",
    "plt.plot(X,regr.predict(X),label = 'ols')\n",
    "plt.legend()"
   ]
  },
  {
   "cell_type": "code",
   "execution_count": null,
   "metadata": {
    "collapsed": true
   },
   "outputs": [],
   "source": []
  },
  {
   "cell_type": "code",
   "execution_count": null,
   "metadata": {
    "collapsed": true
   },
   "outputs": [],
   "source": []
  },
  {
   "cell_type": "code",
   "execution_count": null,
   "metadata": {
    "collapsed": true
   },
   "outputs": [],
   "source": []
  },
  {
   "cell_type": "code",
   "execution_count": null,
   "metadata": {
    "collapsed": true
   },
   "outputs": [],
   "source": []
  }
 ],
 "metadata": {
  "kernelspec": {
   "display_name": "Python 3",
   "language": "python",
   "name": "python3"
  },
  "language_info": {
   "codemirror_mode": {
    "name": "ipython",
    "version": 3
   },
   "file_extension": ".py",
   "mimetype": "text/x-python",
   "name": "python",
   "nbconvert_exporter": "python",
   "pygments_lexer": "ipython3",
   "version": "3.4.3"
  }
 },
 "nbformat": 4,
 "nbformat_minor": 0
}

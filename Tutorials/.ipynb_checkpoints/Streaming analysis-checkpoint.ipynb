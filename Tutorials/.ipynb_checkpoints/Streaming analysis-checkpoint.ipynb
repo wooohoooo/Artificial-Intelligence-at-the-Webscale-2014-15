{
 "cells": [
  {
   "cell_type": "code",
   "execution_count": 1,
   "metadata": {
    "collapsed": true
   },
   "outputs": [],
   "source": [
    "import numpy as np\n",
    "from sklearn.datasets import make_regression\n",
    "import matplotlib.pyplot as plt\n",
    "%matplotlib inline"
   ]
  },
  {
   "cell_type": "markdown",
   "metadata": {},
   "source": [
    "# Streaming analysis\n",
    "\n",
    "In this notebook, I will \n",
    "\n",
    "1. implement a streaming computation of variance\n",
    "2. implement a streaming linear regression\n",
    "3. Compate the differences in computation and mempry between streaming and non-streaming linear regression\n",
    "\n",
    "we'll do variance and regression, so let's use the awesome sklearn.make_regression to create a Dataset:"
   ]
  },
  {
   "cell_type": "code",
   "execution_count": 2,
   "metadata": {
    "collapsed": false
   },
   "outputs": [],
   "source": [
    "X,y = make_regression(n_samples=100, \n",
    "                      n_features=1, \n",
    "                      n_informative=1, \n",
    "                      n_targets=1, \n",
    "                      tail_strength=0.5, noise=10.0)"
   ]
  },
  {
   "cell_type": "code",
   "execution_count": 3,
   "metadata": {
    "collapsed": false
   },
   "outputs": [
    {
     "data": {
      "text/plain": [
       "[<matplotlib.lines.Line2D at 0x77a4048>]"
      ]
     },
     "execution_count": 3,
     "metadata": {},
     "output_type": "execute_result"
    },
    {
     "data": {
      "image/png": "[encoded data removed]",
      "text/plain": [
       "<matplotlib.figure.Figure at 0x45e63c8>"
      ]
     },
     "metadata": {},
     "output_type": "display_data"
    }
   ],
   "source": [
    "plt.plot(X,y,'x')"
   ]
  },
  {
   "cell_type": "markdown",
   "metadata": {},
   "source": [
    "\n",
    "# Streaming Variance\n",
    "\n",
    "Really simple"
   ]
  },
  {
   "cell_type": "code",
   "execution_count": 4,
   "metadata": {
    "collapsed": true
   },
   "outputs": [],
   "source": [
    "def mu(x,x_old,N_old,S_old,t=1):\n",
    "    x_new = x_old + (1/(N_old+1) *((x*t)-x_old))\n",
    "    S = S_old +(x-x_new)*(x-x_new)\n",
    "    n_new = N_old+1\n",
    "    return x_new,n_new,S"
   ]
  },
  {
   "cell_type": "code",
   "execution_count": 5,
   "metadata": {
    "collapsed": false
   },
   "outputs": [],
   "source": [
    "y_t = 0\n",
    "y_mean = 0\n",
    "y_var = 0\n",
    "n= 0\n",
    "n_new = 0\n",
    "y_hat = 0\n",
    "S = 0\n",
    "for i in range(len(y)):\n",
    "    y_hat,n_new,S = mu(y[i],y_hat,n_new,S)"
   ]
  },
  {
   "cell_type": "code",
   "execution_count": 6,
   "metadata": {
    "collapsed": false
   },
   "outputs": [
    {
     "data": {
      "text/plain": [
       "(8.8680936559688046, 3939.020456838372)"
      ]
     },
     "execution_count": 6,
     "metadata": {},
     "output_type": "execute_result"
    }
   ],
   "source": [
    "np.mean(y),np.var(y)"
   ]
  },
  {
   "cell_type": "code",
   "execution_count": 7,
   "metadata": {
    "collapsed": false
   },
   "outputs": [
    {
     "data": {
      "text/plain": [
       "(8.8680936559688082, 3804.7702476515246)"
      ]
     },
     "execution_count": 7,
     "metadata": {},
     "output_type": "execute_result"
    }
   ],
   "source": [
    "y_hat, S/(n_new-1)"
   ]
  },
  {
   "cell_type": "markdown",
   "metadata": {},
   "source": [
    "# streaming regression"
   ]
  },
  {
   "cell_type": "code",
   "execution_count": 8,
   "metadata": {
    "collapsed": false
   },
   "outputs": [],
   "source": [
    "def regr(x,y,A,b):\n",
    "    A = A+x*x\n",
    "    b = b + x*y\n",
    "    return A,b"
   ]
  },
  {
   "cell_type": "code",
   "execution_count": 9,
   "metadata": {
    "collapsed": true
   },
   "outputs": [],
   "source": [
    "A = 0\n",
    "b = 0\n",
    "\n",
    "for i in range(len(y)):\n",
    "    A,b = regr(X[i],y[i],A,b)"
   ]
  },
  {
   "cell_type": "code",
   "execution_count": 10,
   "metadata": {
    "collapsed": true
   },
   "outputs": [],
   "source": [
    "beta = 1/A *b"
   ]
  },
  {
   "cell_type": "code",
   "execution_count": 11,
   "metadata": {
    "collapsed": false
   },
   "outputs": [
    {
     "data": {
      "text/plain": [
       "[<matplotlib.lines.Line2D at 0x77ceb38>]"
      ]
     },
     "execution_count": 11,
     "metadata": {},
     "output_type": "execute_result"
    },
    {
     "data": {
      "image/png": "[encoded data removed]",
      "text/plain": [
       "<matplotlib.figure.Figure at 0x77ce390>"
      ]
     },
     "metadata": {},
     "output_type": "display_data"
    }
   ],
   "source": [
    "plt.plot(X,y,'x')\n",
    "plt.plot(X,X*beta)"
   ]
  },
  {
   "cell_type": "markdown",
   "metadata": {},
   "source": [
    "# comparisson\n",
    "\n",
    "non streaming linear regression needs to safe all examples in X at once; otherwise e.g. OLS ($\\hat\\beta = (X^T X)^{-1}X^T y$) won't work. No need fot that in streaming linear regression. We can just work with new entries as they come along and only have to safe A and b. \n",
    "On the computational side, standard ols regression is $O(C^2N)$ with N training examples and C features (note that there are more training examples than features, otherwise there's no single solution to the OLS). Online regression has a similar/ a bit higher complexity (this is an estimate. At each example, we have $x*x$ which amounts to ~ $C^2$ and $x*y$ which adds CN); however, in ols regression, we need to perform those computations at one point in time, while with online regression, it can be streched over several occasions. Additionally, the outcomes of streaming regressions are useable right from the start, which can be interesting of e.g. the choice of a data generating action depends on the outcomes (see contextual bandits).\n",
    "\n",
    "This is, unsurprisingly, great for online problems, in which e.g. user data comes in as a steady stream but would be infeasible if it had to be saved and computed at one go."
   ]
  },
  {
   "cell_type": "code",
   "execution_count": null,
   "metadata": {
    "collapsed": true
   },
   "outputs": [],
   "source": []
  }
 ],
 "metadata": {
  "kernelspec": {
   "display_name": "Python 3",
   "language": "python",
   "name": "python3"
  },
  "language_info": {
   "codemirror_mode": {
    "name": "ipython",
    "version": 3
   },
   "file_extension": ".py",
   "mimetype": "text/x-python",
   "name": "python",
   "nbconvert_exporter": "python",
   "pygments_lexer": "ipython3",
   "version": "3.4.3"
  }
 },
 "nbformat": 4,
 "nbformat_minor": 0
}

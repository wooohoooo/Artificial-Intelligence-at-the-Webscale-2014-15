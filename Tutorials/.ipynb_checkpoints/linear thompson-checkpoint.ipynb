{
 "cells": [
  {
   "cell_type": "code",
   "execution_count": 307,
   "metadata": {
    "collapsed": true
   },
   "outputs": [],
   "source": [
    "import numpy as np\n",
    "import scipy.stats as stats\n",
    "import matplotlib.pyplot as plt\n",
    "%matplotlib inline\n",
    "import seaborn as sns; sns.set_context('notebook')\n",
    "figsize=(45,10)\n",
    "from IPython.core.pylabtools import figsize\n",
    "figsize(14.5,10)"
   ]
  },
  {
   "cell_type": "markdown",
   "metadata": {},
   "source": [
    "# the problem"
   ]
  },
  {
   "cell_type": "markdown",
   "metadata": {},
   "source": [
    "log normal seems adequate"
   ]
  },
  {
   "cell_type": "code",
   "execution_count": 308,
   "metadata": {
    "collapsed": true
   },
   "outputs": [],
   "source": [
    "cov = [[1.0, 0.2, 0.3,],\n",
    "       [0.2, 1.0, 0.3,],\n",
    "       [0.3, 0.3, 1.0]]\n",
    "cov = np.array(cov)"
   ]
  },
  {
   "cell_type": "code",
   "execution_count": 309,
   "metadata": {
    "collapsed": true
   },
   "outputs": [],
   "source": [
    "mu  = np.log([0.3, 0.4, 0.5])\n"
   ]
  },
  {
   "cell_type": "code",
   "execution_count": 310,
   "metadata": {
    "collapsed": true
   },
   "outputs": [],
   "source": [
    "rv = np.random.multivariate_normal(mu, cov, size=5)\n",
    "log_rv= np.exp(rv)"
   ]
  },
  {
   "cell_type": "code",
   "execution_count": 311,
   "metadata": {
    "collapsed": false
   },
   "outputs": [
    {
     "data": {
      "text/plain": [
       "array([[ 0.17450077,  0.52354564,  0.49309781],\n",
       "       [ 2.9335134 ,  0.50403083,  0.91780686],\n",
       "       [ 0.54603857,  1.05280739,  0.49142938],\n",
       "       [ 0.65266179,  0.31523071,  0.57000327],\n",
       "       [ 2.93312284,  1.71489606,  0.68963287]])"
      ]
     },
     "execution_count": 311,
     "metadata": {},
     "output_type": "execute_result"
    }
   ],
   "source": [
    "log_rv"
   ]
  },
  {
   "cell_type": "code",
   "execution_count": 312,
   "metadata": {
    "collapsed": false
   },
   "outputs": [
    {
     "data": {
      "text/plain": [
       "0.17450076896322578"
      ]
     },
     "execution_count": 312,
     "metadata": {},
     "output_type": "execute_result"
    }
   ],
   "source": [
    "log_rv[0,0]"
   ]
  },
  {
   "cell_type": "code",
   "execution_count": 313,
   "metadata": {
    "collapsed": false
   },
   "outputs": [],
   "source": [
    "class normal_thompson(object):\n",
    "    \"\"\"baseline\"\"\"\n",
    "    def __init__(self,num_options = 3,num_responses=5,prior = None,alpha = 0,beta = 0):\n",
    "        self.reward = np.zeros(shape =(num_options,num_responses,))\n",
    "        self.std = np.ones(shape =(num_options,num_responses,))*10\n",
    "        self.N = np.zeros(shape =(num_options,num_responses,))\n",
    "        self.num_responses = num_responses\n",
    "        self.alpha = alpha\n",
    "        self.beta = beta\n",
    "    \n",
    "    def mu(self,x,x_old,N_old):\n",
    "        return x_old + (1/(N_old+1))*(x-x_old)\n",
    "    \n",
    "    def calc_std(self,x,mu_old,std_old,N_old):\n",
    "        if N_old == 0:\n",
    "            return 10\n",
    "        new_mu = self.mu(x,mu_old,N_old)\n",
    "        new_std = std_old + (x - mu_old)*(x-new_mu)\n",
    "        return new_std/(N_old+1)\n",
    "       \n",
    "    def update(self,arm,response,reward):\n",
    "        \"\"\"computes the mean reward for each arm/response combination\"\"\"\n",
    "\n",
    "        self.reward[arm,response] = self.mu(reward,self.reward[arm,response],self.N[arm,response])\n",
    "        self.std[arm,response] = self.calc_std(reward,self.reward[arm,response],self.std[arm,response],self.N[arm,response])\n",
    "        self.N[arm,response] += 1\n",
    "        \n",
    "    def choose_arm(self,context):\n",
    "        \"\"\"this is we draw cool arms.\"\"\"\n",
    "        #sN_inv = np.diag((self.alpha,self.alpha,self.alpha)) + self.beta * np.array([[1,mux,muxy],[mux,muxy,muxz],[muxz,muzy,muxyz]])\n",
    "        #sN = np.linalg.inv(sN_inv)\n",
    "        draws = []\n",
    "        for i in range(self.num_responses):\n",
    "            #print(self.std[context,i])\n",
    "            draws += [np.random.normal(self.reward[context,i],self.std[context,i])]\n",
    "        return draws.index(max(draws))\n",
    "        \n",
    "            \n",
    "        "
   ]
  },
  {
   "cell_type": "code",
   "execution_count": 314,
   "metadata": {
    "collapsed": false
   },
   "outputs": [
    {
     "data": {
      "text/plain": [
       "array([[3, 0, 0],\n",
       "       [0, 3, 0],\n",
       "       [0, 0, 3]])"
      ]
     },
     "execution_count": 314,
     "metadata": {},
     "output_type": "execute_result"
    }
   ],
   "source": [
    "np.diag((3,3,3))"
   ]
  },
  {
   "cell_type": "code",
   "execution_count": 315,
   "metadata": {
    "collapsed": false
   },
   "outputs": [
    {
     "data": {
      "text/plain": [
       "array([ 0.,  0.])"
      ]
     },
     "execution_count": 315,
     "metadata": {},
     "output_type": "execute_result"
    }
   ],
   "source": [
    "np.zeros(shape=(2,))"
   ]
  },
  {
   "cell_type": "code",
   "execution_count": 374,
   "metadata": {
    "collapsed": false
   },
   "outputs": [],
   "source": [
    "a = normal_thompson()"
   ]
  },
  {
   "cell_type": "code",
   "execution_count": 317,
   "metadata": {
    "collapsed": false
   },
   "outputs": [],
   "source": [
    "a.update(1,1,log_rv[1,1])"
   ]
  },
  {
   "cell_type": "code",
   "execution_count": 318,
   "metadata": {
    "collapsed": false
   },
   "outputs": [],
   "source": [
    "a.update(1,1,log_rv[1,2])"
   ]
  },
  {
   "cell_type": "code",
   "execution_count": 319,
   "metadata": {
    "collapsed": true
   },
   "outputs": [],
   "source": [
    "a.update(1,1,log_rv[1,1])"
   ]
  },
  {
   "cell_type": "code",
   "execution_count": 320,
   "metadata": {
    "collapsed": true
   },
   "outputs": [],
   "source": [
    "a.update(1,1,log_rv[2,1])"
   ]
  },
  {
   "cell_type": "code",
   "execution_count": 321,
   "metadata": {
    "collapsed": false
   },
   "outputs": [
    {
     "data": {
      "text/plain": [
       "array([[ 0.        ,  0.        ,  0.        ,  0.        ,  0.        ],\n",
       "       [ 0.        ,  0.74466898,  0.        ,  0.        ,  0.        ],\n",
       "       [ 0.        ,  0.        ,  0.        ,  0.        ,  0.        ]])"
      ]
     },
     "execution_count": 321,
     "metadata": {},
     "output_type": "execute_result"
    }
   ],
   "source": [
    "a.reward"
   ]
  },
  {
   "cell_type": "code",
   "execution_count": 322,
   "metadata": {
    "collapsed": false
   },
   "outputs": [
    {
     "data": {
      "text/plain": [
       "array([[ 0.,  0.,  0.,  0.,  0.],\n",
       "       [ 0.,  4.,  0.,  0.,  0.],\n",
       "       [ 0.,  0.,  0.,  0.,  0.]])"
      ]
     },
     "execution_count": 322,
     "metadata": {},
     "output_type": "execute_result"
    }
   ],
   "source": [
    "a.N"
   ]
  },
  {
   "cell_type": "code",
   "execution_count": 323,
   "metadata": {
    "collapsed": false
   },
   "outputs": [
    {
     "data": {
      "text/plain": [
       "array([[ 10.        ,  10.        ,  10.        ,  10.        ,  10.        ],\n",
       "       [ 10.        ,   0.43641823,  10.        ,  10.        ,  10.        ],\n",
       "       [ 10.        ,  10.        ,  10.        ,  10.        ,  10.        ]])"
      ]
     },
     "execution_count": 323,
     "metadata": {},
     "output_type": "execute_result"
    }
   ],
   "source": [
    "a.std"
   ]
  },
  {
   "cell_type": "code",
   "execution_count": 324,
   "metadata": {
    "collapsed": false
   },
   "outputs": [
    {
     "data": {
      "text/plain": [
       "4"
      ]
     },
     "execution_count": 324,
     "metadata": {},
     "output_type": "execute_result"
    }
   ],
   "source": [
    "a.choose_arm(1)"
   ]
  },
  {
   "cell_type": "code",
   "execution_count": 386,
   "metadata": {
    "collapsed": false
   },
   "outputs": [
    {
     "name": "stderr",
     "output_type": "stream",
     "text": [
      "C:\\Users\\Trost\\Anaconda3\\lib\\site-packages\\matplotlib\\collections.py:590: FutureWarning: elementwise comparison failed; returning scalar instead, but in the future will perform elementwise comparison\n",
      "  if self._edgecolors == str('face'):\n"
     ]
    },
    {
     "data": {
      "image/png": "[encoded data removed]",
      "text/plain": [
       "<matplotlib.figure.Figure at 0x90d14e0>"
      ]
     },
     "metadata": {},
     "output_type": "display_data"
    }
   ],
   "source": [
    "for i in range(1000):\n",
    "    rv = np.random.multivariate_normal(mu, cov, size=5)\n",
    "    log_rv= np.exp(rv)\n",
    "    arm = np.random.randint(0,5)\n",
    "    cont = np.random.randint(0,3)\n",
    "    \n",
    "    a.choose_arm(cont)\n",
    "    reward = log_rv[arm,cont]\n",
    "    a.update(cont,arm,reward)\n",
    "    \n",
    "\n",
    "figsize(14.5,5)\n",
    "plt.pcolor(a.std/a.std.max(axis=0),cmap=plt.cm.Blues)\n",
    "frame1 = plt.gca()\n",
    "\n",
    "#plt.axis('off')\n",
    "frame1.axes.get_xaxis().set_visible(False)\n",
    "frame1.axes.get_yaxis().set_visible(False)\n",
    "#figsize(14.5,10)\n",
    "plt.savefig('whatever_christmas4.png', facecolor='white', edgecolor='k')\n"
   ]
  },
  {
   "cell_type": "code",
   "execution_count": 349,
   "metadata": {
    "collapsed": false
   },
   "outputs": [
    {
     "data": {
      "text/plain": [
       "array([  1.29326582e-04,   2.00754806e-04,   5.73627168e-06,\n",
       "         2.50627628e-04,   1.22804614e-04,   1.12776297e-03,\n",
       "         6.30150959e-05,   6.84096472e-05,   7.68017670e-05,\n",
       "         2.48221615e-04,   3.16461479e-05,   4.33862965e-03,\n",
       "         4.73679769e-04,   1.71014779e-05,   4.64398263e-04])"
      ]
     },
     "execution_count": 349,
     "metadata": {},
     "output_type": "execute_result"
    }
   ],
   "source": [
    "a.std.flatten()"
   ]
  },
  {
   "cell_type": "code",
   "execution_count": 350,
   "metadata": {
    "collapsed": false
   },
   "outputs": [
    {
     "data": {
      "text/plain": [
       "array([[ 0.47903377,  0.68060892,  0.79766137],\n",
       "       [ 0.47996976,  0.65486387,  0.84468198],\n",
       "       [ 0.50706996,  0.60890728,  0.84009336],\n",
       "       [ 0.53024923,  0.62829717,  0.80083235],\n",
       "       [ 0.46795406,  0.64903029,  0.7897505 ]])"
      ]
     },
     "execution_count": 350,
     "metadata": {},
     "output_type": "execute_result"
    }
   ],
   "source": [
    "a.reward.T"
   ]
  },
  {
   "cell_type": "code",
   "execution_count": 351,
   "metadata": {
    "collapsed": false
   },
   "outputs": [
    {
     "name": "stderr",
     "output_type": "stream",
     "text": [
      "C:\\Users\\Trost\\Anaconda3\\lib\\site-packages\\matplotlib\\collections.py:590: FutureWarning: elementwise comparison failed; returning scalar instead, but in the future will perform elementwise comparison\n",
      "  if self._edgecolors == str('face'):\n"
     ]
    },
    {
     "data": {
      "image/png": "[encoded data removed]",
      "text/plain": [
       "<matplotlib.figure.Figure at 0xa147cf8>"
      ]
     },
     "metadata": {},
     "output_type": "display_data"
    }
   ],
   "source": [
    "#fig, ax = plt.subplots()\n",
    "ax = plt.subplot(2,1,1)\n",
    "heatmap = plt.pcolor(a.reward,cmap=plt.cm.Blues)\n",
    "ax.invert_yaxis()\n",
    "ax.xaxis.tick_top()\n",
    "\n",
    "fig =  plt.subplot(2,1,2)\n",
    "heatmap = plt.pcolor(a.std/a.std.max(axis=0),cmap=plt.cm.Blues)\n",
    "#fig.invert_yaxis()\n",
    "fig.xaxis.tick_top()\n"
   ]
  },
  {
   "cell_type": "code",
   "execution_count": 352,
   "metadata": {
    "collapsed": false
   },
   "outputs": [
    {
     "name": "stderr",
     "output_type": "stream",
     "text": [
      "C:\\Users\\Trost\\Anaconda3\\lib\\site-packages\\matplotlib\\collections.py:590: FutureWarning: elementwise comparison failed; returning scalar instead, but in the future will perform elementwise comparison\n",
      "  if self._edgecolors == str('face'):\n"
     ]
    },
    {
     "data": {
      "image/png": "[encoded data removed]",
      "text/plain": [
       "<matplotlib.figure.Figure at 0xa27c0b8>"
      ]
     },
     "metadata": {},
     "output_type": "display_data"
    }
   ],
   "source": []
  },
  {
   "cell_type": "code",
   "execution_count": 342,
   "metadata": {
    "collapsed": false
   },
   "outputs": [
    {
     "data": {
      "text/plain": [
       "array([[1, 0, 0],\n",
       "       [0, 2, 0],\n",
       "       [0, 0, 1]])"
      ]
     },
     "execution_count": 342,
     "metadata": {},
     "output_type": "execute_result"
    }
   ],
   "source": [
    "ya = np.diag((1,2,1))\n",
    "ya"
   ]
  },
  {
   "cell_type": "code",
   "execution_count": 121,
   "metadata": {
    "collapsed": false
   },
   "outputs": [
    {
     "data": {
      "text/plain": [
       "array([[ 1. ,  0. ,  0. ],\n",
       "       [ 0. ,  0.5,  0. ],\n",
       "       [ 0. ,  0. ,  1. ]])"
      ]
     },
     "execution_count": 121,
     "metadata": {},
     "output_type": "execute_result"
    }
   ],
   "source": [
    "np.linalg.inv(ya)"
   ]
  },
  {
   "cell_type": "markdown",
   "metadata": {},
   "source": [
    "# Linear"
   ]
  },
  {
   "cell_type": "code",
   "execution_count": 25,
   "metadata": {
    "collapsed": false
   },
   "outputs": [],
   "source": [
    "class linear_thompson(object):\n",
    "    \"\"\" from: Thompson Sampling for Contextual Bandits with Linear Payoffs, Agrawal\"\"\"\n",
    "    def __init__(self,mu= None,f = 0,d=3,nu_sq = 1000,num_arms = 3,len_cont = 2,simple=True):\n",
    "        self.B = np.diag(np.ones(shape=(d+len_cont)))\n",
    "        self.simple=simple\n",
    "        if mu == None:\n",
    "            self.mu = np.zeros(shape = (d+len_cont,))\n",
    "        self.f =np.zeros(shape = (d+len_cont,))\n",
    "        self.d = d\n",
    "        self.nu_sq = nu_sq\n",
    "        self.arms = [[0,1,0],[1,0,0],[0,0,1],[1,1,0],[0,2,4]]#dummies?\n",
    "        self.num_arms = len(self.arms)\n",
    "        \n",
    "    def select_arm(self, context):\n",
    "        \"\"\"selects an arm depending on bayesian regression model.\n",
    "        simple means sample five times from normal distribution with given m(x) and s(x);\n",
    "        ~simple means draw weights from multivariate normal with mu and B and then multiply in weight. \n",
    "        Not sure if that's exactly the same thing.\"\"\"\n",
    "        if self.simple:\n",
    "            samples = []\n",
    "\n",
    "            for i in range(self.num_arms):\n",
    "                compl_cont = self.arms[i]\n",
    "                compl_cont = np.atleast_2d(compl_cont+context)\n",
    "                mu_new = compl_cont.dot(self.mu)\n",
    "                std_new = compl_cont.dot(self.nu_sq*np.linalg.inv(self.B)).dot(compl_cont.T)\n",
    "                samples += [np.random.normal(mu_new,std_new)]\n",
    "            return samples.index(max(samples))\n",
    "    \n",
    "        mu_t = np.random.multivariate_normal(self.mu,self.nu_sq*np.linalg.inv(self.B))\n",
    "        samples = []\n",
    "        for i in range(self.num_arms):\n",
    "            compl_cont = self.arms[i]\n",
    "            compl_cont = compl_cont + context\n",
    "            #print(compl_cont)\n",
    "            b_i = np.atleast_2d(compl_cont)\n",
    "            samples += [b_i.dot(mu_t)]\n",
    "            \n",
    "        return samples.index(max(samples))\n",
    "    \n",
    "    def update(self,reward,arm,context):\n",
    "        \"\"\"updates bayesian regression model. Variance isn't optimal right now.\"\"\"\n",
    "        cont = np.array(self.arms[arm]+context)\n",
    "\n",
    "        self.B = self.B + np.atleast_2d(cont).T.dot(np.atleast_2d(cont))\n",
    "        self.f = self.f+ cont.T*reward\n",
    "        self.mu = np.linalg.inv(self.B).dot(np.atleast_2d(self.f).T).T.flatten()\n",
    "            \n",
    "    \n",
    "        "
   ]
  },
  {
   "cell_type": "code",
   "execution_count": 26,
   "metadata": {
    "collapsed": false
   },
   "outputs": [
    {
     "data": {
      "text/plain": [
       "array([ 0.,  0.,  0.,  0.,  0.])"
      ]
     },
     "execution_count": 26,
     "metadata": {},
     "output_type": "execute_result"
    }
   ],
   "source": [
    "a = linear_thompson()\n",
    "b = linear_thompson(simple=False)\n",
    "np.linalg.inv(a.B).dot(a.f)"
   ]
  },
  {
   "cell_type": "code",
   "execution_count": 27,
   "metadata": {
    "collapsed": false
   },
   "outputs": [
    {
     "data": {
      "text/plain": [
       "(array([ 0.,  0.,  0.,  0.,  0.]), array([ 0.,  0.,  0.,  0.,  0.]))"
      ]
     },
     "execution_count": 27,
     "metadata": {},
     "output_type": "execute_result"
    }
   ],
   "source": [
    "#a = linear_thompson()\n",
    "a.mu,b.mu"
   ]
  },
  {
   "cell_type": "code",
   "execution_count": 28,
   "metadata": {
    "collapsed": false
   },
   "outputs": [
    {
     "data": {
      "text/plain": [
       "2"
      ]
     },
     "execution_count": 28,
     "metadata": {},
     "output_type": "execute_result"
    }
   ],
   "source": [
    "a.select_arm([1,1])"
   ]
  },
  {
   "cell_type": "code",
   "execution_count": 29,
   "metadata": {
    "collapsed": false
   },
   "outputs": [
    {
     "data": {
      "text/plain": [
       "(array([[ 1.,  0.,  0.,  0.,  0.],\n",
       "        [ 0.,  1.,  0.,  0.,  0.],\n",
       "        [ 0.,  0.,  1.,  0.,  0.],\n",
       "        [ 0.,  0.,  0.,  1.,  0.],\n",
       "        [ 0.,  0.,  0.,  0.,  1.]]), array([[ 1.,  0.,  0.,  0.,  0.],\n",
       "        [ 0.,  1.,  0.,  0.,  0.],\n",
       "        [ 0.,  0.,  1.,  0.,  0.],\n",
       "        [ 0.,  0.,  0.,  1.,  0.],\n",
       "        [ 0.,  0.,  0.,  0.,  1.]]))"
      ]
     },
     "execution_count": 29,
     "metadata": {},
     "output_type": "execute_result"
    }
   ],
   "source": [
    "a.B,b.B"
   ]
  },
  {
   "cell_type": "code",
   "execution_count": 30,
   "metadata": {
    "collapsed": false
   },
   "outputs": [
    {
     "data": {
      "text/plain": [
       "array([[ 1.,  0.,  0.,  0.,  0.],\n",
       "       [ 0.,  1.,  0.,  0.,  0.],\n",
       "       [ 0.,  0.,  1.,  0.,  0.],\n",
       "       [ 0.,  0.,  0.,  1.,  0.],\n",
       "       [ 0.,  0.,  0.,  0.,  1.]])"
      ]
     },
     "execution_count": 30,
     "metadata": {},
     "output_type": "execute_result"
    }
   ],
   "source": [
    "np.linalg.inv(a.B)"
   ]
  },
  {
   "cell_type": "code",
   "execution_count": null,
   "metadata": {
    "collapsed": true
   },
   "outputs": [],
   "source": []
  },
  {
   "cell_type": "code",
   "execution_count": 31,
   "metadata": {
    "collapsed": false
   },
   "outputs": [
    {
     "data": {
      "text/plain": [
       "[1, 0, 0]"
      ]
     },
     "execution_count": 31,
     "metadata": {},
     "output_type": "execute_result"
    }
   ],
   "source": [
    "a.arms[1]"
   ]
  },
  {
   "cell_type": "code",
   "execution_count": 32,
   "metadata": {
    "collapsed": false
   },
   "outputs": [],
   "source": [
    "#a.update(10,2,[1,0])"
   ]
  },
  {
   "cell_type": "code",
   "execution_count": 33,
   "metadata": {
    "collapsed": false
   },
   "outputs": [
    {
     "data": {
      "text/plain": [
       "array([ 0.,  0.,  0.,  0.,  0.])"
      ]
     },
     "execution_count": 33,
     "metadata": {},
     "output_type": "execute_result"
    }
   ],
   "source": [
    "a.mu"
   ]
  },
  {
   "cell_type": "code",
   "execution_count": 34,
   "metadata": {
    "collapsed": false
   },
   "outputs": [
    {
     "data": {
      "text/plain": [
       "array([ 0.,  0.,  0.,  0.,  0.])"
      ]
     },
     "execution_count": 34,
     "metadata": {},
     "output_type": "execute_result"
    }
   ],
   "source": [
    "a.f"
   ]
  },
  {
   "cell_type": "markdown",
   "metadata": {},
   "source": [
    "# testsuite"
   ]
  },
  {
   "cell_type": "code",
   "execution_count": 37,
   "metadata": {
    "collapsed": false
   },
   "outputs": [],
   "source": [
    "which = []\n",
    "which_ = []\n",
    "opt_arm = []\n",
    "cont = [[0,1],[0,0],[1,0]]\n",
    "num_rounds = 1000000\n",
    "for i in range(num_rounds):\n",
    "    j = np.random.randint(3)\n",
    "    context = cont[j]\n",
    "    #print(context)\n",
    "    arm = a.select_arm(context)\n",
    "    which += [arm]\n",
    "    which_ += [j]\n",
    "    if context == cont[0]:\n",
    "        opt_arm +=[1]\n",
    "\n",
    "        reward = 1\n",
    "        if arm ==1:\n",
    "            reward = 1.3\n",
    "        if arm == 0:\n",
    "            reward = 1.0\n",
    "        if arm == 2:\n",
    "            reward = 0.4\n",
    "        if arm == 4:\n",
    "            reward = 0\n",
    "    if context == cont[1]:\n",
    "        opt_arm +=[4]\n",
    "\n",
    "        reward = .3\n",
    "        if arm ==4:\n",
    "            reward = 1.3\n",
    "        if arm == 2:\n",
    "            reward = 1.0\n",
    "        if arm == 0:\n",
    "            reward = 0\n",
    "        if arm == 3:\n",
    "            reward = .1\n",
    "            \n",
    "    if context == cont[2]:\n",
    "        opt_arm +=[3]\n",
    "        reward = .5\n",
    "        if arm ==4:\n",
    "            reward = .3\n",
    "        if arm == 2:\n",
    "            reward = .2\n",
    "        if arm == 1:\n",
    "            reward = 0\n",
    "        if arm == 0:\n",
    "            reward = 0\n",
    "        if arm == 3:\n",
    "            reward = .7\n",
    "    a.update(reward,arm,context)\n",
    "    "
   ]
  },
  {
   "cell_type": "code",
   "execution_count": 38,
   "metadata": {
    "collapsed": false
   },
   "outputs": [
    {
     "data": {
      "text/plain": [
       "array([[  939143.,   901272.,        0.,   313922.,   312361.],\n",
       "       [  901272.,  1130271.,   451680.,   339471.,   337562.],\n",
       "       [       0.,   451680.,   904601.,    75566.,    74707.],\n",
       "       [  313922.,   339471.,    75566.,   334528.,        0.],\n",
       "       [  312361.,   337562.,    74707.,        0.,   332784.]])"
      ]
     },
     "execution_count": 38,
     "metadata": {},
     "output_type": "execute_result"
    }
   ],
   "source": [
    "a.B"
   ]
  },
  {
   "cell_type": "code",
   "execution_count": 39,
   "metadata": {
    "collapsed": false
   },
   "outputs": [
    {
     "data": {
      "text/plain": [
       "array([  3158,  37870,   1240, 901272,  56460], dtype=int64)"
      ]
     },
     "execution_count": 39,
     "metadata": {},
     "output_type": "execute_result"
    }
   ],
   "source": [
    "np.bincount(which)"
   ]
  },
  {
   "cell_type": "code",
   "execution_count": 40,
   "metadata": {
    "collapsed": false
   },
   "outputs": [
    {
     "data": {
      "text/plain": [
       "array([     0, 332783,      0, 334527, 332690], dtype=int64)"
      ]
     },
     "execution_count": 40,
     "metadata": {},
     "output_type": "execute_result"
    }
   ],
   "source": [
    "np.bincount(opt_arm)"
   ]
  },
  {
   "cell_type": "code",
   "execution_count": 41,
   "metadata": {
    "collapsed": false
   },
   "outputs": [
    {
     "data": {
      "text/plain": [
       "0.33302599999999999"
      ]
     },
     "execution_count": 41,
     "metadata": {},
     "output_type": "execute_result"
    }
   ],
   "source": [
    "(np.array(opt_arm) == np.array(which)).sum()/num_rounds"
   ]
  },
  {
   "cell_type": "code",
   "execution_count": 42,
   "metadata": {
    "collapsed": false
   },
   "outputs": [
    {
     "data": {
      "text/plain": [
       "0.2"
      ]
     },
     "execution_count": 42,
     "metadata": {},
     "output_type": "execute_result"
    }
   ],
   "source": [
    "1/5"
   ]
  },
  {
   "cell_type": "markdown",
   "metadata": {},
   "source": [
    "Check for precisions!\n"
   ]
  },
  {
   "cell_type": "markdown",
   "metadata": {
    "collapsed": true
   },
   "source": [
    "# Theory\n",
    "Bayesian Regression, then sample values at different X_i = context.append(Arm)"
   ]
  },
  {
   "cell_type": "code",
   "execution_count": 416,
   "metadata": {
    "collapsed": false
   },
   "outputs": [
    {
     "data": {
      "text/plain": [
       "array([ 0.34980163,  0.13150509,  0.07096853, -0.08473702,  0.39034156])"
      ]
     },
     "execution_count": 416,
     "metadata": {},
     "output_type": "execute_result"
    }
   ],
   "source": [
    "a.mu"
   ]
  },
  {
   "cell_type": "code",
   "execution_count": null,
   "metadata": {
    "collapsed": true
   },
   "outputs": [],
   "source": []
  },
  {
   "cell_type": "code",
   "execution_count": null,
   "metadata": {
    "collapsed": true
   },
   "outputs": [],
   "source": []
  }
 ],
 "metadata": {
  "kernelspec": {
   "display_name": "Python 3",
   "language": "python",
   "name": "python3"
  },
  "language_info": {
   "codemirror_mode": {
    "name": "ipython",
    "version": 3
   },
   "file_extension": ".py",
   "mimetype": "text/x-python",
   "name": "python",
   "nbconvert_exporter": "python",
   "pygments_lexer": "ipython3",
   "version": "3.4.3"
  }
 },
 "nbformat": 4,
 "nbformat_minor": 0
}

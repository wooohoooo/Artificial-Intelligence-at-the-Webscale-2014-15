{
 "cells": [
  {
   "cell_type": "code",
   "execution_count": 2,
   "metadata": {
    "collapsed": true
   },
   "outputs": [],
   "source": [
    "#Webwork\n",
    "from bs4 import BeautifulSoup\n",
    "from urllib.request import urlopen  #urllib2\n",
    "#from urllib2 import urlopen\n",
    "\n",
    "#offline\n",
    "import re\n",
    "import numpy as np\n",
    "\n",
    "#plotting\n",
    "from matplotlib import pyplot as plt\n",
    "from matplotlib.font_manager import FontProperties\n",
    "\n",
    "%matplotlib inline\n",
    "\n",
    "url = \"http://www.ru.nl/artificialintelligence/\""
   ]
  },
  {
   "cell_type": "markdown",
   "metadata": {},
   "source": [
    "# Incredibly Basic Webcrawler and pagerank\n",
    "\n",
    "This notebook will highlight the basics of webcrawling and the famous pagerank.\n",
    "However, it is incredibly basic (see the title).\n",
    "\n",
    "We'll utilize the packages beautifulsoup and urllib, which many will think slow/stupid/insert_bad_word. However, I was able to write one with it, so it can't be completely counterintuitive."
   ]
  },
  {
   "cell_type": "markdown",
   "metadata": {},
   "source": [
    "### Crawling\n",
    "the first function opens a url and returns it as beautifulsoup object, which we can easily search for attributes etc."
   ]
  },
  {
   "cell_type": "code",
   "execution_count": 3,
   "metadata": {
    "collapsed": false
   },
   "outputs": [],
   "source": [
    "def make_soup(url):\n",
    "    html = urlopen(url).read()\n",
    "    return BeautifulSoup(html,\"lxml\")\n",
    "\n"
   ]
  },
  {
   "cell_type": "markdown",
   "metadata": {},
   "source": [
    "the second function does the actual crawling:\n",
    "It's a recursive crawler; meaning it visits a link, looks for all the hyperlinks \n",
    "(soup.find_all) then calls itself on every one of them, until a certain level of recursion is reached. We do not want infinte loops calling a webpage. "
   ]
  },
  {
   "cell_type": "code",
   "execution_count": 4,
   "metadata": {
    "collapsed": true
   },
   "outputs": [],
   "source": [
    "def crawler(url,maxlevel,link_list,link_tuple_list):\n",
    "    #recursion brake\n",
    "    if (maxlevel == 0):\n",
    "        return\n",
    "    else:\n",
    "    #try to open link if not possible skip\n",
    "        try:\n",
    "            soup = make_soup(url)\n",
    "        except:\n",
    "            return\n",
    "    \n",
    "        links = soup.find_all('a', attrs={'href': re.compile(\"^http://www.ru.nl/artificialintelligence\")}) \n",
    "        for link in links:\n",
    "            link_url = link.get('href')#[:-1]\n",
    "            link_tuple_list.append((url,link_url)) \n",
    "            link_list.append(link_url)\n",
    "            #recursive self call\n",
    "            crawler(link_url,maxlevel -1,link_list,link_tuple_list)\n",
    "        return list(set(link_list)),link_tuple_list\n"
   ]
  },
  {
   "cell_type": "markdown",
   "metadata": {},
   "source": [
    "it's saving links in a link list (pretty much: All the links that were visited) and a link tuple list (from_link,to_link), meaning the first entry is the page on which a link was found, the second is the page that was linked to."
   ]
  },
  {
   "cell_type": "code",
   "execution_count": 5,
   "metadata": {
    "collapsed": false
   },
   "outputs": [
    {
     "data": {
      "text/plain": [
       "('http://www.ru.nl/artificialintelligence/',\n",
       " 'http://www.ru.nl/artificialintelligence/')"
      ]
     },
     "execution_count": 5,
     "metadata": {},
     "output_type": "execute_result"
    }
   ],
   "source": [
    "link_list = []\n",
    "link_tuple_list = []\n",
    "link_list,link_tuple_list = crawler(url,1,link_list,link_tuple_list)\n",
    "link_tuple_list[0]"
   ]
  },
  {
   "cell_type": "markdown",
   "metadata": {},
   "source": [
    "## Basics of Pagerank\n",
    "\n",
    "In order to show off the basics of pagerank, we first need to put the data into a transition matrix of the form \n",
    "\n",
    "\\begin{equation}\n",
    "X =   \\left(\n",
    "    \\begin{array}{*5{c}}\n",
    "    1 & 0 & 0 &1 & 1 \\\\\n",
    "     0 & 1 & 1 & 1 & 0 \\\\\n",
    "     0 &  0 & 0 & 1 & 1 \\\\\n",
    "     0 &  1 &  0 & 0 & 0 \\\\\n",
    "     0 &  1 &  0 &  0 & 1 \\\\\n",
    "  \\end{array}\\right)\n",
    "\\end{equation}\n",
    "\n",
    "(please note I made that matrix up. It might violate some theoretical restraints for pagerank or whatever.)\n",
    "\n",
    "To do so, we simply create np.zeros matrix (all 0. Yes, really), loop through all the entries in our linklist twice and each time both entries form a tuple in the link_tuple_list, we set that entry to one."
   ]
  },
  {
   "cell_type": "code",
   "execution_count": 6,
   "metadata": {
    "collapsed": true
   },
   "outputs": [],
   "source": [
    "def crawler_matrix(url,num_rec):\n",
    "    \n",
    "    llist=[]\n",
    "    ltlist = []\n",
    "\n",
    "    link_list,link_tuple_list = crawler(url,num_rec,llist,ltlist)    \n",
    "\n",
    "    matrix = np.zeros((len(link_list),len(link_list)))\n",
    "    \n",
    "\n",
    "    for id1 in range(len(link_list)):\n",
    "        for id2 in range(len(link_list)):\n",
    "            if not link_list[id1] is link_list[id2]:\n",
    "                try:\n",
    "                    idx = link_tuple_list.index((link_list[id1],link_list[id2]))\n",
    "\n",
    "                    matrix[id1,id2] = 1\n",
    "                except:\n",
    "                    error = 1\n",
    "\n",
    "    return matrix,link_list\n"
   ]
  },
  {
   "cell_type": "markdown",
   "metadata": {},
   "source": [
    "Some testing:"
   ]
  },
  {
   "cell_type": "code",
   "execution_count": 7,
   "metadata": {
    "collapsed": true
   },
   "outputs": [],
   "source": [
    "X, link_list = crawler_matrix(url,3)\n",
    "\n"
   ]
  },
  {
   "cell_type": "code",
   "execution_count": 8,
   "metadata": {
    "collapsed": false
   },
   "outputs": [
    {
     "data": {
      "text/plain": [
       "2293.0"
      ]
     },
     "execution_count": 8,
     "metadata": {},
     "output_type": "execute_result"
    }
   ],
   "source": [
    "sum(sum(X))\n",
    "\n"
   ]
  },
  {
   "cell_type": "code",
   "execution_count": 9,
   "metadata": {
    "collapsed": false
   },
   "outputs": [
    {
     "data": {
      "text/plain": [
       "(146, 146)"
      ]
     },
     "execution_count": 9,
     "metadata": {},
     "output_type": "execute_result"
    }
   ],
   "source": [
    "X.shape"
   ]
  },
  {
   "cell_type": "code",
   "execution_count": 10,
   "metadata": {
    "collapsed": false
   },
   "outputs": [
    {
     "data": {
      "text/plain": [
       "['http://www.ru.nl/artificialintelligence/news-events/good-aifternoon-2013-0/vm-good-aifternoon/tibor-van-rooij/@960852/disclaimer-en/',\n",
       " 'http://www.ru.nl/artificialintelligence/news-events/good-aifternoon-2013-0/vm-good-aifternoon/prof-dr-jan-de/',\n",
       " 'http://www.ru.nl/artificialintelligence/news-events/news/?rss=true',\n",
       " 'http://www.ru.nl/artificialintelligence/news-events/news/',\n",
       " 'http://www.ru.nl/artificialintelligence/vm/sitemap/@960852/disclaimer-en/']"
      ]
     },
     "execution_count": 10,
     "metadata": {},
     "output_type": "execute_result"
    }
   ],
   "source": [
    "link_list[:5]\n",
    "\n"
   ]
  },
  {
   "cell_type": "markdown",
   "metadata": {},
   "source": [
    "Next, we need to normalize the matrix by its row. Pretty straight forward, though it uses a lamda expression that might be uneccessary. Since at some places we divide by 0 (no entries in a row), we need to deal with them. It has been shown to solve somepractical issues with convergence to replace the entries of rows that are only 0 with 1/m, with m being the total number of entries in the matrix (times a tuning parameter)"
   ]
  },
  {
   "cell_type": "code",
   "execution_count": 11,
   "metadata": {
    "collapsed": true
   },
   "outputs": [],
   "source": [
    "def normalize_matrix(Q):\n",
    "    M = Q.shape[1]\n",
    "\n",
    "    Q_star = np.apply_along_axis(lambda X: X/np.sum(X,axis=0),1,Q)\n",
    "    mask = np.where(np.isnan(Q_star))\n",
    "    \n",
    "    Q_star[mask] = 1/M\n",
    "\n",
    "    alpha = .85\n",
    "    J = np.ones((M,M))\n",
    "    \n",
    "    G = alpha*Q_star + (1-alpha) * J/M\n",
    "    return G"
   ]
  },
  {
   "cell_type": "markdown",
   "metadata": {},
   "source": [
    "let's test this:"
   ]
  },
  {
   "cell_type": "code",
   "execution_count": 12,
   "metadata": {
    "collapsed": false
   },
   "outputs": [
    {
     "name": "stderr",
     "output_type": "stream",
     "text": [
      "C:\\Users\\Trost\\Anaconda3\\lib\\site-packages\\ipykernel\\__main__.py:4: RuntimeWarning: invalid value encountered in true_divide\n"
     ]
    },
    {
     "data": {
      "text/plain": [
       "array([[ 0.00684932,  0.00684932,  0.00684932, ...,  0.00684932,\n",
       "         0.00684932,  0.00684932],\n",
       "       [ 0.0010274 ,  0.0010274 ,  0.0010274 , ...,  0.0010274 ,\n",
       "         0.0010274 ,  0.0010274 ],\n",
       "       [ 0.00684932,  0.00684932,  0.00684932, ...,  0.00684932,\n",
       "         0.00684932,  0.00684932],\n",
       "       ..., \n",
       "       [ 0.0010274 ,  0.0010274 ,  0.0010274 , ...,  0.0010274 ,\n",
       "         0.0010274 ,  0.0010274 ],\n",
       "       [ 0.0010274 ,  0.0010274 ,  0.0010274 , ...,  0.0010274 ,\n",
       "         0.0010274 ,  0.0010274 ],\n",
       "       [ 0.0010274 ,  0.0010274 ,  0.0010274 , ...,  0.0010274 ,\n",
       "         0.0010274 ,  0.0010274 ]])"
      ]
     },
     "execution_count": 12,
     "metadata": {},
     "output_type": "execute_result"
    }
   ],
   "source": [
    "Q = normalize_matrix(X)\n",
    "Q"
   ]
  },
  {
   "cell_type": "markdown",
   "metadata": {},
   "source": [
    "As you can see, python throws a warning about problems while dividing by 0. However, we know of that and can safeky ignore it. (There are probably ways to prevent this, but... well. I'm not aware.)"
   ]
  },
  {
   "cell_type": "markdown",
   "metadata": {},
   "source": [
    "### Pagerank\n",
    "\n",
    "Finally, we get to the Pagerank algorithm.\n",
    "\n",
    "Pagerank is in its essence just a markov chain sampling from the transition matrix Q until it converges. It's the stationary distribution of the web. Yey!\n"
   ]
  },
  {
   "cell_type": "code",
   "execution_count": 13,
   "metadata": {
    "collapsed": true
   },
   "outputs": [],
   "source": [
    "\n",
    "def Pagerank(Q_star):\n",
    "    M = Q_star.shape[1]\n",
    "    \n",
    "    #random start\n",
    "    draws = np.random.random((M,))\n",
    "    p = draws/np.sum(draws)\n",
    "    #iterate and store\n",
    "    N = 50\n",
    "    store_p = np.zeros((M,N))\n",
    "    \n",
    "    for i in range(N):\n",
    "        p = np.dot(p,Q_star)\n",
    "        store_p[:,i] = p\n",
    "        \n",
    "    plt.close()\n",
    "    plt.xkcd()\n",
    "\n",
    "    \n",
    "    for i in range(M):\n",
    "        plt.plot(store_p[i,])\n",
    "    return store_p\n",
    "    \n",
    "    a.title(\"'This converges nicely', he said, staring into the fiery abyss\")\n",
    "    plt.xlabel('convergence')\n",
    "    plt.ylabel('density of tears')\n",
    "    plt.show()\n",
    "\n",
    "\n"
   ]
  },
  {
   "cell_type": "code",
   "execution_count": 14,
   "metadata": {
    "collapsed": false
   },
   "outputs": [
    {
     "data": {
      "image/png": "[encoded data removed]",
      "text/plain": [
       "<matplotlib.figure.Figure at 0x411f828>"
      ]
     },
     "metadata": {},
     "output_type": "display_data"
    }
   ],
   "source": [
    "G = Pagerank(Q)\n",
    "\n"
   ]
  },
  {
   "cell_type": "code",
   "execution_count": 15,
   "metadata": {
    "collapsed": true
   },
   "outputs": [],
   "source": [
    "ind3 = G[:,-1].argmax()\n",
    "\n"
   ]
  },
  {
   "cell_type": "code",
   "execution_count": 16,
   "metadata": {
    "collapsed": false
   },
   "outputs": [
    {
     "data": {
      "text/plain": [
       "'http://www.ru.nl/artificialintelligence/news-events/good-aifternoon-2013-0/'"
      ]
     },
     "execution_count": 16,
     "metadata": {},
     "output_type": "execute_result"
    }
   ],
   "source": [
    "link_list[ind3]\n",
    "\n"
   ]
  },
  {
   "cell_type": "code",
   "execution_count": 17,
   "metadata": {
    "collapsed": false
   },
   "outputs": [
    {
     "data": {
      "text/plain": [
       "array([  0, 102,  99, 117, 119, 104,  36, 120,  51, 142,  80,  11, 140,\n",
       "        88,  69,  49,  87,  92,  66,  46, 106,  93,   7, 138, 133, 116,\n",
       "        50,  19,  85, 114,  37,  62, 118, 141,  98,  15,  30,  63, 108,\n",
       "        67,  23,  60,   5,  31,  53,  22,  73,  42,  52, 121,  86,  77,\n",
       "       127, 107,  90,  65, 100, 144,  83, 145,  25,  39,   1,  17,  57,\n",
       "        59,  61,  35,  43, 132,  75,  14, 128,  84, 113,  26, 139,  54,\n",
       "        71,  33, 112,  16,  21, 136,  55,  68, 137,  70,  44, 103, 143,\n",
       "        96,  81,  20,  10,  41,  29,  95,   6,  38,  79,   9,  89,  27,\n",
       "        18,  12, 130,  58,  45,  40,  34,  56,  76,  24,  48, 115,   4,\n",
       "       125, 134,   2,  64, 111,  82, 135, 131, 126, 109, 110, 101,  28,\n",
       "       124,  72,  47,  32,  91,  94, 122,  78,   3,   8, 105,  74, 129,\n",
       "        97,  13, 123], dtype=int64)"
      ]
     },
     "execution_count": 17,
     "metadata": {},
     "output_type": "execute_result"
    }
   ],
   "source": [
    "sorted_arr = G[:,-1].argsort()\n",
    "sorted_arr"
   ]
  },
  {
   "cell_type": "markdown",
   "metadata": {},
   "source": [
    "Finally, here is what the pagerank over the url looks like, after three layers of recursion (already takes incredibly long. Deeper recursion levels are left for the reader to solve). You'll notice that there's a strange overrepresentation of the \"good aifternoon\" lectures, which is consistent with every time I ran that crawler and also with crawlers other people ran over the page. I guess it's just a bit weird.\n",
    "\n",
    "Sitemap and starting page are in there, too. Which is reassuring."
   ]
  },
  {
   "cell_type": "code",
   "execution_count": 18,
   "metadata": {
    "collapsed": false
   },
   "outputs": [
    {
     "name": "stdout",
     "output_type": "stream",
     "text": [
      "0  th  http://www.ru.nl/artificialintelligence/news-events/good-aifternoon-2013-0/\n",
      "1  th  http://www.ru.nl/artificialintelligence/news-events/good-aifternoon-2012/\n",
      "2  th  http://www.ru.nl/artificialintelligence/news-events/good-aifternoon-2014/\n",
      "3  th  http://www.ru.nl/artificialintelligence/news-events/good-aifternoon-2015/\n",
      "4  th  http://www.ru.nl/artificialintelligence/news-events/good-aifternoon-2011/\n",
      "5  th  http://www.ru.nl/artificialintelligence/news-events/\n",
      "6  th  http://www.ru.nl/artificialintelligence/vm/sitemap/\n",
      "7  th  http://www.ru.nl/artificialintelligence/news-events/news/\n",
      "8  th  http://www.ru.nl/artificialintelligence/news-events/good-aifternoon-2008/\n",
      "9  th  http://www.ru.nl/artificialintelligence/\n",
      "10  th  http://www.ru.nl/artificialintelligence/news-events/good-aifternoon-2010/\n",
      "11  th  http://www.ru.nl/artificialintelligence/news-events/good-aifternoon-2007/\n",
      "12  th  http://www.ru.nl/artificialintelligence/news-events/good-aifternoon-2009/\n",
      "13  th  http://www.ru.nl/artificialintelligence/people/\n",
      "14  th  http://www.ru.nl/artificialintelligence/contact/adres-secretary/\n"
     ]
    }
   ],
   "source": [
    "\n",
    "\n",
    "\n",
    "\n",
    "for i in range(15):\n",
    "    print(i,' th ',link_list[sorted_arr[-(i+1)]])\n"
   ]
  },
  {
   "cell_type": "code",
   "execution_count": null,
   "metadata": {
    "collapsed": true
   },
   "outputs": [],
   "source": []
  }
 ],
 "metadata": {
  "kernelspec": {
   "display_name": "Python 3",
   "language": "python",
   "name": "python3"
  },
  "language_info": {
   "codemirror_mode": {
    "name": "ipython",
    "version": 3
   },
   "file_extension": ".py",
   "mimetype": "text/x-python",
   "name": "python",
   "nbconvert_exporter": "python",
   "pygments_lexer": "ipython3",
   "version": "3.4.3"
  }
 },
 "nbformat": 4,
 "nbformat_minor": 0
}

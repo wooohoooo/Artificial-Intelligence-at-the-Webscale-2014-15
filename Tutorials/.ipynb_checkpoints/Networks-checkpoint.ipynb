{
 "cells": [
  {
   "cell_type": "code",
   "execution_count": 1,
   "metadata": {
    "collapsed": false
   },
   "outputs": [],
   "source": [
    "import networkx as nx\n",
    "import matplotlib.pyplot as plt\n",
    "import numpy as np\n",
    "%matplotlib inline\n",
    "\n"
   ]
  },
  {
   "cell_type": "code",
   "execution_count": 2,
   "metadata": {
    "collapsed": false
   },
   "outputs": [],
   "source": [
    "\n",
    "#### set variables\n",
    "x = 3\n",
    "g=10**x\n",
    "num_test = 20\n",
    "p = .3\n",
    "a = 0\n",
    "\n",
    "\n",
    "density = 1\n"
   ]
  },
  {
   "cell_type": "markdown",
   "metadata": {},
   "source": [
    "# Network Experiments\n",
    "In this Notebook, I will \n",
    "\n",
    "1. write a function to generate a sociomatrix of size gxg with density $\\Delta$\n",
    "2. write a function that generates a sociomatrix for a directed graph of size gxg, populated with random ties\n",
    "3. plot it using networkx\n",
    "4. create a function which will draw from a normal(10,4) for each node i in g\n",
    "5. randomly sampkle 200 nodes and simulate an experiment in which n = 100 nodes (randomly sampled from the 200 nodes) are \"treated\" with $x_i$ := $x_i$ +10 + $\\epsilon$ where $\\epsilon$ is dranw from normal(0,2)\n",
    "6. repeat the same, this time assuming a networking effect of the form $X-i = ~alpha x_i + (1-\\alpha)(\\hat{x_j})$ with $\\hat{x_j}$ being the mean of the values of all adjacent nodes to i"
   ]
  },
  {
   "cell_type": "markdown",
   "metadata": {},
   "source": [
    "### write a function to generate a sociomatrix of size gxg with density $\\Delta$\n",
    "\n",
    "density matrix in this case means it's going to be symmetrical. We don't want any self-references (i.e. \"1\" on the diagonal).\n",
    "\n",
    "We create an array rand_entries that contains the right number of ones computed from the density, shuffle that list and then fill the upper triangle of the matrix with entries from that list; then we add the Matrix to its transpose (meaning that the upper triangle and the lower trinagle are switched), creating a symmetric Matrix that fulfills all our restrictions."
   ]
  },
  {
   "cell_type": "code",
   "execution_count": 3,
   "metadata": {
    "collapsed": false
   },
   "outputs": [
    {
     "data": {
      "text/plain": [
       "array([[ 0.,  1.,  0.,  0.,  1.,  1.,  1.,  0.,  1.,  1.],\n",
       "       [ 1.,  0.,  0.,  1.,  1.,  1.,  0.,  1.,  1.,  0.],\n",
       "       [ 0.,  0.,  0.,  1.,  1.,  0.,  1.,  1.,  0.,  0.],\n",
       "       [ 0.,  1.,  1.,  0.,  0.,  1.,  1.,  0.,  0.,  1.],\n",
       "       [ 1.,  1.,  1.,  0.,  0.,  1.,  0.,  0.,  1.,  0.],\n",
       "       [ 1.,  1.,  0.,  1.,  1.,  0.,  0.,  1.,  0.,  1.],\n",
       "       [ 1.,  0.,  1.,  1.,  0.,  0.,  0.,  0.,  1.,  1.],\n",
       "       [ 0.,  1.,  1.,  0.,  0.,  1.,  0.,  0.,  1.,  1.],\n",
       "       [ 1.,  1.,  0.,  0.,  1.,  0.,  1.,  1.,  0.,  1.],\n",
       "       [ 1.,  0.,  0.,  1.,  0.,  1.,  1.,  1.,  1.,  0.]])"
      ]
     },
     "execution_count": 3,
     "metadata": {},
     "output_type": "execute_result"
    }
   ],
   "source": [
    "def create_density_matrix(g = 10,density = .5):\n",
    "    \n",
    "    X = round(density * g*(g-1))\n",
    "    rand_entries  = np.array([0] * (g*g-X) + [1] * (X))\n",
    "    np.random.shuffle(rand_entries)\n",
    "    M = np.zeros(g*g)\n",
    "    M = M.reshape(g,g)\n",
    "\n",
    "\n",
    "    triangle = 0\n",
    "    for i in range(g):\n",
    "        for j in reversed(range(triangle)):\n",
    "            M[i][j] = rand_entries[i+j]\n",
    "        triangle = triangle +1\n",
    "        \n",
    "        \n",
    "    return M.T + M\n",
    "    \n",
    "M = create_density_matrix()\n",
    "\n",
    "M\n",
    "\n",
    "\n"
   ]
  },
  {
   "cell_type": "markdown",
   "metadata": {},
   "source": [
    "beautiful, isn't it.\n",
    "\n",
    "### write a function that generates a sociomatrix for a directed graph of size gxg, populated with random ties\n",
    "this is rather easier than the last one, since we just draw from a binomial distribution, reshape that and delete the diagonal entries. Correctly, we could also draw a matrix of size (g-1)(g-1) and fill the entries onto a zero matrix gxg, but given that we'll work with large matrices and low probabilites of connections, the impact of the few deleted entries won't really matter in practice."
   ]
  },
  {
   "cell_type": "code",
   "execution_count": 4,
   "metadata": {
    "collapsed": false
   },
   "outputs": [
    {
     "data": {
      "text/plain": [
       "array([[0, 1, 1, ..., 1, 1, 1],\n",
       "       [1, 0, 0, ..., 0, 1, 0],\n",
       "       [1, 0, 0, ..., 0, 0, 0],\n",
       "       ..., \n",
       "       [1, 0, 0, ..., 0, 0, 0],\n",
       "       [0, 1, 0, ..., 1, 0, 0],\n",
       "       [0, 0, 1, ..., 0, 0, 0]])"
      ]
     },
     "execution_count": 4,
     "metadata": {},
     "output_type": "execute_result"
    }
   ],
   "source": [
    "def bernoulli_matrix(g=20, p = .5):\n",
    "    A = np.random.binomial(1, p, size=g*g)\n",
    "    A = A.reshape(g,g)\n",
    "    #fill diagonals (no self connections)\n",
    "    np.fill_diagonal(A, 0)\n",
    "    \n",
    "    return(A)\n",
    "    \n",
    "A = bernoulli_matrix(g)\n",
    "\n",
    "A\n",
    "\n",
    "\n",
    "\n",
    "\n",
    "\n"
   ]
  },
  {
   "cell_type": "markdown",
   "metadata": {},
   "source": [
    "### plot it using networkx\n",
    "\n",
    "Networkx is a handy package for visualising and working with small networks. However, (at least the way I use it) it doesn't scale incredibly well. Network operations tend to be computationally extensive (most of the easy things you do are at least $O(n^3)$), and I think there's some overhead in networkx. It's still a great package and I might be totally and absolutely wrong with my assumptions, so go check it out yourself.\n",
    "\n",
    "It can be found here: https://networkx.github.io/\n",
    "\n",
    "However, for visualization, we just convert the graph to a nx.Graph or Digraph (depending on wether it's symmetrical; this MIGHT be a problem for symmetrical directed graphs, but on a data structure level I don't think there's a way to determine it from an undirected graph, so this is the best we can do without adding a datafield indicating directedness. Just take care.)"
   ]
  },
  {
   "cell_type": "code",
   "execution_count": 5,
   "metadata": {
    "collapsed": false
   },
   "outputs": [
    {
     "name": "stderr",
     "output_type": "stream",
     "text": [
      "C:\\Users\\Trost\\Anaconda3\\lib\\site-packages\\matplotlib\\collections.py:650: FutureWarning: elementwise comparison failed; returning scalar instead, but in the future will perform elementwise comparison\n",
      "  if self._edgecolors_original != str('face'):\n",
      "C:\\Users\\Trost\\Anaconda3\\lib\\site-packages\\matplotlib\\collections.py:590: FutureWarning: elementwise comparison failed; returning scalar instead, but in the future will perform elementwise comparison\n",
      "  if self._edgecolors == str('face'):\n"
     ]
    },
    {
     "data": {
      "image/png": "[encoded data removed]",
      "text/plain": [
       "<matplotlib.figure.Figure at 0x762eba8>"
      ]
     },
     "metadata": {},
     "output_type": "display_data"
    }
   ],
   "source": [
    "\n",
    "def plot_graph(G):\n",
    "\n",
    "    if (G.T == G).all(): # watch out: might be directed but mirrored\n",
    "            G = nx.Graph(G)\n",
    "    else:\n",
    "            G = nx.DiGraph(G)\n",
    "        \n",
    "\n",
    "\n",
    "    nx.draw(G)\n",
    "\n",
    "M = create_density_matrix(g=20)\n",
    "\n",
    "plot_graph(M)\n",
    "\n",
    "\n",
    "\n",
    "\n",
    "\n",
    "\n"
   ]
  },
  {
   "cell_type": "markdown",
   "metadata": {},
   "source": [
    "### create a function which will draw from a normal(10,4) for each node i in g\n",
    "\n",
    "Again, this is pretty simple: we just draw from a normal(10,4) with g entries.\n",
    "However, we'll store the values in networkx structure, as it comes with a handy parameter that stores node values for graphs:"
   ]
  },
  {
   "cell_type": "code",
   "execution_count": 6,
   "metadata": {
    "collapsed": false
   },
   "outputs": [
    {
     "data": {
      "text/plain": [
       "12.862639252593965"
      ]
     },
     "execution_count": 6,
     "metadata": {},
     "output_type": "execute_result"
    }
   ],
   "source": [
    "def populate_nodes(arr):\n",
    "    g = arr.shape[0]\n",
    "    G = nx.Graph(arr)\n",
    "\n",
    "    #populate nodes\n",
    "    rand_seq = np.random.normal(10,4,g)# Preallocation is faster?\n",
    "    #fill values into nodes\n",
    "    for i in range(g):\n",
    "        G.node[i] = rand_seq[i]\n",
    "\n",
    "    return G\n",
    "    \n",
    "\n",
    "\n",
    "\n",
    "G = populate_nodes(A)\n",
    "G.node[0]\n",
    "\n",
    "\n"
   ]
  },
  {
   "cell_type": "markdown",
   "metadata": {},
   "source": [
    "### randomly sampkle 200 nodes and simulate an experiment in which n = 100 nodes (randomly sampled from the 200 nodes) are \"treated\" with $x_i$ := $x_i$ +10 + $\\epsilon$ where $\\epsilon$ is dranw from normal(0,2)\n",
    "\n",
    "\n",
    "To do this, we randomly sample two subsets from the network and build them as subgraphs with networkx; then we treat one graph and observe the effect"
   ]
  },
  {
   "cell_type": "code",
   "execution_count": 7,
   "metadata": {
    "collapsed": false
   },
   "outputs": [
    {
     "name": "stdout",
     "output_type": "stream",
     "text": [
      "prior to experiment\n",
      "9.81425173848\n",
      "mean of subgroup\n",
      "8.98847157639\n",
      "10.4992490022\n",
      "after experiment\n",
      "8.98847157639\n",
      "mean A - mean B:\n",
      "-1.51077742579\n"
     ]
    },
    {
     "data": {
      "text/plain": [
       "-1.5107774257858502"
      ]
     },
     "execution_count": 7,
     "metadata": {},
     "output_type": "execute_result"
    }
   ],
   "source": [
    "def random_sample(G,g,num_test):\n",
    "    \n",
    "    value_list_prior = list(G.node.values())\n",
    "    print('prior to experiment')\n",
    "    print(np.mean(value_list_prior))\n",
    "    \n",
    "    nbunch = np.random.choice(g,num_test,replace=False)#[1,2,3,4,5]\n",
    "    # create subgraph. nx.Graph is necessary to avoid \"view\" of original graph.\n",
    "    subset_A = G.subgraph(nbunch)# nx.Graph(G.subgraph(nbunch))\n",
    "    nbunch2 = nbunch = np.random.choice(g,num_test,replace=False)\n",
    "    subset_B = G.subgraph(nbunch2)\n",
    "    print('mean of subgroup')\n",
    "    print(np.mean(list(subset_A.node.values())))\n",
    "    print(np.mean(list(subset_B.node.values())))\n",
    "\n",
    "    # add +10 + N(0,2) to subset / Experiment\n",
    "    for entry in subset_A.node.items():\n",
    "        G.node[entry[0]] = entry[1] + 10 + np.random.normal(0,2)\n",
    "    \n",
    "    #subset_mean = np.mean(list(subset.node.values()))\n",
    "\n",
    "\n",
    "    #value_list = list(G.node.values())\n",
    "    value_list = list(subset_A.node.values())\n",
    "    print('after experiment')\n",
    "    print(np.mean(value_list))\n",
    "    print('mean A - mean B:')\n",
    "    mean_diff = np.mean(value_list)-np.mean(list(subset_B.node.values()))\n",
    "    print(mean_diff)\n",
    "    return mean_diff\n",
    "    \n",
    "random_sample(G,g,num_test)\n",
    "\n",
    "\n",
    "\n"
   ]
  },
  {
   "cell_type": "markdown",
   "metadata": {},
   "source": [
    "### repeat the same, this time assuming a networking effect of the form $X-i = ~\\alpha x_i + (1-\\alpha)(\\hat{x_j})$ with $\\hat{x_j}$ being the mean of the values of all adjacent nodes to i\n",
    "\n",
    "We again sample two subsets and treat one. \n",
    "then we enumerate through all the neighbors in the network(!) and set their value to $X-i = \\alpha x_i + (1-\\alpha)(\\hat{x_j})$. This is super computationally annoying. I know.\n",
    "\n",
    "Then we compare again the values of the two subsets (note that networkx is so friendly as to update the values although we're still working on the same subgraph structure that we've sampled before the experiment!)"
   ]
  },
  {
   "cell_type": "code",
   "execution_count": 8,
   "metadata": {
    "collapsed": false
   },
   "outputs": [
    {
     "name": "stdout",
     "output_type": "stream",
     "text": [
      "after network effect overall\n",
      "11.2590132878\n",
      "mean A - mean B\n",
      "1.14593593375\n"
     ]
    },
    {
     "data": {
      "text/plain": [
       "1.1459359337457382"
      ]
     },
     "execution_count": 8,
     "metadata": {},
     "output_type": "execute_result"
    }
   ],
   "source": [
    "def network_effect_experiment(G,g,num_test,a):\n",
    "    nbunch = np.random.choice(g,num_test,replace=False)#[1,2,3,4,5]\n",
    "    nbunch2 = np.random.choice(g,num_test,replace=False)\n",
    "    # create subgraph. nx.Graph is necessary to avoid \"view\" of original graph.\n",
    "    subset_A = G.subgraph(nbunch)# nx.Graph(G.subgraph(nbunch))\n",
    "    subset_B = G.subgraph(nbunch2)\n",
    "    \n",
    "    \n",
    "    for entry in subset_A.node.items():\n",
    "        G.node[entry[0]] = entry[1] + 10 + np.random.normal(0,2)\n",
    "    \n",
    "    \n",
    "    for node in subset_A.nodes():\n",
    "\n",
    "        for neighbor in G.neighbors_iter(node):\n",
    "            neighbor_list = G.neighbors(neighbor)\n",
    "            neighbor_list = G.nodes(neighbor_list)\n",
    "            neighbor_mean = np.mean([neighbor_list[i][1] for i in range(len(neighbor_list))])\n",
    "        ###hic sunt O(scary)\n",
    "            G.node[neighbor] = a*G.node[neighbor] + (1-a) * neighbor_mean\n",
    "    value_list = list(subset_A.node.values())\n",
    "\n",
    "    print('after network effect overall')\n",
    "    print(np.mean(value_list))\n",
    "    print('mean A - mean B')\n",
    "    print(np.mean(list(subset_A.node.values())) - np.mean(list(subset_B.node.values())) )\n",
    "    return  np.mean(list(subset_A.node.values())) - np.mean(list(subset_B.node.values()))   \n",
    "    \n",
    "network_effect_experiment(G,g,num_test,a)\n",
    "\n"
   ]
  },
  {
   "cell_type": "markdown",
   "metadata": {},
   "source": [
    "### Try different specifications of the network effect\n",
    "i.e. different alhas:"
   ]
  },
  {
   "cell_type": "code",
   "execution_count": 9,
   "metadata": {
    "collapsed": false
   },
   "outputs": [
    {
     "name": "stdout",
     "output_type": "stream",
     "text": [
      "prior to experiment\n",
      "10.0245606118\n",
      "mean of subgroup\n",
      "10.3135547924\n",
      "9.24090243932\n",
      "after experiment\n",
      "10.3135547924\n",
      "mean A - mean B:\n",
      "1.07265235312\n",
      "after network effect overall\n",
      "12.6699291311\n",
      "mean A - mean B\n",
      "-0.993636924825\n",
      "after network effect overall\n",
      "13.2300259559\n",
      "mean A - mean B\n",
      "7.23543381653e-07\n",
      "after network effect overall\n",
      "16.6761077623\n",
      "mean A - mean B\n",
      "-1.12789973628e-06\n",
      "after network effect overall\n",
      "18.9535937778\n",
      "mean A - mean B\n",
      "-2.93947735486e-07\n",
      "after network effect overall\n",
      "21.4439620922\n",
      "mean A - mean B\n",
      "-5.86975031638e-05\n",
      "after network effect overall\n",
      "23.8718506243\n",
      "mean A - mean B\n",
      "0.000449478321176\n",
      "after network effect overall\n",
      "26.5049345547\n",
      "mean A - mean B\n",
      "-0.00285313499273\n",
      "after network effect overall\n",
      "29.2114170341\n",
      "mean A - mean B\n",
      "-0.00886137834526\n",
      "after network effect overall\n",
      "31.7173123903\n",
      "mean A - mean B\n",
      "0.00682179898206\n",
      "after network effect overall\n",
      "33.9996774644\n",
      "mean A - mean B\n",
      "-0.175366392282\n",
      "after network effect overall\n",
      "36.73389174\n",
      "mean A - mean B\n",
      "0.380190342616\n",
      "TEST 1.07265235312\n",
      "[ -9.93636925e-01   7.23543382e-07  -1.12789974e-06  -2.93947735e-07\n",
      "  -5.86975032e-05   4.49478321e-04  -2.85313499e-03  -8.86137835e-03\n",
      "   6.82179898e-03  -1.75366392e-01   3.80190343e-01]\n"
     ]
    },
    {
     "data": {
      "text/plain": [
       "[<matplotlib.lines.Line2D at 0xa054358>]"
      ]
     },
     "execution_count": 9,
     "metadata": {},
     "output_type": "execute_result"
    },
    {
     "data": {
      "image/png": "[encoded data removed]",
      "text/plain": [
       "<matplotlib.figure.Figure at 0x8da0128>"
      ]
     },
     "metadata": {},
     "output_type": "display_data"
    }
   ],
   "source": [
    "def wrapper():\n",
    "    test_a = np.linspace(0,1,11)\n",
    "    x = 2\n",
    "    g=10**x\n",
    "    num_test = 25\n",
    "    p = .3\n",
    "    \n",
    "    A = bernoulli_matrix(g,p)\n",
    "    G = populate_nodes(A)\n",
    "    mean_arr = []\n",
    "    b = random_sample(G,g,num_test)\n",
    "\n",
    "    #Runt test several Times!\n",
    "\n",
    "        \n",
    "    \n",
    "    for a in test_a:\n",
    "        mean_arr.append(network_effect_experiment(G,g,num_test,a))\n",
    "    print('TEST ' + str(b))\n",
    "\n",
    "    return mean_arr\n",
    "\n",
    "\n",
    "a = wrapper()\n",
    "a = np.array(a)   \n",
    "print(a) \n",
    "plt.figure\n",
    "#plt.hist(a)\n",
    "#plt.figure\n",
    "plt.plot(a)\n",
    "\n"
   ]
  },
  {
   "cell_type": "code",
   "execution_count": null,
   "metadata": {
    "collapsed": true
   },
   "outputs": [],
   "source": []
  }
 ],
 "metadata": {
  "kernelspec": {
   "display_name": "Python 3",
   "language": "python",
   "name": "python3"
  },
  "language_info": {
   "codemirror_mode": {
    "name": "ipython",
    "version": 3
   },
   "file_extension": ".py",
   "mimetype": "text/x-python",
   "name": "python",
   "nbconvert_exporter": "python",
   "pygments_lexer": "ipython3",
   "version": "3.4.3"
  }
 },
 "nbformat": 4,
 "nbformat_minor": 0
}

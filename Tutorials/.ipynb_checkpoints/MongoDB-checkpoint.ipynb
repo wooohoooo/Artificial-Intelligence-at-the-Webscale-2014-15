{
 "cells": [
  {
   "cell_type": "markdown",
   "metadata": {},
   "source": [
    "# PyMongo Assignment\n",
    "\n",
    "in this Notebook, the basics of Pymongo will be introduced. To get started, please visit https://www.mongodb.org/ and install the appropriate version of mongodb.\n",
    "\n",
    "the following is contained within this doc:\n",
    "\n",
    "1. Simulate a dataset, using the regression methods we covered in the previous\n",
    "lectures, which contains data of 10.000 houses. The data should contain the\n",
    "number of square feet, the number of rooms, an (incremental) ID for the house,\n",
    "and the price (the latter of which you simulate by making a model that predict\n",
    "prices based on the square feet and the number of rooms.\n",
    "\n",
    "2. Store the data in MongoDB: how do you do it and why?\n",
    "\n",
    "3. Add a short description to 3 of the houses\n",
    "\n",
    "4. select all houses that have a description"
   ]
  },
  {
   "cell_type": "markdown",
   "metadata": {},
   "source": [
    "### Simulate a dataset"
   ]
  },
  {
   "cell_type": "code",
   "execution_count": 1,
   "metadata": {
    "collapsed": false
   },
   "outputs": [
    {
     "data": {
      "text/plain": [
       "[<matplotlib.lines.Line2D at 0x73635c0>]"
      ]
     },
     "execution_count": 1,
     "metadata": {},
     "output_type": "execute_result"
    },
    {
     "data": {
      "image/png": "[encoded data removed]",
      "text/plain": [
       "<matplotlib.figure.Figure at 0x701b0b8>"
      ]
     },
     "metadata": {},
     "output_type": "display_data"
    }
   ],
   "source": [
    "import numpy as np\n",
    "import pymongo\n",
    "import matplotlib.pyplot as plt\n",
    "%matplotlib inline\n",
    "\n",
    "\n",
    "#create dataset\n",
    "num_feet = np.random.random_integers(100,2500,10000)\n",
    "\n",
    "num_rooms = np.random.random_integers(2,10,10000)\n",
    "\n",
    "prices = 400 * num_feet + 25*num_rooms + np.random.normal(0,10000)\n",
    "\n",
    "plt.plot(prices,num_feet)\n",
    "\n"
   ]
  },
  {
   "cell_type": "markdown",
   "metadata": {},
   "source": [
    "### Store the Dataset in MongoDB\n",
    "\n",
    "we first establish a connection to our database with pymongo.MongoClient(), then insert our data to the Database.\n",
    "Note that since python 3 (as of 1.1.2016), numpy objects are not permitted in mongo (they were in 2.7), thus the cast to ints and floats."
   ]
  },
  {
   "cell_type": "code",
   "execution_count": 2,
   "metadata": {
    "collapsed": false
   },
   "outputs": [
    {
     "name": "stderr",
     "output_type": "stream",
     "text": [
      "C:\\Users\\Trost\\Anaconda3\\lib\\site-packages\\ipykernel\\__main__.py:17: DeprecationWarning: insert is deprecated. Use insert_one or insert_many instead.\n"
     ]
    }
   ],
   "source": [
    "\n",
    "#Store Simulated Dataset\n",
    "#establish connection\n",
    "client = pymongo.MongoClient()\n",
    "db = client.test_database #db = client['test-database']\n",
    "\n",
    "collection = db.test_collection\n",
    "\n",
    "houses = db.houses\n",
    "house_attributes = zip(num_feet,num_rooms,prices)\n",
    "attr_list = list(house_attributes) # this is necessary as of python 3 zips can no longer be accessed like lists. Why.\n",
    "for feet,rooms,price in attr_list:\n",
    "    #print(feet.type,rooms.type,price)\n",
    "    house = {\"feet\" : int(feet),\n",
    "    \"rooms\" : int(rooms),\n",
    "    \"price\" : float(price)}\n",
    "    house_id = houses.insert(house)\n",
    "\n",
    "\n"
   ]
  },
  {
   "cell_type": "markdown",
   "metadata": {},
   "source": [
    "test"
   ]
  },
  {
   "cell_type": "code",
   "execution_count": 3,
   "metadata": {
    "collapsed": false
   },
   "outputs": [
    {
     "name": "stdout",
     "output_type": "stream",
     "text": [
      "{'_id': ObjectId('568a7911047aa933e44bba1d'), 'price': 780483.9746901597, 'feet': 1940, 'desc': ['cozy'], '_description': 'cozy', 'rooms': 6}\n"
     ]
    }
   ],
   "source": [
    "a = houses.find_one()\n",
    "print(a)\n",
    "\n"
   ]
  },
  {
   "cell_type": "markdown",
   "metadata": {},
   "source": [
    "#### Add a short Descriotion to some of the houses:\n",
    "To do so, we'll find a house that fits the description from our attribute list and add a new datafield \"_description\", then call .update"
   ]
  },
  {
   "cell_type": "code",
   "execution_count": 4,
   "metadata": {
    "collapsed": false
   },
   "outputs": [
    {
     "name": "stdout",
     "output_type": "stream",
     "text": [
      "before\n",
      "{'_id': ObjectId('568a820d047aa919d4e4f85f'), 'feet': 2450, 'rooms': 6, 'price': 971028.181412725}\n",
      "\n",
      " after\n",
      "{'_id': ObjectId('568a820d047aa919d4e4f85f'), 'price': 971028.181412725, 'feet': 2450, 'desc': ['cozy'], '_description': 'cozy', 'rooms': 6}\n",
      "before\n",
      "{'_id': ObjectId('568a820d047aa919d4e4f860'), 'feet': 966, 'rooms': 9, 'price': 377503.18141272507}\n",
      "\n",
      " after\n",
      "{'_id': ObjectId('568a820d047aa919d4e4f860'), 'price': 377503.18141272507, 'feet': 966, 'desc': ['seaside'], '_description': 'seaside', 'rooms': 9}\n",
      "before\n",
      "{'_id': ObjectId('568a820d047aa919d4e4f861'), 'feet': 818, 'rooms': 10, 'price': 318328.18141272507}\n",
      "\n",
      " after\n",
      "{'_id': ObjectId('568a820d047aa919d4e4f861'), 'price': 318328.18141272507, 'feet': 818, 'desc': ['garden'], '_description': 'garden', 'rooms': 10}\n"
     ]
    },
    {
     "name": "stderr",
     "output_type": "stream",
     "text": [
      "C:\\Users\\Trost\\Anaconda3\\lib\\site-packages\\ipykernel\\__main__.py:19: DeprecationWarning: update is deprecated. Use replace_one, update_one or update_many instead.\n",
      "C:\\Users\\Trost\\Anaconda3\\lib\\site-packages\\ipykernel\\__main__.py:21: DeprecationWarning: update is deprecated. Use replace_one, update_one or update_many instead.\n"
     ]
    }
   ],
   "source": [
    "\n",
    "#ADD SHORT DESCRIPTION\n",
    "\n",
    "desc_list = ['cozy','seaside','garden','farm','murder happened here']*2\n",
    "for i in range(3):\n",
    "\n",
    "    feet,rooms,price = attr_list[i]\n",
    "\n",
    "    descr_house = houses.find_one({\"feet\" : int(feet),\n",
    "    \"rooms\" : int(rooms),\n",
    "    \"price\" : float(price)})\n",
    "    ID = descr_house['_id']\n",
    "    print( 'before')\n",
    "    print(  houses.find_one({\"_id\":ID}) )\n",
    "    #simple use of update\n",
    "    houses.update({'_id':ID},{\"feet\" : int(feet),\n",
    "    \"rooms\" : int(rooms),\n",
    "    \"price\" : float(price),\n",
    "    \"_description\":desc_list[i]})\n",
    "    #use push. Mind the difference: 'desc' is an array of values, while _description is only one value\n",
    "    houses.update({'_id':ID},{'$push':{'desc':desc_list[i]}})\n",
    "    print( '\\n after')\n",
    "    print(  houses.find_one({\"_id\":ID}) )\n",
    "\n"
   ]
  },
  {
   "cell_type": "markdown",
   "metadata": {},
   "source": [
    "###  select all houses that have a description\n",
    "\n",
    "For this we'll use the \"cursor\" object"
   ]
  },
  {
   "cell_type": "code",
   "execution_count": 5,
   "metadata": {
    "collapsed": false
   },
   "outputs": [
    {
     "name": "stdout",
     "output_type": "stream",
     "text": [
      "6\n",
      "18661\n"
     ]
    }
   ],
   "source": [
    "#select all houses that have a description\n",
    "cursor = houses.find({\"desc\" : {'$exists':True}})\n",
    "\n",
    "#count all of them\n",
    "print(cursor.count())\n",
    "#print(db.command({'dbstats': 1}))\n",
    "\n",
    "\n",
    "###find all houses with price higher than X and number of rooms y\n",
    "\n",
    "x = 100000\n",
    "y = 4\n",
    "\n",
    "cursor = houses.find({\"price\":{\"$gt\":x}},{\"rooms\":4})\n",
    "\n",
    "print(cursor.count())\n"
   ]
  },
  {
   "cell_type": "code",
   "execution_count": null,
   "metadata": {
    "collapsed": true
   },
   "outputs": [],
   "source": []
  }
 ],
 "metadata": {
  "kernelspec": {
   "display_name": "Python 3",
   "language": "python",
   "name": "python3"
  },
  "language_info": {
   "codemirror_mode": {
    "name": "ipython",
    "version": 3
   },
   "file_extension": ".py",
   "mimetype": "text/x-python",
   "name": "python",
   "nbconvert_exporter": "python",
   "pygments_lexer": "ipython3",
   "version": "3.4.3"
  }
 },
 "nbformat": 4,
 "nbformat_minor": 0
}

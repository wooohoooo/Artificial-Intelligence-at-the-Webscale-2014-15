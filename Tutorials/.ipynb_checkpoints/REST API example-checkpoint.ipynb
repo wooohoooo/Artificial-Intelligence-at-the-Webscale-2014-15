{
 "cells": [
  {
   "cell_type": "markdown",
   "metadata": {},
   "source": [
    "# Rest APIs\n",
    "\n",
    "In this notebook I'll implement an example of a REST API.\n",
    "\n",
    "However, note that it's basically copy-paste from http://blog.miguelgrinberg.com/post/designing-a-restful-api-with-python-and-flask; which is due to the way the assignment was posted.\n",
    "\n",
    "For a more sophisticated example on how to use the Flask Package, see the Practical.\n",
    "\n",
    "Also note that it's not actually possible to run Flask from the Jupyter Notebook, hence the errors. The code would work if use as described in the blog; we could run it from the command prompt and then either use curl to take a look at the output or just use any server to visit the port we're beaming to,"
   ]
  },
  {
   "cell_type": "markdown",
   "metadata": {},
   "source": [
    "### GET calls\n",
    "\n",
    "First call returns everything in the Database, second returns specifical entries."
   ]
  },
  {
   "cell_type": "code",
   "execution_count": 1,
   "metadata": {
    "collapsed": false
   },
   "outputs": [],
   "source": [
    "#!flask/bin/python\n",
    "from flask import Flask, jsonify\n",
    "\n",
    "app = Flask(__name__)\n",
    "#building something to put in\n",
    "\n",
    "tasks = [\n",
    "    {\n",
    "        'id': 1,\n",
    "        'title': u'Buy groceries',\n",
    "        'description': u'Milk, Cheese, Pizza, Fruit, Tylenol', \n",
    "        'done': False\n",
    "    },\n",
    "    {\n",
    "        'id': 2,\n",
    "        'title': u'Learn Python',\n",
    "        'description': u'Need to find a good Python tutorial on the web', \n",
    "        'done': False\n",
    "    }\n",
    "]\n",
    "\n",
    "#this just returns all the tasks as tasks.\n",
    "@app.route('/todo/api/v1.0/tasks', methods=['GET'])\n",
    "def get_tasks():\n",
    "    return jsonify({'tasks': tasks})\n",
    "\n"
   ]
  },
  {
   "cell_type": "code",
   "execution_count": 2,
   "metadata": {
    "collapsed": true
   },
   "outputs": [],
   "source": [
    "from flask import abort\n",
    "\n",
    "@app.route('/todo/api/v1.0/tasks/<int:task_id>', methods=['GET'])\n",
    "def get_task(task_id):\n",
    "    #this returns all the tasks that have the right id\n",
    "    task = [task for task in tasks if task['id'] == task_id]\n",
    "    if len(task) == 0:\n",
    "        abort(404)\n",
    "    return jsonify({'task': task[0]})"
   ]
  },
  {
   "cell_type": "markdown",
   "metadata": {},
   "source": [
    "## Post Method\n",
    "\n",
    "can be used to insert a new item into the task database:"
   ]
  },
  {
   "cell_type": "code",
   "execution_count": 3,
   "metadata": {
    "collapsed": true
   },
   "outputs": [],
   "source": [
    "from flask import request\n",
    "\n",
    "@app.route('/todo/api/v1.0/tasks', methods=['POST'])\n",
    "def create_task():\n",
    "    if not request.json or not 'title' in request.json:\n",
    "        abort(400)\n",
    "        #this adds a new task and asks the user to enter totle and description in the form of e.g. {\"\"\"title\"\"\":\"\"\"Read a book\"\"\"}\n",
    "    task = {\n",
    "        'id': tasks[-1]['id'] + 1,\n",
    "        'title': request.json['title'],\n",
    "        'description': request.json.get('description', \"\"),\n",
    "        'done': False\n",
    "    }\n",
    "    tasks.append(task)\n",
    "    return jsonify({'task': task}), 201"
   ]
  },
  {
   "cell_type": "markdown",
   "metadata": {},
   "source": [
    "### Put Method\n",
    "Used to update entries"
   ]
  },
  {
   "cell_type": "code",
   "execution_count": 4,
   "metadata": {
    "collapsed": true
   },
   "outputs": [],
   "source": [
    "@app.route('/todo/api/v1.0/tasks/<int:task_id>', methods=['PUT'])\n",
    "def update_task(task_id):\n",
    "    task = [task for task in tasks if task['id'] == task_id]\n",
    "    if len(task) == 0:\n",
    "        abort(404)\n",
    "    if not request.json:\n",
    "        abort(400)\n",
    "    if 'title' in request.json and type(request.json['title']) != unicode:\n",
    "        abort(400)\n",
    "    if 'description' in request.json and type(request.json['description']) is not unicode:\n",
    "        abort(400)\n",
    "    if 'done' in request.json and type(request.json['done']) is not bool:\n",
    "        abort(400)\n",
    "    # this changes the title and description and done status ; e.g. {\"done:true\"}\n",
    "    task[0]['title'] = request.json.get('title', task[0]['title'])\n",
    "    task[0]['description'] = request.json.get('description', task[0]['description'])\n",
    "    task[0]['done'] = request.json.get('done', task[0]['done'])\n",
    "    return jsonify({'task': task[0]})"
   ]
  },
  {
   "cell_type": "markdown",
   "metadata": {},
   "source": [
    "### Del Method\n",
    "\n",
    "used to, unsurprisingly, delete entries.\n",
    "\n"
   ]
  },
  {
   "cell_type": "code",
   "execution_count": 5,
   "metadata": {
    "collapsed": true
   },
   "outputs": [],
   "source": [
    "@app.route('/todo/api/v1.0/tasks/<int:task_id>', methods=['DELETE'])\n",
    "def delete_task(task_id):\n",
    "    task = [task for task in tasks if task['id'] == task_id]\n",
    "    if len(task) == 0:\n",
    "        abort(404)\n",
    "    #this removes all tasks that matched a certain id.\n",
    "    tasks.remove(task[0])\n",
    "    return jsonify({'result': True})"
   ]
  },
  {
   "cell_type": "code",
   "execution_count": null,
   "metadata": {
    "collapsed": true
   },
   "outputs": [],
   "source": []
  }
 ],
 "metadata": {
  "kernelspec": {
   "display_name": "Python 3",
   "language": "python",
   "name": "python3"
  },
  "language_info": {
   "codemirror_mode": {
    "name": "ipython",
    "version": 3
   },
   "file_extension": ".py",
   "mimetype": "text/x-python",
   "name": "python",
   "nbconvert_exporter": "python",
   "pygments_lexer": "ipython3",
   "version": "3.4.3"
  }
 },
 "nbformat": 4,
 "nbformat_minor": 0
}

{
 "cells": [
  {
   "cell_type": "code",
   "execution_count": 1,
   "metadata": {
    "collapsed": false
   },
   "outputs": [],
   "source": [
    "import numpy as np\n",
    "from sklearn.datasets import make_regression\n",
    "import matplotlib.pyplot as plt\n",
    "%matplotlib inline\n",
    "import pymongo as pm\n",
    "from bson.code import Code"
   ]
  },
  {
   "cell_type": "markdown",
   "metadata": {},
   "source": [
    "# MapReduce\n",
    "\n",
    "This notebook contains a MapReduce version of linear regression. \n"
   ]
  },
  {
   "cell_type": "markdown",
   "metadata": {},
   "source": [
    "## Linear Regression\n",
    "\n",
    "For the linear regression, we will build upon both the MongoDB as well as the streaming Regression Notebook.\n",
    "\n",
    "First, let's create a Dataset:"
   ]
  },
  {
   "cell_type": "code",
   "execution_count": 2,
   "metadata": {
    "collapsed": false
   },
   "outputs": [
    {
     "data": {
      "text/plain": [
       "[<matplotlib.lines.Line2D at 0x5692be0>]"
      ]
     },
     "execution_count": 2,
     "metadata": {},
     "output_type": "execute_result"
    },
    {
     "data": {
      "image/png": "[encoded data removed]",
      "text/plain": [
       "<matplotlib.figure.Figure at 0x560e518>"
      ]
     },
     "metadata": {},
     "output_type": "display_data"
    }
   ],
   "source": [
    "X,y = make_regression(n_samples=100, \n",
    "                      n_features=1, \n",
    "                      n_informative=1, \n",
    "                      n_targets=1, \n",
    "                      tail_strength=0.5, noise=10.0)\n",
    "plt.plot(X,y,'x')"
   ]
  },
  {
   "cell_type": "markdown",
   "metadata": {},
   "source": [
    "then start the MongoDB client and remove all data that might have stayed there from my extensive trial-and-error-Javascript programming:"
   ]
  },
  {
   "cell_type": "code",
   "execution_count": 3,
   "metadata": {
    "collapsed": false
   },
   "outputs": [
    {
     "name": "stderr",
     "output_type": "stream",
     "text": [
      "C:\\Users\\Trost\\Anaconda3\\lib\\site-packages\\ipykernel\\__main__.py:3: DeprecationWarning: remove is deprecated. Use delete_one or delete_many instead.\n",
      "  app.launch_new_instance()\n"
     ]
    },
    {
     "data": {
      "text/plain": [
       "{'n': 100, 'ok': 1}"
      ]
     },
     "execution_count": 3,
     "metadata": {},
     "output_type": "execute_result"
    }
   ],
   "source": [
    "client = pm.MongoClient()\n",
    "db = client.test_database \n",
    "db.data.remove()"
   ]
  },
  {
   "cell_type": "markdown",
   "metadata": {},
   "source": [
    "then safe the new data to the Database (mind the 'k':1; we need it to make your regression work. I'm pretty sure that's not something that's commonly needed, but, I have so little idea about how js works that... well it was a hack.)"
   ]
  },
  {
   "cell_type": "code",
   "execution_count": 4,
   "metadata": {
    "collapsed": false
   },
   "outputs": [],
   "source": [
    "for i in range(len(y)):\n",
    "    datapoint = {'_id':i,\n",
    "        'x':float(X[i]),\n",
    "                'y': float(y[i]),\n",
    "                'k':1}\n",
    "    db.data.insert_one(datapoint)"
   ]
  },
  {
   "cell_type": "markdown",
   "metadata": {},
   "source": [
    "the beautiful Javascript map and reduce functions. I was really stupid and tried to write and debug them IN THIS ENVIRONMENT instead of just opening up javascript. Well. My bad. \n",
    "\n",
    "The map function computes x*x and x*y (see the streaming regression Notebook),\n",
    "the reduce function computes the sum to obtain A and b; in the end we need to do 1/A *b to obtain the thetas.\n",
    "\n",
    "Mind: For simplicity (and lack of knowledge about javascript matrix operators), this Version ommits the fitting of the intercept. Instead, luckily, the dataset is centered around 0."
   ]
  },
  {
   "cell_type": "code",
   "execution_count": 5,
   "metadata": {
    "collapsed": true
   },
   "outputs": [],
   "source": [
    "map = Code(\"function() {\"\n",
    "    \"var value = {\"\n",
    "        \"xx:this.x*this.x,\"\n",
    "           \"xy:this.x*this.y};\"\n",
    "    \"emit(this.k,value);\"\n",
    "\"};\")"
   ]
  },
  {
   "cell_type": "code",
   "execution_count": 6,
   "metadata": {
    "collapsed": true
   },
   "outputs": [],
   "source": [
    "reduce = Code(\"function (key,values) {\"\n",
    "             \" var total = {xx:0,xy:0};\"\n",
    "             \"for (var i = 0; i<values.length; i++){\"\n",
    "             \"total.xx += values[i].xx;\"\n",
    "              \"total.xy += values[i].xy;\"\n",
    "             \"}\"\n",
    "             \"return total;\"\n",
    "             \"}\")"
   ]
  },
  {
   "cell_type": "code",
   "execution_count": 7,
   "metadata": {
    "collapsed": true
   },
   "outputs": [],
   "source": [
    "results = db.data.map_reduce(map,reduce,'mything')"
   ]
  },
  {
   "cell_type": "code",
   "execution_count": 8,
   "metadata": {
    "collapsed": false
   },
   "outputs": [
    {
     "name": "stdout",
     "output_type": "stream",
     "text": [
      "{'value': {'xy': 10182.657205420515, 'xx': 107.64955603769045}, '_id': 1.0}\n"
     ]
    }
   ],
   "source": [
    "for doc in results.find():\n",
    "    print(doc)"
   ]
  },
  {
   "cell_type": "code",
   "execution_count": 9,
   "metadata": {
    "collapsed": false
   },
   "outputs": [
    {
     "data": {
      "text/plain": [
       "107.64955603769045"
      ]
     },
     "execution_count": 9,
     "metadata": {},
     "output_type": "execute_result"
    }
   ],
   "source": [
    "doc['value']['xx']"
   ]
  },
  {
   "cell_type": "code",
   "execution_count": 10,
   "metadata": {
    "collapsed": true
   },
   "outputs": [],
   "source": [
    "beta = 1/doc['value']['xx'] * doc['value']['xy']"
   ]
  },
  {
   "cell_type": "code",
   "execution_count": 11,
   "metadata": {
    "collapsed": false
   },
   "outputs": [
    {
     "data": {
      "text/plain": [
       "94.59079610003543"
      ]
     },
     "execution_count": 11,
     "metadata": {},
     "output_type": "execute_result"
    }
   ],
   "source": [
    "beta"
   ]
  },
  {
   "cell_type": "code",
   "execution_count": 12,
   "metadata": {
    "collapsed": false
   },
   "outputs": [
    {
     "data": {
      "text/plain": [
       "[<matplotlib.lines.Line2D at 0x7c4d898>]"
      ]
     },
     "execution_count": 12,
     "metadata": {},
     "output_type": "execute_result"
    },
    {
     "data": {
      "image/png": "[encoded data removed]",
      "text/plain": [
       "<matplotlib.figure.Figure at 0x7c4d860>"
      ]
     },
     "metadata": {},
     "output_type": "display_data"
    }
   ],
   "source": [
    "plt.plot(X,y,'x')\n",
    "plt.plot(X,X*beta)"
   ]
  },
  {
   "cell_type": "markdown",
   "metadata": {},
   "source": [
    "beautiful, right?"
   ]
  },
  {
   "cell_type": "code",
   "execution_count": null,
   "metadata": {
    "collapsed": true
   },
   "outputs": [],
   "source": []
  }
 ],
 "metadata": {
  "kernelspec": {
   "display_name": "Python 3",
   "language": "python",
   "name": "python3"
  },
  "language_info": {
   "codemirror_mode": {
    "name": "ipython",
    "version": 3
   },
   "file_extension": ".py",
   "mimetype": "text/x-python",
   "name": "python",
   "nbconvert_exporter": "python",
   "pygments_lexer": "ipython3",
   "version": "3.4.3"
  }
 },
 "nbformat": 4,
 "nbformat_minor": 0
}

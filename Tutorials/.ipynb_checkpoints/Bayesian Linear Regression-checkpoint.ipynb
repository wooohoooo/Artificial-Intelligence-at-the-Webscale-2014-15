{
 "cells": [
  {
   "cell_type": "code",
   "execution_count": 1,
   "metadata": {
    "collapsed": true
   },
   "outputs": [],
   "source": [
    "import numpy as np\n",
    "from numpy import linalg as LA\n",
    "from numpy.random import multivariate_normal"
   ]
  },
  {
   "cell_type": "code",
   "execution_count": 46,
   "metadata": {
    "collapsed": false
   },
   "outputs": [],
   "source": [
    "#from policies.policy import Policy\n",
    "\n",
    "import numpy as np\n",
    "from itertools import product\n",
    "from scipy.stats import multivariate_normal as mv\n",
    "\n",
    "class ThompsonSampling(object):\n",
    "    def __init__(self, arms, contexts, R = 0.5, epsilon = 0.01, delta = 0.2):\n",
    "        \"\"\"\n",
    "        Construct a new Thompson Sampling policy.\n",
    "        :param arms: List of arms.\n",
    "        :param contexts: List of context variables.\n",
    "        :param R:\n",
    "        :param epsilon:\n",
    "        :param delta:\n",
    "        :return:\n",
    "        \"\"\"\n",
    "        self.n_arms = np.array(arms)\n",
    "        self.n_contexts = np.array(contexts)\n",
    "        self.d = np.sum(np.outer(self.n_contexts, self.n_arms)) + np.sum(self.n_contexts) + np.sum(self.n_arms) + 1\n",
    "\n",
    "        self.B = np.eye(self.d)\n",
    "        self.Binv = np.linalg.inv(self.B)\n",
    "        self.mu = np.zeros(self.d)\n",
    "        self.f = np.zeros(self.d)\n",
    "        self.v = 1 #R * sqrt((24.0/epsilon) * self.d * log(1.0/delta))\n",
    "\n",
    "        #These 4 variables are calculated once here, instead of over and over again for a LOT of iterations\n",
    "        self._cumsumarm = np.hstack((0, np.cumsum(np.sum(np.outer(self.n_arms, self.n_contexts), axis=0))))\n",
    "        self._cumsumcontext = [ np.hstack((0, np.cumsum(np.outer(self.n_arms, self.n_contexts)[i,:]))) for i in range(len(self.n_arms)) ]\n",
    "        self._cumcontext = np.hstack((0, np.cumsum(self.n_contexts)))\n",
    "        self._cumarms = np.hstack((0, np.cumsum(self.n_arms)))\n",
    "        self.done = np.sum(np.outer(self.n_arms, self.n_contexts))\n",
    "        self.dtwo = np.sum(self.n_contexts) + np.sum(self.n_arms) + 1\n",
    "\n",
    "        self.muc = None\n",
    "\n",
    "    def choose(self, context = []):\n",
    "        \"\"\" L is inverse of matrix v**2 *Binv\n",
    "        self.muc = draw*L + mu\"\"\"\n",
    "        if self.muc is None:\n",
    "            L = np.linalg.cholesky(self.v**2.0 * self.Binv)\n",
    "            norm = np.random.normal(size=self.d)\n",
    "            self.muc = self.mu + np.dot(L, norm)\n",
    "            # self.draw() ?\n",
    "\n",
    "        rewards = np.zeros(self.n_arms)\n",
    "        \"\"\"context is dummy from arms and contexts\"\"\"\n",
    "\n",
    "        for i, arm in enumerate(product(*[range(arm) for arm in self.n_arms])):\n",
    "            b = self.createContext(context, arm)\n",
    "            rewards[arm] = np.dot(b, self.muc)\n",
    "\n",
    "        self.muc = None\n",
    "        return np.unravel_index(np.argmax(rewards), self.n_arms)\n",
    "\n",
    "    def update(self, arm, reward, context = []):\n",
    "        b = self.createContext(context, arm)\n",
    "        self.B = self.B + np.outer(b, b)\n",
    "        tempBinv = np.linalg.inv(self.B)\n",
    "\n",
    "        x = np.sum(tempBinv)\n",
    "        if np.isnan(x):\n",
    "            #print(\"Found invalid matrix, B^-1 contained nan!\")\n",
    "            self.B = self.B - np.outer(b,b)\n",
    "            return\n",
    "\n",
    "        self.Binv = tempBinv\n",
    "        self.f = self.f + (b * reward)\n",
    "        self.mu = np.dot(self.Binv, self.f)\n",
    "\n",
    "    def createIntercept(self, context, arm):\n",
    "        contextResult = np.zeros(self.dtwo)\n",
    "        for i, c in enumerate(context):\n",
    "            contextResult[self._cumcontext[i] + c] = 1\n",
    "        for i, a in enumerate(arm):\n",
    "            contextResult[np.sum(self.n_arms) + self._cumarms[i] + a] = 1\n",
    "        contextResult[-1] = 1\n",
    "        return contextResult\n",
    "\n",
    "    def createContext(self, context, arm):\n",
    "        \"\"\"\n",
    "        :param context: the context as an array, for example: [1,2,54,3]\n",
    "        :param arm:  The arm(s) you want to choose, for example: [3,2,2,10]\n",
    "        :param n_context: Maximum number of context variables, for example: [4,4,101,3]\n",
    "        :param n_arm: Maximum number of arms, for example: [3,3,5,16]\n",
    "        :return: An array of ordered dummy variables, 1 if the combination of arm/context is fulfilled\n",
    "        \"\"\"\n",
    "        contextResult = np.zeros(self.done)\n",
    "        for i, a in enumerate(arm):\n",
    "            armoffset = self._cumsumarm[i]\n",
    "            for j, c in enumerate(context):\n",
    "                contextoffset = self._cumsumcontext[i][j]\n",
    "                contextResult[ armoffset + contextoffset + (a*self.n_contexts[j]) + c ] = 1\n",
    "        return np.hstack((self.createIntercept(context, arm), contextResult))\n",
    "\n",
    "\n",
    "    def draw(self):\n",
    "        L = np.linalg.cholesky(self.v**2.0 * self.Binv)\n",
    "        norm = np.random.normal(size=self.d)\n",
    "        self.muc = self.mu + np.dot(L, norm)\n",
    "\n",
    "\n",
    "    def arms(self):\n",
    "        return self.n_arms\n",
    "\n",
    "    def contexts(self):\n",
    "        return self.n_contexts\n",
    "\n",
    "    def name(self):\n",
    "        return \"Thompson Sampling\""
   ]
  },
  {
   "cell_type": "code",
   "execution_count": 31,
   "metadata": {
    "collapsed": false
   },
   "outputs": [],
   "source": [
    "a = ThompsonSampling(arms = [1,2,3,4,5],    contexts = [7, 4, 4, 3, 12, 3]\n",
    ")"
   ]
  },
  {
   "cell_type": "code",
   "execution_count": 45,
   "metadata": {
    "collapsed": false
   },
   "outputs": [
    {
     "data": {
      "text/plain": [
       "(0, 1, 0, 1, 0)"
      ]
     },
     "execution_count": 45,
     "metadata": {},
     "output_type": "execute_result"
    }
   ],
   "source": [
    "a.choose()"
   ]
  },
  {
   "cell_type": "code",
   "execution_count": null,
   "metadata": {
    "collapsed": true
   },
   "outputs": [],
   "source": []
  }
 ],
 "metadata": {
  "kernelspec": {
   "display_name": "Python 3",
   "language": "python",
   "name": "python3"
  },
  "language_info": {
   "codemirror_mode": {
    "name": "ipython",
    "version": 3
   },
   "file_extension": ".py",
   "mimetype": "text/x-python",
   "name": "python",
   "nbconvert_exporter": "python",
   "pygments_lexer": "ipython3",
   "version": "3.4.3"
  }
 },
 "nbformat": 4,
 "nbformat_minor": 0
}

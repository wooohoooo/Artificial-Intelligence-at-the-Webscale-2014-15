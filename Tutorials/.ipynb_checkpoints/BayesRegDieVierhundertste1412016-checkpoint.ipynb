{
 "cells": [
  {
   "cell_type": "code",
   "execution_count": 27,
   "metadata": {
    "collapsed": true
   },
   "outputs": [],
   "source": [
    "import numpy as np\n",
    "import matplotlib.pyplot as plt\n",
    "from IPython.core.pylabtools import figsize\n",
    "%matplotlib inline\n",
    "import scipy.stats as stats\n",
    "import seaborn as sns; sns.set_context('notebook')\n",
    "figsize=(45,10)\n",
    "from IPython.core.pylabtools import figsize\n",
    "figsize(14.5,6.5)\n",
    "from sklearn import linear_model\n"
   ]
  },
  {
   "cell_type": "markdown",
   "metadata": {},
   "source": [
    "\n",
    "# Linear Bandit Solver"
   ]
  },
  {
   "cell_type": "markdown",
   "metadata": {},
   "source": [
    "### Bayesian Linear Regression\n",
    "\n",
    "The Idea is to combine thompson sampling with a linear model in order to utilize the context that is given by the world.\n",
    "\n",
    "In order to understand how a linear model and thompson sapling go together, we'll first do a short excursion towards Bayesian linear Regression:\n"
   ]
  },
  {
   "cell_type": "code",
   "execution_count": 28,
   "metadata": {
    "collapsed": false
   },
   "outputs": [
    {
     "name": "stdout",
     "output_type": "stream",
     "text": [
      "[[ 92.5 ]\n",
      " [ 62.5 ]\n",
      " [ 13.75]] [ 2667.76256877  2190.6191348   1444.2375855 ]\n"
     ]
    },
    {
     "data": {
      "text/plain": [
       "(25, 1)"
      ]
     },
     "execution_count": 28,
     "metadata": {},
     "output_type": "execute_result"
    },
    {
     "name": "stderr",
     "output_type": "stream",
     "text": [
      "C:\\Users\\Trost\\Anaconda3\\lib\\site-packages\\matplotlib\\collections.py:590: FutureWarning: elementwise comparison failed; returning scalar instead, but in the future will perform elementwise comparison\n",
      "  if self._edgecolors == str('face'):\n"
     ]
    },
    {
     "data": {
      "image/png": "[encoded data removed]",
      "text/plain": [
       "<matplotlib.figure.Figure at 0x8cf7208>"
      ]
     },
     "metadata": {},
     "output_type": "display_data"
    }
   ],
   "source": [
    "num_features = 1\n",
    "num_data = 25\n",
    "\n",
    "from sklearn.datasets import make_regression \n",
    "\n",
    "X1 = np.zeros((num_data,num_features))\n",
    "for i in range(num_features):\n",
    "    X1[:,i] = np.linspace(10,100,num_data).T\n",
    "\n",
    "np.random.shuffle(X1)\n",
    "def evaluate(X):\n",
    "    y = 0\n",
    "    #coefs = np.random.normal(0,10,X.shape[0])\n",
    "    try:\n",
    "        for i in range(X.shape[0]):\n",
    "            np.random.seed(i)\n",
    "            y += X[i]*np.random.normal(0,10)\n",
    "        return y\n",
    "    \n",
    "    except:\n",
    "        print('ex')\n",
    "        return  X*12\n",
    "y1 = []\n",
    "for i in range(num_data):\n",
    "    y1 += [evaluate(X1[i,:])]\n",
    "y1 = np.array(y1).flatten()+np.random.normal(0,90,X1.shape[0])\n",
    "\n",
    "X,y,coef = make_regression(num_data,num_features,noise   = 20,shuffle=True, coef = True)\n",
    "y = -y\n",
    "X = X1\n",
    "y = y1\n",
    "y = y+1000\n",
    "print(X[:3],y[:3])\n",
    "if num_features ==1:\n",
    "    plt.scatter(X,y,color = 'blue')\n",
    "    \n",
    "\n",
    "X.shape"
   ]
  },
  {
   "cell_type": "code",
   "execution_count": 29,
   "metadata": {
    "collapsed": false
   },
   "outputs": [
    {
     "data": {
      "text/plain": [
       "(25, 1)"
      ]
     },
     "execution_count": 29,
     "metadata": {},
     "output_type": "execute_result"
    }
   ],
   "source": [
    "X.shape"
   ]
  },
  {
   "cell_type": "code",
   "execution_count": 30,
   "metadata": {
    "collapsed": false
   },
   "outputs": [],
   "source": [
    "class BayesRegr(object):\n",
    "    def __init__(self,num_features,alpha = .1,beta = .1,v=100,fit_intercept=False):\n",
    "        self.fit_intercept = fit_intercept\n",
    "        self.num_features = num_features\n",
    "        if self.fit_intercept == True:\n",
    "            self.num_features += 1\n",
    "            \n",
    "        self.B = np.eye(self.num_features)*alpha\n",
    "        self.Binv = np.linalg.inv(self.B)\n",
    "        #print(self.num_features)\n",
    "        self.f = np.atleast_2d(np.zeros(self.num_features))#np.array([0,0]) #np.zeros(shape=(num_features,))\n",
    "        #print(self.f)\n",
    "        self.mu = np.zeros(num_features)\n",
    "        self.beta = beta\n",
    "        self.v = v\n",
    "        \n",
    "    def add_intercept(self,X):\n",
    "        if self.fit_intercept==False:\n",
    "            return X\n",
    "        else:\n",
    "            X_new= np.atleast_2d(np.insert(X,0,1))\n",
    "            #print(X_new.shape)\n",
    "            #print(X_new.T.shape)\n",
    "            return X_new.T#np.atleast_2d(np.append(X[::-1],1))#[::-1])    \n",
    "    def observe_x(self,x,y):\n",
    "        y = np.atleast_2d(y)\n",
    "        x = self.add_intercept(x)\n",
    "        #print(self.B.shape,x.shape)\n",
    "\n",
    "        self.B += np.outer(x,x)\n",
    "        #print(x.T.shape,y.shape)\n",
    "        #print(np.dot(x,y))\n",
    "        self.f += np.dot(x,y).T\n",
    " \n",
    "        \n",
    "    def train(self,X,y,shuffle = True):\n",
    "        index = list(range(X.shape[0]))\n",
    "        if shuffle ==True:\n",
    "            np.random.shuffle(index)\n",
    "        for i in index:\n",
    "            self.observe_x(X[i],y[i]) \n",
    "            \n",
    "    def predict_ML_x(self,x):\n",
    "        beta = np.linalg.inv(self.B).dot(self.f.T)\n",
    "        x = self.add_intercept(x)\n",
    "        try:\n",
    "            return x.T.dot(beta)[0][0]\n",
    "        except:\n",
    "            y_hat = x*beta\n",
    "            return y_hat[0]\n",
    "\n",
    "        \n",
    "    def predict_ML(self,X):\n",
    "        beta= np.linalg.inv(self.B).dot(self.f.T)\n",
    "\n",
    "        y = []\n",
    "        try:\n",
    "            for i in range(len(X)):\n",
    "                x = X[i]\n",
    "                y += [self.predict_ML_x(x)]\n",
    "                #y +=[x.dot(beta)]\n",
    "                return y\n",
    "        except:\n",
    "            X = self.add_intercept(X)\n",
    "            return X.T.dot(beta)\n",
    "            \n",
    "    def draw(self):\n",
    "        B_inv = np.linalg.inv(self.B)\n",
    "        mu_t = B_inv.dot(self.f.T)\n",
    "        dist = stats.multivariate_normal\n",
    "        #print(mu_t.shape,B_inv)\n",
    "        return dist.rvs(mean=mu_t.flatten(),cov=self.v**2*B_inv)\n",
    "\n",
    "        "
   ]
  },
  {
   "cell_type": "code",
   "execution_count": 33,
   "metadata": {
    "collapsed": false
   },
   "outputs": [
    {
     "name": "stdout",
     "output_type": "stream",
     "text": [
      "error of ols: 244771, \n",
      "error of predictive mean: 246919\n"
     ]
    },
    {
     "name": "stderr",
     "output_type": "stream",
     "text": [
      "C:\\Users\\Trost\\Anaconda3\\lib\\site-packages\\matplotlib\\collections.py:590: FutureWarning: elementwise comparison failed; returning scalar instead, but in the future will perform elementwise comparison\n",
      "  if self._edgecolors == str('face'):\n"
     ]
    },
    {
     "data": {
      "image/png": "[encoded data removed]",
      "text/plain": [
       "<matplotlib.figure.Figure at 0xa032ef0>"
      ]
     },
     "metadata": {},
     "output_type": "display_data"
    }
   ],
   "source": [
    "regr = linear_model.LinearRegression()\n",
    "regr.fit(X,y)\n",
    "\n",
    "y_hat_2 = regr.predict(X)\n",
    "\n",
    "\n",
    "breg = BayesRegr(num_features,fit_intercept=True)\n",
    "breg.train(X,y)\n",
    "\n",
    "y_hat = []\n",
    "for i in range(num_data):\n",
    "    y_hat += [breg.predict_ML_x(X[i])]\n",
    "    \n",
    "y_hat = np.array(y_hat) \n",
    "\n",
    "if num_features == 1:\n",
    "    plt.scatter(X,y)\n",
    "    plt.plot(X,y_hat,color = 'r')\n",
    "\n",
    "print('error of ols: %i, \\nerror of predictive mean: %i'%(round(np.sum((y - y_hat_2)**2)),round(np.sum((y - y_hat)**2))))"
   ]
  },
  {
   "cell_type": "code",
   "execution_count": 6,
   "metadata": {
    "collapsed": false
   },
   "outputs": [],
   "source": [
    "draw_list = []"
   ]
  },
  {
   "cell_type": "code",
   "execution_count": 34,
   "metadata": {
    "collapsed": false
   },
   "outputs": [
    {
     "name": "stderr",
     "output_type": "stream",
     "text": [
      "C:\\Users\\Trost\\Anaconda3\\lib\\site-packages\\matplotlib\\collections.py:590: FutureWarning: elementwise comparison failed; returning scalar instead, but in the future will perform elementwise comparison\n",
      "  if self._edgecolors == str('face'):\n"
     ]
    },
    {
     "data": {
      "image/png": "[encoded data removed]",
      "text/plain": [
       "<matplotlib.figure.Figure at 0x9dd5668>"
      ]
     },
     "metadata": {},
     "output_type": "display_data"
    }
   ],
   "source": [
    "if num_features ==1:\n",
    "    num_draws = 10\n",
    "    plt.scatter(X,y)\n",
    "\n",
    "    plt.plot(X,regr.predict(X),label = 'ols',alpha=.3)\n",
    "    plt.scatter(X,y_hat,color = 'r',label = 'ML')\n",
    "\n",
    "\n",
    "    y_hat = []\n",
    "    for i in range(num_data):\n",
    "        y_hat += [breg.predict_ML_x(X[i])]\n",
    "\n",
    "    y_hat = np.array(y_hat) \n",
    "\n",
    "    plt.plot(X,y_hat,label='bandit')\n",
    "    #plt.plot(X,X*beta,label='stream')\n",
    "\n",
    "    for i in range(num_draws-1):\n",
    "        w = breg.draw()\n",
    "        draw_list += [w]\n",
    "    #plt.plot(X,X*w,label='draws')\n",
    "    #draw = w.dot(test.add_intercept(X[1]))\n",
    "    #draw_list +=[draw]\n",
    "\n",
    "        plt.plot(X,w[0]+w[1]*X,color = 'y')\n",
    "    plt.plot(X,w[0]+w[1]*X,label='draw',color = 'y')\n",
    "\n",
    "    plt.legend()\n"
   ]
  },
  {
   "cell_type": "markdown",
   "metadata": {},
   "source": [
    "# Contextual Bandit Problems"
   ]
  },
  {
   "cell_type": "markdown",
   "metadata": {},
   "source": [
    "### Thompson sampler\n"
   ]
  },
  {
   "cell_type": "code",
   "execution_count": 372,
   "metadata": {
    "collapsed": false
   },
   "outputs": [],
   "source": [
    "import itertools\n",
    "\n",
    "class LinearThompson(object):\n",
    "    def __init__(self,num_contexts,alpha = 1,beta = 1,v=1000,fit_intercept=False,num_arms = 1):\n",
    "        self.arms = [list(i) for i in itertools.product([0., 1.], repeat=num_arms)] # don't forget to make this floats, or make_b starts rounding stuff.\n",
    "        self.fit_intercept = fit_intercept\n",
    "        self.num_features = num_contexts + num_arms#num_features\n",
    "        if self.fit_intercept == True:\n",
    "            self.num_features += 1\n",
    "            \n",
    "        self.B = np.eye(self.num_features)*alpha\n",
    "        self.Binv = np.linalg.inv(self.B)\n",
    "        #print(self.num_features)\n",
    "        self.f = np.atleast_2d(np.zeros(self.num_features))#np.array([0,0]) #np.zeros(shape=(num_features,))\n",
    "        #print(self.f)\n",
    "        self.mu = np.zeros(num_features)\n",
    "        self.beta = beta\n",
    "        self.v = v\n",
    "        \n",
    "    def add_intercept(self,X):\n",
    "        if self.fit_intercept==False:\n",
    "            return X\n",
    "        else:\n",
    "            X_new= np.atleast_2d(np.insert(X,0,1.))\n",
    "            #print(X_new.shape)\n",
    "            #print(X_new.T.shape)\n",
    "            return X_new.T#np.atleast_2d(np.append(X[::-1],1))#[::-1])\n",
    "        \n",
    "    def make_b(self,arm,context):\n",
    "        return self.add_intercept(np.insert(context,0,arm))\n",
    "        \n",
    "        \n",
    "    def observe_x(self,x,y):\n",
    "        y = np.atleast_2d(y)\n",
    "        x = self.add_intercept(x)\n",
    "        #print(self.B.shape,x.shape)\n",
    "\n",
    "        self.B += np.outer(x,x)\n",
    "        #print(x.T.shape,y.shape)\n",
    "        #print(np.dot(x,y))\n",
    "        self.f += np.dot(x,y).T\n",
    "        \n",
    "\n",
    "\n",
    "        \n",
    "    def train(self,X,y,shuffle = True):\n",
    "        index = list(range(X.shape[0]))\n",
    "        if shuffle ==True:\n",
    "            np.random.shuffle(index)\n",
    "        for i in index:\n",
    "            self.observe_x(X[i],y[i]) \n",
    "            \n",
    "    def predict_ML_x(self,x):\n",
    "        beta = np.linalg.inv(self.B).dot(self.f.T)\n",
    "        x = self.add_intercept(x)\n",
    "        try:\n",
    "            return x.T.dot(beta)[0][0]\n",
    "        except:\n",
    "            y_hat = x*beta\n",
    "            return y_hat[0]\n",
    "\n",
    "        \n",
    "    def predict_ML(self,X):\n",
    "        beta= np.linalg.inv(self.B).dot(self.f.T)\n",
    "\n",
    "        y = []\n",
    "        try:\n",
    "            for i in range(len(X)):\n",
    "                x = X[i]\n",
    "                y += [self.predict_ML_x(x)]\n",
    "                #y +=[x.dot(beta)]\n",
    "                return y\n",
    "        except:\n",
    "            X = self.add_intercept(X)\n",
    "            return X.T.dot(beta)\n",
    "        \n",
    "        \n",
    "        \n",
    "            \n",
    "    def draw(self):\n",
    "        B_inv = np.linalg.inv(self.B)\n",
    "        mu_t = B_inv.dot(self.f.T)\n",
    "        dist = stats.multivariate_normal\n",
    "        #print(mu_t.shape,B_inv)\n",
    "        return dist.rvs(mean=mu_t.flatten(),cov=self.v**2*B_inv)\n",
    "    \n",
    "    def choose_arm(self,context):\n",
    "        reward_list = []\n",
    "        for i in range(len(self.arms)):\n",
    "            b = self.make_b(self.arms[i],context)\n",
    "            norm = np.atleast_2d(self.draw())\n",
    "            reward = np.dot(b.T,norm.T)\n",
    "            reward_list += [reward]\n",
    "        return np.argmax(reward_list)\n",
    "    \n",
    "    def update(self,arm,context,reward):\n",
    "        y = np.atleast_2d(reward)\n",
    "        x = self.make_b(self.arms[arm],context)\n",
    "        self.B += np.outer(x,x)\n",
    "        self.f += np.dot(x,y).T\n",
    "            \n",
    "        \n",
    "        \n",
    "    \n"
   ]
  },
  {
   "cell_type": "code",
   "execution_count": 373,
   "metadata": {
    "collapsed": false
   },
   "outputs": [
    {
     "name": "stderr",
     "output_type": "stream",
     "text": [
      "C:\\Users\\Trost\\Anaconda3\\lib\\site-packages\\matplotlib\\collections.py:590: FutureWarning: elementwise comparison failed; returning scalar instead, but in the future will perform elementwise comparison\n",
      "  if self._edgecolors == str('face'):\n"
     ]
    },
    {
     "data": {
      "image/png": "[encoded data removed]",
      "text/plain": [
       "<matplotlib.figure.Figure at 0xe0f76a0>"
      ]
     },
     "metadata": {},
     "output_type": "display_data"
    }
   ],
   "source": [
    "X_ = np.array([1,2,3])\n",
    "arm = np.array([1,2])\n",
    "\n",
    "num_arms = 1\n",
    "num_contexts = 1\n",
    "num_data = 1000\n",
    "\n",
    "#create X\n",
    "X = np.zeros((num_data,num_contexts + num_arms))\n",
    "for i in range(num_contexts):\n",
    "    X[:,i] = np.linspace(10,100,num_data).T\n",
    "    \n",
    "for i in range(num_arms):\n",
    "    X[:,i+num_contexts] = np.random.binomial(1,.6,num_data)\n",
    "X[:10,:]\n",
    "    \n",
    "#create target value y\n",
    "#np.random.shuffle(X)\n",
    "def evaluate(X):\n",
    "    y = 0\n",
    "    #coefs = np.random.normal(0,10,X.shape[0])\n",
    "    try:\n",
    "        for i in range(num_contexts):\n",
    "            np.random.seed(i)\n",
    "            y += X[i]*np.random.normal(0,10)\n",
    "            \n",
    "        for i in range(num_arms):\n",
    "            y += X[i+num_contexts]*100*X[0]+X[i+num_contexts]*-5000\n",
    "        return y\n",
    "    \n",
    "    except:\n",
    "        print('ex')\n",
    "        return  X*12\n",
    "y1 = []\n",
    "for i in range(num_data):\n",
    "    y1 += [evaluate(X[i,:])]\n",
    "y1 = np.array(y1).flatten()#+np.random.normal(0,90,X.shape[0])\n",
    "y1\n",
    "\n",
    "if num_contexts + num_arms ==2:\n",
    "    plt.scatter(X[:,0][X[:,1].astype(bool)],y1[X[:,1].astype(bool)],label='dog=True',color='r')\n",
    "    plt.scatter(X[:,0][~X[:,1].astype(bool)],y1[~X[:,1].astype(bool)],label='dog=False')\n",
    "    plt.legend()\n",
    "    \n",
    "#create context ( X without the arms)\n",
    "cont = []\n",
    "for i in range(num_data):\n",
    "    cont += [X[i,:-1]]\n",
    "    \n",
    "np.random.shuffle(cont)"
   ]
  },
  {
   "cell_type": "code",
   "execution_count": 374,
   "metadata": {
    "collapsed": true
   },
   "outputs": [],
   "source": [
    "seed = 1"
   ]
  },
  {
   "cell_type": "code",
   "execution_count": 375,
   "metadata": {
    "collapsed": false
   },
   "outputs": [
    {
     "data": {
      "text/plain": [
       "<matplotlib.collections.PathCollection at 0xd98e0f0>"
      ]
     },
     "execution_count": 375,
     "metadata": {},
     "output_type": "execute_result"
    },
    {
     "name": "stderr",
     "output_type": "stream",
     "text": [
      "C:\\Users\\Trost\\Anaconda3\\lib\\site-packages\\matplotlib\\collections.py:590: FutureWarning: elementwise comparison failed; returning scalar instead, but in the future will perform elementwise comparison\n",
      "  if self._edgecolors == str('face'):\n"
     ]
    },
    {
     "data": {
      "image/png": "[encoded data removed]",
      "text/plain": [
       "<matplotlib.figure.Figure at 0xd9f7630>"
      ]
     },
     "metadata": {},
     "output_type": "display_data"
    }
   ],
   "source": [
    "lth = LinearThompson(num_contexts = num_contexts,num_arms=num_arms,fit_intercept=True)\n",
    "seed = seed +1\n",
    "np.random.seed(seed)\n",
    "y_hat_list = []\n",
    "for i in range(num_data):\n",
    "    arm = lth.choose_arm(cont[i])\n",
    "    y_hat = evaluate([cont[i],arm])\n",
    "    y_hat_list += [y_hat]\n",
    "    lth.update(arm,cont[i],y_hat)\n",
    "    \n",
    "plt.scatter(cont,y_hat_list)"
   ]
  },
  {
   "cell_type": "code",
   "execution_count": 360,
   "metadata": {
    "collapsed": false
   },
   "outputs": [
    {
     "data": {
      "text/plain": [
       "array([[  1.00100000e+02,   1.00000000e+00,   5.50000000e+03],\n",
       "       [  1.00000000e+00,   1.10000000e+00,   3.36363636e+01],\n",
       "       [  5.50000000e+03,   3.36363636e+01,   3.71363736e+05]])"
      ]
     },
     "execution_count": 360,
     "metadata": {},
     "output_type": "execute_result"
    }
   ],
   "source": [
    "lth.B"
   ]
  },
  {
   "cell_type": "code",
   "execution_count": null,
   "metadata": {
    "collapsed": true
   },
   "outputs": [],
   "source": []
  },
  {
   "cell_type": "code",
   "execution_count": null,
   "metadata": {
    "collapsed": true
   },
   "outputs": [],
   "source": []
  },
  {
   "cell_type": "code",
   "execution_count": null,
   "metadata": {
    "collapsed": true
   },
   "outputs": [],
   "source": []
  },
  {
   "cell_type": "code",
   "execution_count": null,
   "metadata": {
    "collapsed": true
   },
   "outputs": [],
   "source": []
  },
  {
   "cell_type": "code",
   "execution_count": null,
   "metadata": {
    "collapsed": true
   },
   "outputs": [],
   "source": []
  },
  {
   "cell_type": "code",
   "execution_count": 285,
   "metadata": {
    "collapsed": false
   },
   "outputs": [
    {
     "data": {
      "text/plain": [
       "array([[  1.        ],\n",
       "       [ 12.72727273],\n",
       "       [ 12.72727273],\n",
       "       [ 12.72727273],\n",
       "       [  1.        ]])"
      ]
     },
     "execution_count": 285,
     "metadata": {},
     "output_type": "execute_result"
    }
   ],
   "source": [
    "tmp = lth.make_b(X[3,:-1],1.)\n",
    "tmp\n",
    "#lth.add_intercept(X[0])"
   ]
  },
  {
   "cell_type": "code",
   "execution_count": null,
   "metadata": {
    "collapsed": false
   },
   "outputs": [],
   "source": []
  },
  {
   "cell_type": "code",
   "execution_count": 257,
   "metadata": {
    "collapsed": false
   },
   "outputs": [
    {
     "data": {
      "text/plain": [
       "0"
      ]
     },
     "execution_count": 257,
     "metadata": {},
     "output_type": "execute_result"
    }
   ],
   "source": [
    "lth.update(1,X_,1)\n",
    "lth.B\n",
    "lth.draw().shape\n",
    "tmp"
   ]
  },
  {
   "cell_type": "code",
   "execution_count": null,
   "metadata": {
    "collapsed": false
   },
   "outputs": [],
   "source": []
  },
  {
   "cell_type": "code",
   "execution_count": null,
   "metadata": {
    "collapsed": true
   },
   "outputs": [],
   "source": []
  },
  {
   "cell_type": "code",
   "execution_count": null,
   "metadata": {
    "collapsed": true
   },
   "outputs": [],
   "source": []
  },
  {
   "cell_type": "code",
   "execution_count": null,
   "metadata": {
    "collapsed": true
   },
   "outputs": [],
   "source": []
  },
  {
   "cell_type": "code",
   "execution_count": null,
   "metadata": {
    "collapsed": true
   },
   "outputs": [],
   "source": []
  },
  {
   "cell_type": "code",
   "execution_count": 279,
   "metadata": {
    "collapsed": false
   },
   "outputs": [
    {
     "data": {
      "text/plain": [
       "[[0], [1]]"
      ]
     },
     "execution_count": 279,
     "metadata": {},
     "output_type": "execute_result"
    }
   ],
   "source": [
    "[list(i) for i in itertools.product([0, 1], repeat=num_arms)]"
   ]
  },
  {
   "cell_type": "code",
   "execution_count": null,
   "metadata": {
    "collapsed": true
   },
   "outputs": [],
   "source": []
  }
 ],
 "metadata": {
  "kernelspec": {
   "display_name": "Python 3",
   "language": "python",
   "name": "python3"
  },
  "language_info": {
   "codemirror_mode": {
    "name": "ipython",
    "version": 3
   },
   "file_extension": ".py",
   "mimetype": "text/x-python",
   "name": "python",
   "nbconvert_exporter": "python",
   "pygments_lexer": "ipython3",
   "version": "3.4.3"
  }
 },
 "nbformat": 4,
 "nbformat_minor": 0
}

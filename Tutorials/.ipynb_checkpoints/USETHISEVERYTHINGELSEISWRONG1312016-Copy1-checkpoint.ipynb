{
 "cells": [
  {
   "cell_type": "code",
   "execution_count": 25,
   "metadata": {
    "collapsed": true
   },
   "outputs": [],
   "source": [
    "import numpy as np\n",
    "import matplotlib.pyplot as plt\n",
    "from IPython.core.pylabtools import figsize\n",
    "%matplotlib inline\n",
    "import scipy.stats as stats\n",
    "import seaborn as sns; sns.set_context('notebook')\n",
    "figsize=(45,10)\n",
    "from IPython.core.pylabtools import figsize\n",
    "figsize(14.5,6.5)\n",
    "from sklearn import linear_model\n"
   ]
  },
  {
   "cell_type": "markdown",
   "metadata": {},
   "source": [
    "\n",
    "# Linear Bandit Solver"
   ]
  },
  {
   "cell_type": "markdown",
   "metadata": {},
   "source": [
    "### Bayesian Linear Regression\n"
   ]
  },
  {
   "cell_type": "code",
   "execution_count": 345,
   "metadata": {
    "collapsed": false
   },
   "outputs": [
    {
     "data": {
      "text/plain": [
       "False"
      ]
     },
     "execution_count": 345,
     "metadata": {},
     "output_type": "execute_result"
    },
    {
     "name": "stderr",
     "output_type": "stream",
     "text": [
      "C:\\Users\\Trost\\Anaconda3\\lib\\site-packages\\matplotlib\\collections.py:590: FutureWarning: elementwise comparison failed; returning scalar instead, but in the future will perform elementwise comparison\n",
      "  if self._edgecolors == str('face'):\n"
     ]
    },
    {
     "data": {
      "image/png": "[encoded data removed]",
      "text/plain": [
       "<matplotlib.figure.Figure at 0xa287cc0>"
      ]
     },
     "metadata": {},
     "output_type": "display_data"
    }
   ],
   "source": [
    "num_features = 1\n",
    "num_data = 10\n",
    "\n",
    "from sklearn.datasets import make_regression \n",
    "\n",
    "X1 = np.atleast_2d(np.linspace(10,100,num_data)).T\n",
    "\n",
    "np.random.shuffle(X1)\n",
    "def evaluate(X):\n",
    "    return  X*10  #+ np.random.normal(0,1)\n",
    "y1 = []\n",
    "for i in range(num_data):\n",
    "    y1 += [evaluate(X1[i,:])]\n",
    "y1 = np.array(y1).flatten()\n",
    "\n",
    "X,y,coef = make_regression(num_data,num_features,noise   = 20,shuffle=True, coef = True)\n",
    "y = -y\n",
    "#X1,y1,coef = make_regression(num_data,num_features,noise   = 20,shuffle=True, coef = True)\n",
    "#X = X1\n",
    "#y = y1\n",
    "#y += 100\n",
    "#X = np.array([0.4,.6,.3,.1])#,.11,.2,0.,.9,0.25,.35])#addeed some fake near-linear observations\n",
    "#y = np.array([.05,-.35,0,-.055])#,0.,.2,0.1,.5,-.9,.8])\n",
    "\n",
    "#X = np.atleast_2d(X)\n",
    "#y = X.copy()\n",
    "#plt.scatter(X1,y1,color = 'red')\n",
    "plt.scatter(X,y,color = 'blue')\n",
    "\n",
    "#X.shape,X1.shape,y.shape,y1.shape,type(X),type(X1),(X+X1).shape,type(y),type(y1),(y+y1).shape\n",
    "#X[:10],X1[:10]\n",
    "#y[:10],y1[:10]\n",
    "(X == y).all()\n",
    "\n",
    "#X[:10],X1[:10]"
   ]
  },
  {
   "cell_type": "code",
   "execution_count": 346,
   "metadata": {
    "collapsed": false
   },
   "outputs": [],
   "source": [
    "class BayesReg(object):\n",
    "    def __init__(self,num_features,alpha = 1,beta = 1):\n",
    "        self.num_features = num_features\n",
    "        self.B = np.eye(self.num_features+1)*alpha\n",
    "        self.Binv = np.linalg.inv(self.B)\n",
    "        self.f = np.zeros(num_features+1)\n",
    "        #self.f = self.f.T\n",
    "        self.mu = 1\n",
    "        self.beta = beta\n",
    "        \n",
    "    def add_intercept(self,X):\n",
    "        try:\n",
    "            X.shape[1]\n",
    "        except:\n",
    "            X = np.atleast_2d(X)\n",
    "        X_new = np.ones((X.shape[0],X.shape[1]+1),dtype=X.dtype)\n",
    "        X_new[:,1:] = X[:,:]\n",
    "        return np.atleast_2d(np.append(X[::-1],1)[::-1])[0]\n",
    "\n",
    "        return X_new[0]\n",
    "    \n",
    "    def add_intercept2(self,X):\n",
    "        return np.atleast_2d(X).T\n",
    "        #X = np.atleast_2d(X)\n",
    "        #X = np.append(np.atleast_2d(np.ones(shape=X.shape[1])).T,X,axis=1)\n",
    "        #return X\n",
    "    \n",
    "    def observe_x(self,x,y):\n",
    "        x = self.add_intercept(x)\n",
    "        #print(np.outer(x,x))\n",
    "        self.B = self.B + np.outer(x,x)\n",
    "        #print(self.B)\n",
    "        self.Binv = np.linalg.inv(self.B)\n",
    "        #self.Binv = 1/self.B \n",
    "        #self.f = self.f + np.dot(x,y)\n",
    "        #print(x*y)\n",
    "        #print(np.dot(x,y))\n",
    "        self.f = self.f + x*y\n",
    "        #print('f')\n",
    "        #print(self.f)\n",
    "        #print('nof')\n",
    "        self.mu += np.dot(self.Binv,self.f)\n",
    "        #print('mu')\n",
    "        #print(self.mu)\n",
    "        #print('nomu')\n",
    "        #self.mu += self.Binv * self.f\n",
    "    \n",
    "        \n",
    "    def train(self,X,y,shuffle = True):\n",
    "        index = list(range(X.shape[0]))\n",
    "        if shuffle ==True:\n",
    "            np.random.shuffle(index)\n",
    "        for i in index:\n",
    "            self.observe_x(X[i],y[i])\n",
    "\n",
    "    def predict(self,X):\n",
    "        \"\"\"predicts ML estimate (non bayesian)\"\"\"\n",
    "        pred_list = []\n",
    "        self.muc = self.beta*self.Binv.dot(self.mu)\n",
    "        for i in range(X.shape[0]):\n",
    "            pred_list += [np.sum(self.muc.dot(self.add_intercept(X[i])))]\n",
    "            \n",
    "        return np.array(pred_list)\n",
    "    \n",
    "    def sx(self,x):\n",
    "        x = self.add_intercept(x)\n",
    "        return np.sqrt(1/self.beta + x.dot(self.Binv).dot(x.T))\n",
    "    \n",
    "    def mx(self,x,N=1):\n",
    "        x = self.add_intercept(x)\n",
    "        x_Binv = self.Binv.dot(self.mu)\n",
    "        return self.beta*N*x.dot(x_Binv)\n",
    "    \n",
    "    def predict_dist(self,X):\n",
    "        sx = []\n",
    "        mx = []\n",
    "        for i in range(X.shape[0]):\n",
    "            sx += [self.sx(X[i])]\n",
    "            mx += [self.mx(X[i])]\n",
    "        sx = np.asarray(sx)\n",
    "        mx = np.asarray(mx)\n",
    "        return mx,sx\n",
    "    \n",
    "    def draw(self,num=1):\n",
    "        \"\"\" MUC instead of MU?!\"\"\"\n",
    "        w = []\n",
    "        self.muc = self.beta*self.Binv.dot(self.mu)\n",
    "\n",
    "        for i in range(num):\n",
    "            w += [stats.multivariate_normal.rvs(self.muc.flatten(),self.Binv)]\n",
    "        return w\n",
    "        \n",
    "        \n",
    "        "
   ]
  },
  {
   "cell_type": "code",
   "execution_count": 367,
   "metadata": {
    "collapsed": false
   },
   "outputs": [
    {
     "data": {
      "text/plain": [
       "array([[ 1.        ,  0.78898764],\n",
       "       [ 0.78898764,  0.6225015 ]])"
      ]
     },
     "execution_count": 367,
     "metadata": {},
     "output_type": "execute_result"
    }
   ],
   "source": [
    "test = BayesReg(num_features,alpha = 1,beta = 1)\n",
    "A = test.add_intercept(X[0])\n",
    "t = y[0]\n",
    "B = np.atleast_2d(A)\n",
    "np.outer(A,A)"
   ]
  },
  {
   "cell_type": "code",
   "execution_count": 384,
   "metadata": {
    "collapsed": false
   },
   "outputs": [
    {
     "data": {
      "text/plain": [
       "array([ 1.        ,  0.78898764])"
      ]
     },
     "execution_count": 384,
     "metadata": {},
     "output_type": "execute_result"
    }
   ],
   "source": [
    "A"
   ]
  },
  {
   "cell_type": "code",
   "execution_count": 368,
   "metadata": {
    "collapsed": false
   },
   "outputs": [
    {
     "data": {
      "text/plain": [
       "array([[ 1.        ,  0.78898764],\n",
       "       [ 0.78898764,  0.6225015 ]])"
      ]
     },
     "execution_count": 368,
     "metadata": {},
     "output_type": "execute_result"
    }
   ],
   "source": [
    "np.outer(B,B)"
   ]
  },
  {
   "cell_type": "code",
   "execution_count": 377,
   "metadata": {
    "collapsed": false
   },
   "outputs": [
    {
     "data": {
      "text/plain": [
       "(2,)"
      ]
     },
     "execution_count": 377,
     "metadata": {},
     "output_type": "execute_result"
    }
   ],
   "source": [
    "D = (A*t)\n",
    "D.shape"
   ]
  },
  {
   "cell_type": "code",
   "execution_count": 376,
   "metadata": {
    "collapsed": false
   },
   "outputs": [
    {
     "data": {
      "text/plain": [
       "(2, 1)"
      ]
     },
     "execution_count": 376,
     "metadata": {},
     "output_type": "execute_result"
    }
   ],
   "source": [
    "C = (B*t).T\n",
    "C.shape"
   ]
  },
  {
   "cell_type": "code",
   "execution_count": 380,
   "metadata": {
    "collapsed": false
   },
   "outputs": [
    {
     "data": {
      "text/plain": [
       "()"
      ]
     },
     "execution_count": 380,
     "metadata": {},
     "output_type": "execute_result"
    }
   ],
   "source": [
    "np.dot(A,D).shape"
   ]
  },
  {
   "cell_type": "code",
   "execution_count": 383,
   "metadata": {
    "collapsed": false
   },
   "outputs": [
    {
     "data": {
      "text/plain": [
       "(1,)"
      ]
     },
     "execution_count": 383,
     "metadata": {},
     "output_type": "execute_result"
    }
   ],
   "source": [
    "np.dot(D,C).shape"
   ]
  },
  {
   "cell_type": "code",
   "execution_count": 348,
   "metadata": {
    "collapsed": false
   },
   "outputs": [],
   "source": [
    "test.train(X,y)"
   ]
  },
  {
   "cell_type": "code",
   "execution_count": 349,
   "metadata": {
    "collapsed": false
   },
   "outputs": [
    {
     "data": {
      "text/plain": [
       "array([  65.85255195, -721.78387861])"
      ]
     },
     "execution_count": 349,
     "metadata": {},
     "output_type": "execute_result"
    }
   ],
   "source": [
    "test.mu"
   ]
  },
  {
   "cell_type": "code",
   "execution_count": 350,
   "metadata": {
    "collapsed": false
   },
   "outputs": [
    {
     "data": {
      "text/plain": [
       "36.013196672322785"
      ]
     },
     "execution_count": 350,
     "metadata": {},
     "output_type": "execute_result"
    }
   ],
   "source": [
    "lin = np.linspace(min(X)*2,max(X)*2,100)#(-3,3,100)#\n",
    "num_draws = 10\n",
    "\n",
    "m,s = test.predict_dist(lin)\n",
    "w = test.draw(num=num_draws)\n",
    "w[0][0]"
   ]
  },
  {
   "cell_type": "code",
   "execution_count": 351,
   "metadata": {
    "collapsed": false
   },
   "outputs": [
    {
     "data": {
      "text/plain": [
       "((100,), (100,), (100,))"
      ]
     },
     "execution_count": 351,
     "metadata": {},
     "output_type": "execute_result"
    },
    {
     "name": "stderr",
     "output_type": "stream",
     "text": [
      "C:\\Users\\Trost\\Anaconda3\\lib\\site-packages\\matplotlib\\collections.py:590: FutureWarning: elementwise comparison failed; returning scalar instead, but in the future will perform elementwise comparison\n",
      "  if self._edgecolors == str('face'):\n"
     ]
    },
    {
     "data": {
      "image/png": "[encoded data removed]",
      "text/plain": [
       "<matplotlib.figure.Figure at 0xd6bfe48>"
      ]
     },
     "metadata": {},
     "output_type": "display_data"
    }
   ],
   "source": [
    "exponent = 10\n",
    "plt.plot(lin,m,color='red',linewidth = 3,label='predictive Mean')\n",
    "#plt.plot(X,y,'x')\n",
    "plt.scatter(X,y,color='black',label='data')\n",
    "for i in range(num_draws-1):\n",
    "    plt.plot(lin,lin*w[i+1][1]+w[i+1][0],color='cyan',alpha = (np.log(num_draws)+1)/num_draws)\n",
    "plt.plot(lin,lin*w[0][1]+w[0][0],color='cyan',alpha = (np.log(num_draws)+1)/num_draws,label = 'draws')\n",
    "\n",
    "plt.plot(lin,m - s**exponent,'blue',linewidth = 3,label='uncertainty')\n",
    "plt.plot(lin,m + s**exponent,'blue',linewidth = 3)\n",
    "\n",
    "plt.legend()\n",
    "plt.fill_between(lin,m,m- s**exponent,alpha = .3)\n",
    "plt.fill_between(lin,m,m + s**exponent,alpha = .3)\n",
    "\n",
    "lin.shape, m.shape, s.shape"
   ]
  },
  {
   "cell_type": "code",
   "execution_count": 352,
   "metadata": {
    "collapsed": true
   },
   "outputs": [],
   "source": [
    "regr = linear_model.LinearRegression()"
   ]
  },
  {
   "cell_type": "code",
   "execution_count": 353,
   "metadata": {
    "collapsed": false
   },
   "outputs": [
    {
     "data": {
      "text/plain": [
       "LinearRegression(copy_X=True, fit_intercept=True, n_jobs=1, normalize=False)"
      ]
     },
     "execution_count": 353,
     "metadata": {},
     "output_type": "execute_result"
    }
   ],
   "source": [
    "regr.fit(X,y)"
   ]
  },
  {
   "cell_type": "code",
   "execution_count": 354,
   "metadata": {
    "collapsed": false
   },
   "outputs": [
    {
     "data": {
      "text/plain": [
       "<matplotlib.legend.Legend at 0xd53ed68>"
      ]
     },
     "execution_count": 354,
     "metadata": {},
     "output_type": "execute_result"
    },
    {
     "name": "stderr",
     "output_type": "stream",
     "text": [
      "C:\\Users\\Trost\\Anaconda3\\lib\\site-packages\\matplotlib\\collections.py:590: FutureWarning: elementwise comparison failed; returning scalar instead, but in the future will perform elementwise comparison\n",
      "  if self._edgecolors == str('face'):\n"
     ]
    },
    {
     "data": {
      "image/png": "[encoded data removed]",
      "text/plain": [
       "<matplotlib.figure.Figure at 0xac7d358>"
      ]
     },
     "metadata": {},
     "output_type": "display_data"
    }
   ],
   "source": [
    "plt.plot(X,test.predict(X),label = 'bayesreg')\n",
    "plt.scatter(X,y)\n",
    "\n",
    "plt.plot(X,regr.predict(X),label = 'ols')\n",
    "plt.legend()"
   ]
  },
  {
   "cell_type": "code",
   "execution_count": null,
   "metadata": {
    "collapsed": true
   },
   "outputs": [],
   "source": []
  },
  {
   "cell_type": "code",
   "execution_count": null,
   "metadata": {
    "collapsed": true
   },
   "outputs": [],
   "source": []
  },
  {
   "cell_type": "code",
   "execution_count": null,
   "metadata": {
    "collapsed": true
   },
   "outputs": [],
   "source": []
  },
  {
   "cell_type": "code",
   "execution_count": null,
   "metadata": {
    "collapsed": true
   },
   "outputs": [],
   "source": []
  }
 ],
 "metadata": {
  "kernelspec": {
   "display_name": "Python 3",
   "language": "python",
   "name": "python3"
  },
  "language_info": {
   "codemirror_mode": {
    "name": "ipython",
    "version": 3
   },
   "file_extension": ".py",
   "mimetype": "text/x-python",
   "name": "python",
   "nbconvert_exporter": "python",
   "pygments_lexer": "ipython3",
   "version": "3.4.3"
  }
 },
 "nbformat": 4,
 "nbformat_minor": 0
}

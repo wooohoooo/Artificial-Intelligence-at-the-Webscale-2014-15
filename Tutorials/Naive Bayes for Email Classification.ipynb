{
 "cells": [
  {
   "cell_type": "markdown",
   "metadata": {},
   "source": [
    "# Pandas Naive Bayes"
   ]
  },
  {
   "cell_type": "markdown",
   "metadata": {},
   "source": [
    "### Disclaimer  \n",
    "This is an implementation of a naive Bayes classifier using pandas. It's not made for efficiency (actually, it is super inefficient) but for ease of understanding. However, it is intended to be worked through in combination with a certain course document, so it won't be THAT easy to understand all by itself.\n",
    "\n",
    "Documents to classify are taken from http://www.aueb.gr/users/ion/data/enron-spam/;\n",
    "the Dictionary used for the classifciation is taken from http://www.manythings.org/vocabulary/lists/l/"
   ]
  },
  {
   "cell_type": "markdown",
   "metadata": {},
   "source": [
    "import the important packages, define directories"
   ]
  },
  {
   "cell_type": "code",
   "execution_count": 42,
   "metadata": {
    "collapsed": false
   },
   "outputs": [],
   "source": [
    "from os import listdir\n",
    "import pandas as pd\n",
    "import numpy as np\n",
    "import matplotlib as plt\n",
    "%matplotlib inline\n",
    "from IPython.core.pylabtools import figsize\n",
    "figsize(12.5,5)"
   ]
  },
  {
   "cell_type": "code",
   "execution_count": 13,
   "metadata": {
    "collapsed": true
   },
   "outputs": [],
   "source": [
    "dict_loc = r'C:\\Users\\Trost\\Desktop\\Words\\Dict.txt'#Wordstest\n",
    "ham_dir =  r\"C:\\Users\\Trost\\Desktop\\Words\\enron1\\enron1\\ham\"\n",
    "spam_dir = r\"C:\\Users\\Trost\\Desktop\\Words\\enron1\\enron1\\spam\"\n",
    "\n"
   ]
  },
  {
   "cell_type": "code",
   "execution_count": 11,
   "metadata": {
    "collapsed": true
   },
   "outputs": [],
   "source": [
    "simple_dict = pd.read_csv(dict_loc,names=['words'], header=None)"
   ]
  },
  {
   "cell_type": "code",
   "execution_count": 12,
   "metadata": {
    "collapsed": false
   },
   "outputs": [
    {
     "data": {
      "text/html": [
       "<div>\n",
       "<table border=\"1\" class=\"dataframe\">\n",
       "  <thead>\n",
       "    <tr style=\"text-align: right;\">\n",
       "      <th></th>\n",
       "      <th>words</th>\n",
       "    </tr>\n",
       "  </thead>\n",
       "  <tbody>\n",
       "    <tr>\n",
       "      <th>0</th>\n",
       "      <td>a</td>\n",
       "    </tr>\n",
       "    <tr>\n",
       "      <th>1</th>\n",
       "      <td>able</td>\n",
       "    </tr>\n",
       "    <tr>\n",
       "      <th>2</th>\n",
       "      <td>about</td>\n",
       "    </tr>\n",
       "    <tr>\n",
       "      <th>3</th>\n",
       "      <td>account</td>\n",
       "    </tr>\n",
       "    <tr>\n",
       "      <th>4</th>\n",
       "      <td>acid</td>\n",
       "    </tr>\n",
       "  </tbody>\n",
       "</table>\n",
       "</div>"
      ],
      "text/plain": [
       "     words\n",
       "0        a\n",
       "1     able\n",
       "2    about\n",
       "3  account\n",
       "4     acid"
      ]
     },
     "execution_count": 12,
     "metadata": {},
     "output_type": "execute_result"
    }
   ],
   "source": [
    "simple_dict.head()"
   ]
  },
  {
   "cell_type": "markdown",
   "metadata": {},
   "source": [
    "## create a table containing indicator for word in every email within a folder\n",
    "This way we can count the number of email containing a certain word in either the ham or the spam folder."
   ]
  },
  {
   "cell_type": "code",
   "execution_count": 17,
   "metadata": {
    "collapsed": true
   },
   "outputs": [],
   "source": [
    "def get_table(folder,dictionary = simple_dict):\n",
    "    \"\"\"creates a table \"\"\"\n",
    "    #list all the mails in the folder\n",
    "    mails = listdir(folder)\n",
    "\n",
    "    #copy the original dict so it doesn't get changed\n",
    "    table =dictionary.copy()\n",
    "    #open each email\n",
    "    for file in mails:\n",
    "        with open(folder + \"\\\\\" + file, encoding=\"latin1\") as mail:\n",
    "            # split email in single words\n",
    "            words = np.array(mail.read().split())\n",
    "            #create Mask that shows which words are in the dict and in the mail\n",
    "            mask = table.words.isin(words)\n",
    "            #mark the words that are in the dict and the mail with 1\n",
    "            table[str(file)[:10]] = 0\n",
    "            table[str(file)[:10]][mask] = 1 \n",
    "    #get the number of emails in the folder\n",
    "    normalizer = len(mails)\n",
    "    #save the normalizer so it can be used later\n",
    "    table['normalizer'] = normalizer +2 # laplace\n",
    "    return table\n"
   ]
  },
  {
   "cell_type": "code",
   "execution_count": 18,
   "metadata": {
    "collapsed": false
   },
   "outputs": [
    {
     "name": "stderr",
     "output_type": "stream",
     "text": [
      "C:\\Users\\Trost\\Anaconda3\\lib\\site-packages\\ipykernel\\__main__.py:17: SettingWithCopyWarning: \n",
      "A value is trying to be set on a copy of a slice from a DataFrame\n",
      "\n",
      "See the caveats in the documentation: http://pandas.pydata.org/pandas-docs/stable/indexing.html#indexing-view-versus-copy\n"
     ]
    },
    {
     "data": {
      "text/html": [
       "<div>\n",
       "<table border=\"1\" class=\"dataframe\">\n",
       "  <thead>\n",
       "    <tr style=\"text-align: right;\">\n",
       "      <th></th>\n",
       "      <th>words</th>\n",
       "      <th>0001.1999-</th>\n",
       "      <th>0002.1999-</th>\n",
       "      <th>0003.1999-</th>\n",
       "      <th>0004.1999-</th>\n",
       "      <th>0005.1999-</th>\n",
       "      <th>0007.1999-</th>\n",
       "      <th>0009.1999-</th>\n",
       "      <th>0010.1999-</th>\n",
       "      <th>0011.1999-</th>\n",
       "      <th>...</th>\n",
       "      <th>5158.2002-</th>\n",
       "      <th>5159.2002-</th>\n",
       "      <th>5161.2002-</th>\n",
       "      <th>5162.2002-</th>\n",
       "      <th>5165.2002-</th>\n",
       "      <th>5166.2002-</th>\n",
       "      <th>5168.2002-</th>\n",
       "      <th>5169.2002-</th>\n",
       "      <th>5172.2002-</th>\n",
       "      <th>normalizer</th>\n",
       "    </tr>\n",
       "  </thead>\n",
       "  <tbody>\n",
       "    <tr>\n",
       "      <th>0</th>\n",
       "      <td>a</td>\n",
       "      <td>0</td>\n",
       "      <td>1</td>\n",
       "      <td>0</td>\n",
       "      <td>0</td>\n",
       "      <td>1</td>\n",
       "      <td>0</td>\n",
       "      <td>0</td>\n",
       "      <td>1</td>\n",
       "      <td>1</td>\n",
       "      <td>...</td>\n",
       "      <td>1</td>\n",
       "      <td>0</td>\n",
       "      <td>1</td>\n",
       "      <td>1</td>\n",
       "      <td>1</td>\n",
       "      <td>1</td>\n",
       "      <td>0</td>\n",
       "      <td>1</td>\n",
       "      <td>1</td>\n",
       "      <td>3674</td>\n",
       "    </tr>\n",
       "    <tr>\n",
       "      <th>1</th>\n",
       "      <td>able</td>\n",
       "      <td>0</td>\n",
       "      <td>0</td>\n",
       "      <td>0</td>\n",
       "      <td>0</td>\n",
       "      <td>0</td>\n",
       "      <td>0</td>\n",
       "      <td>0</td>\n",
       "      <td>0</td>\n",
       "      <td>0</td>\n",
       "      <td>...</td>\n",
       "      <td>0</td>\n",
       "      <td>0</td>\n",
       "      <td>0</td>\n",
       "      <td>0</td>\n",
       "      <td>1</td>\n",
       "      <td>0</td>\n",
       "      <td>0</td>\n",
       "      <td>1</td>\n",
       "      <td>1</td>\n",
       "      <td>3674</td>\n",
       "    </tr>\n",
       "    <tr>\n",
       "      <th>2</th>\n",
       "      <td>about</td>\n",
       "      <td>0</td>\n",
       "      <td>1</td>\n",
       "      <td>0</td>\n",
       "      <td>0</td>\n",
       "      <td>0</td>\n",
       "      <td>0</td>\n",
       "      <td>0</td>\n",
       "      <td>0</td>\n",
       "      <td>0</td>\n",
       "      <td>...</td>\n",
       "      <td>0</td>\n",
       "      <td>0</td>\n",
       "      <td>0</td>\n",
       "      <td>1</td>\n",
       "      <td>1</td>\n",
       "      <td>0</td>\n",
       "      <td>0</td>\n",
       "      <td>1</td>\n",
       "      <td>1</td>\n",
       "      <td>3674</td>\n",
       "    </tr>\n",
       "    <tr>\n",
       "      <th>3</th>\n",
       "      <td>account</td>\n",
       "      <td>0</td>\n",
       "      <td>0</td>\n",
       "      <td>0</td>\n",
       "      <td>0</td>\n",
       "      <td>0</td>\n",
       "      <td>0</td>\n",
       "      <td>0</td>\n",
       "      <td>0</td>\n",
       "      <td>0</td>\n",
       "      <td>...</td>\n",
       "      <td>0</td>\n",
       "      <td>0</td>\n",
       "      <td>0</td>\n",
       "      <td>0</td>\n",
       "      <td>0</td>\n",
       "      <td>0</td>\n",
       "      <td>0</td>\n",
       "      <td>0</td>\n",
       "      <td>0</td>\n",
       "      <td>3674</td>\n",
       "    </tr>\n",
       "    <tr>\n",
       "      <th>4</th>\n",
       "      <td>acid</td>\n",
       "      <td>0</td>\n",
       "      <td>0</td>\n",
       "      <td>0</td>\n",
       "      <td>0</td>\n",
       "      <td>0</td>\n",
       "      <td>0</td>\n",
       "      <td>0</td>\n",
       "      <td>0</td>\n",
       "      <td>0</td>\n",
       "      <td>...</td>\n",
       "      <td>0</td>\n",
       "      <td>0</td>\n",
       "      <td>0</td>\n",
       "      <td>0</td>\n",
       "      <td>0</td>\n",
       "      <td>0</td>\n",
       "      <td>0</td>\n",
       "      <td>0</td>\n",
       "      <td>0</td>\n",
       "      <td>3674</td>\n",
       "    </tr>\n",
       "  </tbody>\n",
       "</table>\n",
       "<p>5 rows × 3674 columns</p>\n",
       "</div>"
      ],
      "text/plain": [
       "     words  0001.1999-  0002.1999-  0003.1999-  0004.1999-  0005.1999-  \\\n",
       "0        a           0           1           0           0           1   \n",
       "1     able           0           0           0           0           0   \n",
       "2    about           0           1           0           0           0   \n",
       "3  account           0           0           0           0           0   \n",
       "4     acid           0           0           0           0           0   \n",
       "\n",
       "   0007.1999-  0009.1999-  0010.1999-  0011.1999-     ...      5158.2002-  \\\n",
       "0           0           0           1           1     ...               1   \n",
       "1           0           0           0           0     ...               0   \n",
       "2           0           0           0           0     ...               0   \n",
       "3           0           0           0           0     ...               0   \n",
       "4           0           0           0           0     ...               0   \n",
       "\n",
       "   5159.2002-  5161.2002-  5162.2002-  5165.2002-  5166.2002-  5168.2002-  \\\n",
       "0           0           1           1           1           1           0   \n",
       "1           0           0           0           1           0           0   \n",
       "2           0           0           1           1           0           0   \n",
       "3           0           0           0           0           0           0   \n",
       "4           0           0           0           0           0           0   \n",
       "\n",
       "   5169.2002-  5172.2002-  normalizer  \n",
       "0           1           1        3674  \n",
       "1           1           1        3674  \n",
       "2           1           1        3674  \n",
       "3           0           0        3674  \n",
       "4           0           0        3674  \n",
       "\n",
       "[5 rows x 3674 columns]"
      ]
     },
     "execution_count": 18,
     "metadata": {},
     "output_type": "execute_result"
    }
   ],
   "source": [
    "test_table = get_table(ham_dir)\n",
    "test_table.head()\n",
    "\n"
   ]
  },
  {
   "cell_type": "markdown",
   "metadata": {},
   "source": [
    "## Collapse the above table to counts"
   ]
  },
  {
   "cell_type": "code",
   "execution_count": 21,
   "metadata": {
    "collapsed": false
   },
   "outputs": [],
   "source": [
    "def collapse(table):\n",
    "    \"\"\"collapses table to sum and Phi\"\"\"\n",
    "    #create list of headers\n",
    "    col_list = list(table)\n",
    "    #remove non-integer rows from list\n",
    "    col_list.remove('words')\n",
    "    col_list.remove('normalizer')\n",
    "    #sum all the remaining entries\n",
    "    table['WordCount'] = table[col_list].sum(axis=1) +1 # laplace\n",
    "    #get Phi\n",
    "    table['Phi'] = table.WordCount*1/table.normalizer\n",
    "    #table = table['Phi']\n",
    "    return_table = pd.concat([table.words,table.WordCount,table.normalizer,table.Phi],axis=1)\n",
    "    return return_table"
   ]
  },
  {
   "cell_type": "code",
   "execution_count": 22,
   "metadata": {
    "collapsed": false
   },
   "outputs": [
    {
     "data": {
      "text/html": [
       "<div>\n",
       "<table border=\"1\" class=\"dataframe\">\n",
       "  <thead>\n",
       "    <tr style=\"text-align: right;\">\n",
       "      <th></th>\n",
       "      <th>words</th>\n",
       "      <th>WordCount</th>\n",
       "      <th>normalizer</th>\n",
       "      <th>Phi</th>\n",
       "    </tr>\n",
       "  </thead>\n",
       "  <tbody>\n",
       "    <tr>\n",
       "      <th>0</th>\n",
       "      <td>a</td>\n",
       "      <td>1896</td>\n",
       "      <td>3674</td>\n",
       "      <td>0.516059</td>\n",
       "    </tr>\n",
       "    <tr>\n",
       "      <th>1</th>\n",
       "      <td>able</td>\n",
       "      <td>168</td>\n",
       "      <td>3674</td>\n",
       "      <td>0.045727</td>\n",
       "    </tr>\n",
       "    <tr>\n",
       "      <th>2</th>\n",
       "      <td>about</td>\n",
       "      <td>393</td>\n",
       "      <td>3674</td>\n",
       "      <td>0.106968</td>\n",
       "    </tr>\n",
       "    <tr>\n",
       "      <th>3</th>\n",
       "      <td>account</td>\n",
       "      <td>68</td>\n",
       "      <td>3674</td>\n",
       "      <td>0.018508</td>\n",
       "    </tr>\n",
       "    <tr>\n",
       "      <th>4</th>\n",
       "      <td>acid</td>\n",
       "      <td>1</td>\n",
       "      <td>3674</td>\n",
       "      <td>0.000272</td>\n",
       "    </tr>\n",
       "  </tbody>\n",
       "</table>\n",
       "</div>"
      ],
      "text/plain": [
       "     words  WordCount  normalizer       Phi\n",
       "0        a       1896        3674  0.516059\n",
       "1     able        168        3674  0.045727\n",
       "2    about        393        3674  0.106968\n",
       "3  account         68        3674  0.018508\n",
       "4     acid          1        3674  0.000272"
      ]
     },
     "execution_count": 22,
     "metadata": {},
     "output_type": "execute_result"
    }
   ],
   "source": [
    "test_collapsed = collapse(test_table)\n",
    "test_collapsed.head()\n",
    "\n"
   ]
  },
  {
   "cell_type": "markdown",
   "metadata": {},
   "source": [
    "## use the above functions to train the classifier"
   ]
  },
  {
   "cell_type": "code",
   "execution_count": 78,
   "metadata": {
    "collapsed": true
   },
   "outputs": [],
   "source": [
    "def train(dictionary = simple_dict):\n",
    "    \"\"\"trains the Classifier\"\"\"\n",
    "    #call collapse and get table\n",
    "    spam_counter = collapse(get_table(spam_dir,dictionary = dictionary))\n",
    "    ham_counter = collapse(get_table(ham_dir,dictionary = dictionary))\n",
    "    #compute the Priors\n",
    "    spam_prec = spam_counter.normalizer[0]\n",
    "    ham_prec = ham_counter.normalizer[0]\n",
    "    spam_prior = spam_prec/(spam_prec+ham_prec)\n",
    "    ham_prior = ham_prec/(spam_prec+ham_prec)\n",
    "    return spam_counter,ham_counter,spam_prior,ham_prior\n"
   ]
  },
  {
   "cell_type": "code",
   "execution_count": 79,
   "metadata": {
    "collapsed": false
   },
   "outputs": [
    {
     "name": "stderr",
     "output_type": "stream",
     "text": [
      "C:\\Users\\Trost\\Anaconda3\\lib\\site-packages\\ipykernel\\__main__.py:17: SettingWithCopyWarning: \n",
      "A value is trying to be set on a copy of a slice from a DataFrame\n",
      "\n",
      "See the caveats in the documentation: http://pandas.pydata.org/pandas-docs/stable/indexing.html#indexing-view-versus-copy\n"
     ]
    }
   ],
   "source": [
    "spam_c,ham_c,spam_p,ham_p = train()\n",
    "\n"
   ]
  },
  {
   "cell_type": "code",
   "execution_count": 80,
   "metadata": {
    "collapsed": false
   },
   "outputs": [
    {
     "data": {
      "text/html": [
       "<div>\n",
       "<table border=\"1\" class=\"dataframe\">\n",
       "  <thead>\n",
       "    <tr style=\"text-align: right;\">\n",
       "      <th></th>\n",
       "      <th>words</th>\n",
       "      <th>WordCount</th>\n",
       "      <th>normalizer</th>\n",
       "      <th>Phi</th>\n",
       "    </tr>\n",
       "  </thead>\n",
       "  <tbody>\n",
       "    <tr>\n",
       "      <th>0</th>\n",
       "      <td>a</td>\n",
       "      <td>1896</td>\n",
       "      <td>3674</td>\n",
       "      <td>0.516059</td>\n",
       "    </tr>\n",
       "    <tr>\n",
       "      <th>1</th>\n",
       "      <td>able</td>\n",
       "      <td>168</td>\n",
       "      <td>3674</td>\n",
       "      <td>0.045727</td>\n",
       "    </tr>\n",
       "    <tr>\n",
       "      <th>2</th>\n",
       "      <td>about</td>\n",
       "      <td>393</td>\n",
       "      <td>3674</td>\n",
       "      <td>0.106968</td>\n",
       "    </tr>\n",
       "    <tr>\n",
       "      <th>3</th>\n",
       "      <td>account</td>\n",
       "      <td>68</td>\n",
       "      <td>3674</td>\n",
       "      <td>0.018508</td>\n",
       "    </tr>\n",
       "    <tr>\n",
       "      <th>4</th>\n",
       "      <td>acid</td>\n",
       "      <td>1</td>\n",
       "      <td>3674</td>\n",
       "      <td>0.000272</td>\n",
       "    </tr>\n",
       "  </tbody>\n",
       "</table>\n",
       "</div>"
      ],
      "text/plain": [
       "     words  WordCount  normalizer       Phi\n",
       "0        a       1896        3674  0.516059\n",
       "1     able        168        3674  0.045727\n",
       "2    about        393        3674  0.106968\n",
       "3  account         68        3674  0.018508\n",
       "4     acid          1        3674  0.000272"
      ]
     },
     "execution_count": 80,
     "metadata": {},
     "output_type": "execute_result"
    }
   ],
   "source": [
    "ham_c.head()\n",
    "\n"
   ]
  },
  {
   "cell_type": "markdown",
   "metadata": {},
   "source": [
    "## Classify"
   ]
  },
  {
   "cell_type": "code",
   "execution_count": 81,
   "metadata": {
    "collapsed": true
   },
   "outputs": [],
   "source": [
    "def classify(file_name,spam_c,ham_c,spam_p,ham_p,dictionary = simple_dict):\n",
    "        \"\"\"takes single file and classifies it\"\"\"\n",
    "        #copy the original dictionary so it doesn't get changed\n",
    "        table = dictionary.copy()\n",
    "        #open the email that we want to classify\n",
    "        with open(file_name) as file:\n",
    "            #split the email\n",
    "            unclassified = np.array(file.read().split())\n",
    "            #create a mask for words that are in the dict and in the mail\n",
    "            mask = table.words.isin(unclassified)\n",
    "        #try different priors\n",
    "        spam_prior = spam_p\n",
    "        ham_prior = ham_p\n",
    "        #spam_prior = .85\n",
    "        #ham_prior = .15\n",
    "        #compute probabilities\n",
    "        p_spam = spam_prior * np.prod(spam_c[mask].Phi)\n",
    "        p_ham = ham_prior * np.prod(ham_c[mask].Phi)  \n",
    "        #classify\n",
    "        if (p_spam/p_ham) > 1:\n",
    "            classification = 1\n",
    "        else:\n",
    "            classification = 0 # we prefer false negatives\n",
    "        return classification\n"
   ]
  },
  {
   "cell_type": "markdown",
   "metadata": {},
   "source": [
    "we'll classify spam and ham from enron 2. "
   ]
  },
  {
   "cell_type": "code",
   "execution_count": 82,
   "metadata": {
    "collapsed": false
   },
   "outputs": [
    {
     "data": {
      "text/plain": [
       "0.88435828877005351"
      ]
     },
     "execution_count": 82,
     "metadata": {},
     "output_type": "execute_result"
    }
   ],
   "source": [
    "unknown_spam = r\"C:\\Users\\Trost\\Desktop\\Words\\enron2\\enron2\\spam\"\n",
    "unknown_ham = r\"C:\\Users\\Trost\\Desktop\\Words\\enron2\\enron2\\ham\"\n",
    "\n",
    "\n",
    "\n",
    "\n",
    "\n",
    "spam_hits = list()\n",
    "to_classify = listdir(unknown_spam)\n",
    "for mails in to_classify:\n",
    "    spam_hits.append(classify(unknown_spam + '\\\\' + mails,spam_c,ham_c,spam_p,ham_p))\n",
    "spam_hits = np.array(spam_hits)\n",
    "np.mean(spam_hits)\n"
   ]
  },
  {
   "cell_type": "code",
   "execution_count": 83,
   "metadata": {
    "collapsed": false
   },
   "outputs": [
    {
     "data": {
      "text/plain": [
       "0.48589772987846824"
      ]
     },
     "execution_count": 83,
     "metadata": {},
     "output_type": "execute_result"
    }
   ],
   "source": [
    "ham_hits = list()\n",
    "to_classify = listdir(unknown_ham)\n",
    "for mails in to_classify:\n",
    "    ham_hits.append(classify(unknown_ham + '\\\\' + mails,spam_c,ham_c,spam_p,ham_p))\n",
    "    \n",
    "ham_hits = np.array(ham_hits)\n",
    "ham_hits = abs(1-ham_hits)\n",
    "np.mean(ham_hits)"
   ]
  },
  {
   "cell_type": "code",
   "execution_count": 84,
   "metadata": {
    "collapsed": false
   },
   "outputs": [
    {
     "data": {
      "text/plain": [
       "0.58767287007000168"
      ]
     },
     "execution_count": 84,
     "metadata": {},
     "output_type": "execute_result"
    }
   ],
   "source": [
    "complete_hits = np.concatenate((spam_hits, ham_hits))\n",
    "np.mean(complete_hits)"
   ]
  },
  {
   "cell_type": "markdown",
   "metadata": {},
   "source": [
    "## that's not really amazing.\n",
    "\n",
    "we can check how much each word contributes toward the classification as either Ham or Spam."
   ]
  },
  {
   "cell_type": "code",
   "execution_count": 85,
   "metadata": {
    "collapsed": true
   },
   "outputs": [],
   "source": [
    "\n",
    "\n",
    "\n",
    "\n",
    "def get_info(spam_c,ham_c):\n",
    "        \"\"\"does some fancy plotting and computes interesting stuff\"\"\"\n",
    "        plotting = pd.DataFrame()\n",
    "        plotting['words'] = spam_c['words']\n",
    "        plotting['Spamfluence'] = (spam_c['WordCount']/ham_c['WordCount'])\n",
    "        plotting['Hamfluence'] = (ham_c['WordCount']/spam_c['WordCount'])\n",
    "        plotting['Distance'] = (((plotting['Hamfluence']-plotting['Spamfluence'])\n",
    "                                    **2)**(1/2)).replace([np.inf], np.nan)\n",
    "        distance = plotting.sort(['Distance'], ascending=False)\n",
    "        return distance\n"
   ]
  },
  {
   "cell_type": "code",
   "execution_count": 86,
   "metadata": {
    "collapsed": false
   },
   "outputs": [
    {
     "name": "stderr",
     "output_type": "stream",
     "text": [
      "C:\\Users\\Trost\\Anaconda3\\lib\\site-packages\\ipykernel\\__main__.py:13: FutureWarning: sort(columns=....) is deprecated, use sort_values(by=.....)\n"
     ]
    },
    {
     "data": {
      "text/html": [
       "<div>\n",
       "<table border=\"1\" class=\"dataframe\">\n",
       "  <thead>\n",
       "    <tr style=\"text-align: right;\">\n",
       "      <th></th>\n",
       "      <th>words</th>\n",
       "      <th>Spamfluence</th>\n",
       "      <th>Hamfluence</th>\n",
       "      <th>Distance</th>\n",
       "    </tr>\n",
       "  </thead>\n",
       "  <tbody>\n",
       "    <tr>\n",
       "      <th>678</th>\n",
       "      <td>soft</td>\n",
       "      <td>64.0</td>\n",
       "      <td>0.015625</td>\n",
       "      <td>63.984375</td>\n",
       "    </tr>\n",
       "    <tr>\n",
       "      <th>509</th>\n",
       "      <td>pain</td>\n",
       "      <td>39.5</td>\n",
       "      <td>0.025316</td>\n",
       "      <td>39.474684</td>\n",
       "    </tr>\n",
       "    <tr>\n",
       "      <th>638</th>\n",
       "      <td>sex</td>\n",
       "      <td>32.0</td>\n",
       "      <td>0.031250</td>\n",
       "      <td>31.968750</td>\n",
       "    </tr>\n",
       "    <tr>\n",
       "      <th>458</th>\n",
       "      <td>muscle</td>\n",
       "      <td>32.0</td>\n",
       "      <td>0.031250</td>\n",
       "      <td>31.968750</td>\n",
       "    </tr>\n",
       "    <tr>\n",
       "      <th>812</th>\n",
       "      <td>weight</td>\n",
       "      <td>27.0</td>\n",
       "      <td>0.037037</td>\n",
       "      <td>26.962963</td>\n",
       "    </tr>\n",
       "  </tbody>\n",
       "</table>\n",
       "</div>"
      ],
      "text/plain": [
       "      words  Spamfluence  Hamfluence   Distance\n",
       "678    soft         64.0    0.015625  63.984375\n",
       "509    pain         39.5    0.025316  39.474684\n",
       "638     sex         32.0    0.031250  31.968750\n",
       "458  muscle         32.0    0.031250  31.968750\n",
       "812  weight         27.0    0.037037  26.962963"
      ]
     },
     "execution_count": 86,
     "metadata": {},
     "output_type": "execute_result"
    }
   ],
   "source": [
    "Info = get_info(spam_c,ham_c)\n",
    "Info.head()"
   ]
  },
  {
   "cell_type": "code",
   "execution_count": 87,
   "metadata": {
    "collapsed": false
   },
   "outputs": [
    {
     "data": {
      "text/plain": [
       "<matplotlib.axes._subplots.AxesSubplot at 0x9b8a2b0>"
      ]
     },
     "execution_count": 87,
     "metadata": {},
     "output_type": "execute_result"
    },
    {
     "data": {
      "image/png": "[encoded data removed]",
      "text/plain": [
       "<matplotlib.figure.Figure at 0x9b825c0>"
      ]
     },
     "metadata": {},
     "output_type": "display_data"
    }
   ],
   "source": [
    "Info.set_index('words')[:15].plot(kind='bar',figsize=(15,7),title='Influence of Words on the classification')\n",
    "\n"
   ]
  },
  {
   "cell_type": "markdown",
   "metadata": {},
   "source": [
    "As we can see, there are either words who are very similar or very different. Let's try to leverage this"
   ]
  },
  {
   "cell_type": "code",
   "execution_count": 88,
   "metadata": {
    "collapsed": true
   },
   "outputs": [],
   "source": [
    "Info.words[:300].to_csv('list2.txt',index=False)\n",
    "\n",
    "new_dict = 'list2.txt'\n",
    "\n",
    "test_words = pd.read_csv(new_dict, names=['words'], header=None)\n",
    "ham_counter = pd.DataFrame()\n",
    "spam_counter = pd.DataFrame()\n",
    "spam_prior = 0\n",
    "ham_prior = 0\n",
    "spam_c = 0\n",
    "ham_c = 0\n",
    "ham_p = 0\n",
    "spam_p = 0"
   ]
  },
  {
   "cell_type": "code",
   "execution_count": 89,
   "metadata": {
    "collapsed": false
   },
   "outputs": [
    {
     "name": "stderr",
     "output_type": "stream",
     "text": [
      "C:\\Users\\Trost\\Anaconda3\\lib\\site-packages\\ipykernel\\__main__.py:17: SettingWithCopyWarning: \n",
      "A value is trying to be set on a copy of a slice from a DataFrame\n",
      "\n",
      "See the caveats in the documentation: http://pandas.pydata.org/pandas-docs/stable/indexing.html#indexing-view-versus-copy\n"
     ]
    }
   ],
   "source": [
    "spam_c,ham_c,spam_p,ham_p = train(dictionary=test_words)\n"
   ]
  },
  {
   "cell_type": "code",
   "execution_count": 90,
   "metadata": {
    "collapsed": false
   },
   "outputs": [],
   "source": [
    "\n",
    "spam_hits = list()\n",
    "to_classify = listdir(unknown_spam)\n",
    "for mails in to_classify:\n",
    "    spam_hits.append(classify(unknown_spam + '\\\\' + mails,spam_c,ham_c,spam_p,ham_p,dictionary = test_words))\n",
    "spam_hits = np.array(spam_hits)\n",
    "\n",
    "ham_hits = list()\n",
    "to_classify = listdir(unknown_ham)\n",
    "for mails in to_classify:\n",
    "    ham_hits.append(classify(unknown_ham + '\\\\' + mails,spam_c,ham_c,spam_p,ham_p,dictionary = test_words))\n",
    "    \n",
    "ham_hits = np.array(ham_hits)\n",
    "ham_hits = abs(1-ham_hits)\n"
   ]
  },
  {
   "cell_type": "code",
   "execution_count": 91,
   "metadata": {
    "collapsed": false
   },
   "outputs": [
    {
     "data": {
      "text/plain": [
       "(0.42513368983957217, 0.96973171290988303)"
      ]
     },
     "execution_count": 91,
     "metadata": {},
     "output_type": "execute_result"
    }
   ],
   "source": [
    "np.mean(spam_hits), np.mean(ham_hits)\n",
    "\n",
    "\n",
    "\n"
   ]
  },
  {
   "cell_type": "code",
   "execution_count": 92,
   "metadata": {
    "collapsed": false
   },
   "outputs": [
    {
     "data": {
      "text/plain": [
       "0.83063001536622849"
      ]
     },
     "execution_count": 92,
     "metadata": {},
     "output_type": "execute_result"
    }
   ],
   "source": [
    "\n",
    "\n",
    "\n",
    "\n",
    "complete_hits = np.concatenate((spam_hits, ham_hits))\n",
    "np.mean(complete_hits)\n"
   ]
  },
  {
   "cell_type": "code",
   "execution_count": null,
   "metadata": {
    "collapsed": true
   },
   "outputs": [],
   "source": []
  },
  {
   "cell_type": "code",
   "execution_count": null,
   "metadata": {
    "collapsed": true
   },
   "outputs": [],
   "source": []
  }
 ],
 "metadata": {
  "kernelspec": {
   "display_name": "Python 3",
   "language": "python",
   "name": "python3"
  },
  "language_info": {
   "codemirror_mode": {
    "name": "ipython",
    "version": 3
   },
   "file_extension": ".py",
   "mimetype": "text/x-python",
   "name": "python",
   "nbconvert_exporter": "python",
   "pygments_lexer": "ipython3",
   "version": "3.4.3"
  }
 },
 "nbformat": 4,
 "nbformat_minor": 0
}

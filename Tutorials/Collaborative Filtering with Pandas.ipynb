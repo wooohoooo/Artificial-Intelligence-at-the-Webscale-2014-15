{
 "cells": [
  {
   "cell_type": "markdown",
   "metadata": {},
   "source": [
    "Book ratings from\n",
    "http://www2.informatik.uni-freiburg.de/~cziegler/BX/"
   ]
  },
  {
   "cell_type": "code",
   "execution_count": 2,
   "metadata": {
    "collapsed": true
   },
   "outputs": [],
   "source": [
    "import pandas as pd\n",
    "import numpy as np\n",
    "import matplotlib.pyplot as plt\n",
    "%matplotlib inline\n",
    "from IPython.core.pylabtools import figsize\n",
    "figsize(12.5,5)"
   ]
  },
  {
   "cell_type": "code",
   "execution_count": 3,
   "metadata": {
    "collapsed": true,
    "slideshow": {
     "slide_type": "skip"
    }
   },
   "outputs": [],
   "source": [
    "data_dir = r'C:\\Users\\Trost\\Desktop\\Words\\BX-CSV-Dump\\BX-Book-Ratings.csv'"
   ]
  },
  {
   "cell_type": "code",
   "execution_count": 6,
   "metadata": {
    "collapsed": true
   },
   "outputs": [],
   "source": [
    "data = pd.read_csv(data_dir,header=0,sep=\";\",encoding = \"ISO-8859-1\")"
   ]
  },
  {
   "cell_type": "code",
   "execution_count": 7,
   "metadata": {
    "collapsed": false
   },
   "outputs": [
    {
     "data": {
      "text/html": [
       "<div>\n",
       "<table border=\"1\" class=\"dataframe\">\n",
       "  <thead>\n",
       "    <tr style=\"text-align: right;\">\n",
       "      <th></th>\n",
       "      <th>User_ID</th>\n",
       "      <th>ISBN</th>\n",
       "      <th>Book_Rating</th>\n",
       "    </tr>\n",
       "  </thead>\n",
       "  <tbody>\n",
       "    <tr>\n",
       "      <th>0</th>\n",
       "      <td>276725</td>\n",
       "      <td>034545104X</td>\n",
       "      <td>0</td>\n",
       "    </tr>\n",
       "    <tr>\n",
       "      <th>1</th>\n",
       "      <td>276726</td>\n",
       "      <td>0155061224</td>\n",
       "      <td>5</td>\n",
       "    </tr>\n",
       "    <tr>\n",
       "      <th>2</th>\n",
       "      <td>276727</td>\n",
       "      <td>0446520802</td>\n",
       "      <td>0</td>\n",
       "    </tr>\n",
       "    <tr>\n",
       "      <th>3</th>\n",
       "      <td>276729</td>\n",
       "      <td>052165615X</td>\n",
       "      <td>3</td>\n",
       "    </tr>\n",
       "    <tr>\n",
       "      <th>4</th>\n",
       "      <td>276729</td>\n",
       "      <td>0521795028</td>\n",
       "      <td>6</td>\n",
       "    </tr>\n",
       "  </tbody>\n",
       "</table>\n",
       "</div>"
      ],
      "text/plain": [
       "   User_ID        ISBN  Book_Rating\n",
       "0   276725  034545104X            0\n",
       "1   276726  0155061224            5\n",
       "2   276727  0446520802            0\n",
       "3   276729  052165615X            3\n",
       "4   276729  0521795028            6"
      ]
     },
     "execution_count": 7,
     "metadata": {},
     "output_type": "execute_result"
    }
   ],
   "source": [
    "data.head()"
   ]
  },
  {
   "cell_type": "code",
   "execution_count": 8,
   "metadata": {
    "collapsed": false
   },
   "outputs": [
    {
     "data": {
      "text/plain": [
       "1149780"
      ]
     },
     "execution_count": 8,
     "metadata": {},
     "output_type": "execute_result"
    }
   ],
   "source": [
    "len(data)\n",
    "\n"
   ]
  },
  {
   "cell_type": "markdown",
   "metadata": {},
   "source": [
    "# Find the ten users clisest to user 170155 using euclidean distance"
   ]
  },
  {
   "cell_type": "markdown",
   "metadata": {},
   "source": [
    "Write a simple distance function that can use dataframesand numpy arrays"
   ]
  },
  {
   "cell_type": "code",
   "execution_count": 9,
   "metadata": {
    "collapsed": true
   },
   "outputs": [],
   "source": [
    "def naive_distance(X,Y,exponent):\n",
    "    \"\"\"computes the euclidean distance between two vectors of the same lengths\"\"\"\n",
    "    if Y.shape != X.shape:\n",
    "        return \"not the same size\"\n",
    "    else:\n",
    "        return (abs(X - Y)**exponent)**(1/exponent)"
   ]
  },
  {
   "cell_type": "code",
   "execution_count": 11,
   "metadata": {
    "collapsed": false
   },
   "outputs": [
    {
     "data": {
      "text/plain": [
       "array([ 0.98560076,  0.241837  ,  0.8025305 ,  0.69154919,  0.14825799,\n",
       "        0.25739451,  0.31361567,  0.4732563 ,  0.89785971,  0.17166586])"
      ]
     },
     "execution_count": 11,
     "metadata": {},
     "output_type": "execute_result"
    }
   ],
   "source": [
    "X = np.random.random(10)\n",
    "Y = np.random.random(10)\n",
    "\n",
    "\n",
    "X\n",
    "\n"
   ]
  },
  {
   "cell_type": "code",
   "execution_count": 12,
   "metadata": {
    "collapsed": false
   },
   "outputs": [
    {
     "data": {
      "text/plain": [
       "array([ 0.25858597,  0.23122812,  0.01949566,  0.36315764,  0.35340748,\n",
       "        0.06973094,  0.22585103,  0.32010436,  0.52228268,  0.04444098])"
      ]
     },
     "execution_count": 12,
     "metadata": {},
     "output_type": "execute_result"
    }
   ],
   "source": [
    "naive_distance(X,Y,2)\n",
    "\n"
   ]
  },
  {
   "cell_type": "code",
   "execution_count": 13,
   "metadata": {
    "collapsed": true
   },
   "outputs": [],
   "source": [
    "def Distance(Table1,Table2,exp):\n",
    "    \"\"\"computes p-norm between two tables Book_Rating\n",
    "    exp specifies the minkoswsky norm (2 = euclidean distance,...).\n",
    "    Tables are cleaned, i.e. only contains entries that were rated by our original user\"\"\"\n",
    "\n",
    "    Table1 = Table1.set_index('ISBN') # sets index to ISBN, enabling us to align ratings of the same book\n",
    "    Table2 = Table2.set_index('ISBN')      \n",
    "    Table1['orig_user_rating'] = Table2.Book_Rating #align \n",
    "    #compute the distance (same as in naive)\n",
    "    Table1['Distance'] = pd.DataFrame((((abs(Table1.Book_Rating - Table1.orig_user_rating))**exp)**(1/exp)))\n",
    "    Table1.reset_index()\n",
    "    return(Table1)\n"
   ]
  },
  {
   "cell_type": "code",
   "execution_count": 16,
   "metadata": {
    "collapsed": true
   },
   "outputs": [],
   "source": [
    "def nearest_user(data,user=170155,exp = 2):#=170155\n",
    "    \"\"\"takes a User ID and computes a DataFrame sorted by the distance to user\"\"\"\n",
    "    \n",
    "    mask = data.User_ID.isin([user]) #mask for userdata\n",
    "\n",
    "    UserData = data[mask]# split in User Data and Data without the User\n",
    "    WithoutUserData = data[-mask]\n",
    "        \n",
    "    SampleOfUsersThatReadSameBooks = WithoutUserData.ISBN.isin(UserData.ISBN)#clean data, we don't have to use all the data\n",
    "    SameRead = WithoutUserData[SampleOfUsersThatReadSameBooks]#we do not need all the other entries.\n",
    "\n",
    "    d = Distance(SameRead,UserData,exp) #call Distance function\n",
    "    Mean = d.groupby('User_ID').mean() #group and get mean (instead of sum because of uneequal shared items)\n",
    "    Nearest = Mean.sort_values('Distance')\n",
    "    return(Nearest) #return sorted dataframe \n",
    "        \n"
   ]
  },
  {
   "cell_type": "code",
   "execution_count": 17,
   "metadata": {
    "collapsed": false
   },
   "outputs": [
    {
     "name": "stdout",
     "output_type": "stream",
     "text": [
      "1 loops, best of 3: 215 ms per loop\n"
     ]
    },
    {
     "data": {
      "text/html": [
       "<div>\n",
       "<table border=\"1\" class=\"dataframe\">\n",
       "  <thead>\n",
       "    <tr style=\"text-align: right;\">\n",
       "      <th></th>\n",
       "      <th>Book_Rating</th>\n",
       "      <th>orig_user_rating</th>\n",
       "      <th>Distance</th>\n",
       "    </tr>\n",
       "    <tr>\n",
       "      <th>User_ID</th>\n",
       "      <th></th>\n",
       "      <th></th>\n",
       "      <th></th>\n",
       "    </tr>\n",
       "  </thead>\n",
       "  <tbody>\n",
       "    <tr>\n",
       "      <th>278111</th>\n",
       "      <td>0</td>\n",
       "      <td>0</td>\n",
       "      <td>0</td>\n",
       "    </tr>\n",
       "    <tr>\n",
       "      <th>206944</th>\n",
       "      <td>0</td>\n",
       "      <td>0</td>\n",
       "      <td>0</td>\n",
       "    </tr>\n",
       "    <tr>\n",
       "      <th>102375</th>\n",
       "      <td>0</td>\n",
       "      <td>0</td>\n",
       "      <td>0</td>\n",
       "    </tr>\n",
       "    <tr>\n",
       "      <th>207056</th>\n",
       "      <td>0</td>\n",
       "      <td>0</td>\n",
       "      <td>0</td>\n",
       "    </tr>\n",
       "    <tr>\n",
       "      <th>100906</th>\n",
       "      <td>0</td>\n",
       "      <td>0</td>\n",
       "      <td>0</td>\n",
       "    </tr>\n",
       "    <tr>\n",
       "      <th>207494</th>\n",
       "      <td>7</td>\n",
       "      <td>7</td>\n",
       "      <td>0</td>\n",
       "    </tr>\n",
       "    <tr>\n",
       "      <th>207835</th>\n",
       "      <td>8</td>\n",
       "      <td>8</td>\n",
       "      <td>0</td>\n",
       "    </tr>\n",
       "    <tr>\n",
       "      <th>100459</th>\n",
       "      <td>0</td>\n",
       "      <td>0</td>\n",
       "      <td>0</td>\n",
       "    </tr>\n",
       "    <tr>\n",
       "      <th>99963</th>\n",
       "      <td>0</td>\n",
       "      <td>0</td>\n",
       "      <td>0</td>\n",
       "    </tr>\n",
       "    <tr>\n",
       "      <th>99023</th>\n",
       "      <td>0</td>\n",
       "      <td>0</td>\n",
       "      <td>0</td>\n",
       "    </tr>\n",
       "  </tbody>\n",
       "</table>\n",
       "</div>"
      ],
      "text/plain": [
       "         Book_Rating  orig_user_rating  Distance\n",
       "User_ID                                         \n",
       "278111             0                 0         0\n",
       "206944             0                 0         0\n",
       "102375             0                 0         0\n",
       "207056             0                 0         0\n",
       "100906             0                 0         0\n",
       "207494             7                 7         0\n",
       "207835             8                 8         0\n",
       "100459             0                 0         0\n",
       "99963              0                 0         0\n",
       "99023              0                 0         0"
      ]
     },
     "execution_count": 17,
     "metadata": {},
     "output_type": "execute_result"
    }
   ],
   "source": [
    "a = nearest_user(data)\n",
    "%timeit nearest_user(data)\n",
    "a[:10]\n"
   ]
  },
  {
   "cell_type": "code",
   "execution_count": 18,
   "metadata": {
    "collapsed": false
   },
   "outputs": [
    {
     "data": {
      "text/html": [
       "<div>\n",
       "<table border=\"1\" class=\"dataframe\">\n",
       "  <thead>\n",
       "    <tr style=\"text-align: right;\">\n",
       "      <th></th>\n",
       "      <th>Book_Rating</th>\n",
       "      <th>orig_user_rating</th>\n",
       "      <th>Distance</th>\n",
       "    </tr>\n",
       "    <tr>\n",
       "      <th>User_ID</th>\n",
       "      <th></th>\n",
       "      <th></th>\n",
       "      <th></th>\n",
       "    </tr>\n",
       "  </thead>\n",
       "  <tbody>\n",
       "    <tr>\n",
       "      <th>202963</th>\n",
       "      <td>10</td>\n",
       "      <td>0</td>\n",
       "      <td>10</td>\n",
       "    </tr>\n",
       "    <tr>\n",
       "      <th>203441</th>\n",
       "      <td>10</td>\n",
       "      <td>0</td>\n",
       "      <td>10</td>\n",
       "    </tr>\n",
       "    <tr>\n",
       "      <th>203935</th>\n",
       "      <td>10</td>\n",
       "      <td>0</td>\n",
       "      <td>10</td>\n",
       "    </tr>\n",
       "    <tr>\n",
       "      <th>95300</th>\n",
       "      <td>10</td>\n",
       "      <td>0</td>\n",
       "      <td>10</td>\n",
       "    </tr>\n",
       "    <tr>\n",
       "      <th>567</th>\n",
       "      <td>10</td>\n",
       "      <td>0</td>\n",
       "      <td>10</td>\n",
       "    </tr>\n",
       "  </tbody>\n",
       "</table>\n",
       "</div>"
      ],
      "text/plain": [
       "         Book_Rating  orig_user_rating  Distance\n",
       "User_ID                                         \n",
       "202963            10                 0        10\n",
       "203441            10                 0        10\n",
       "203935            10                 0        10\n",
       "95300             10                 0        10\n",
       "567               10                 0        10"
      ]
     },
     "execution_count": 18,
     "metadata": {},
     "output_type": "execute_result"
    }
   ],
   "source": [
    "a[-5:]\n",
    "\n"
   ]
  },
  {
   "cell_type": "markdown",
   "metadata": {},
   "source": [
    "# find the ten items with the highest adjusted cosine similarity\n",
    "\n",
    "\\begin{align*} sim(i, j) &= \\frac{ \\sum_{u \\in U} (r_u^i - \\bar{r}_u) (r_u^j - \\bar{r}_u) } { \\sqrt{ \\sum_{u \\in U} (r_u^i - \\bar{r}_u)^2 } \\sqrt{ \\sum_{u \\in U} (r_u^j - \\bar{r}_u)^2 } } \\end{align*}\n",
    "\n",
    "with\n",
    "\n",
    "$r_u^i$ being the rating of user and current item\n",
    "\n",
    "$r_u^j$ same user, different item\n",
    "\n",
    "$\\bar{r}_u$ being the average rating that the user gave \n",
    "\n",
    "\n",
    "As we can see, having the mean of each user in a separate column might come in handy. "
   ]
  },
  {
   "cell_type": "code",
   "execution_count": 19,
   "metadata": {
    "collapsed": true
   },
   "outputs": [],
   "source": [
    "def AddUserMean(Table):\n",
    "    #another cool pandas feature. This adds a column aligned on a certain other one.\n",
    "    Table = Table.join( Table.groupby('User_ID')['Book_Rating'].mean(), on='User_ID',rsuffix = '_User_mean')\n",
    "    return(Table)\n"
   ]
  },
  {
   "cell_type": "code",
   "execution_count": 20,
   "metadata": {
    "collapsed": true
   },
   "outputs": [],
   "source": [
    "def CosSim(Table1, Table2):\n",
    "    \"\"\"computes Cosine Similarity\"\"\"\n",
    "\n",
    "    Table1 = Table1.set_index('User_ID')#set index to User\n",
    "    Table2 = Table2.set_index('User_ID')\n",
    "\n",
    "    Table1['Item_Rating'] = Table2.Book_Rating# get rating of user of item, align on user_id\n",
    "        \n",
    "    Table1.reset_index() #resets the index to numerical (who'd have thought)\n",
    "        \n",
    "        \n",
    "    #renaming some variables for better understanding\n",
    "    rui = Table1.Item_Rating # rating of item-of-interest by user\n",
    "    ruj = Table1.Book_Rating # rating of other item by user\n",
    "    r_u = Table1.Book_Rating_User_mean # mean rating of the user\n",
    "\n",
    "        \n",
    "    # long distance function. You'll see that the sum happens later\n",
    "    Table1['CosDis'] = (((rui-r_u)*(ruj-r_u))/np.sqrt(sum((rui-r_u))**2)*np.sqrt(sum((ruj-r_u))**2))\n",
    "    \n",
    "    del Table1['Book_Rating']#deleting unneccessary rows \n",
    "    del Table1['Book_Rating_User_mean']\n",
    "    del Table1['Item_Rating']\n",
    "    return(Table1)#return sorted array"
   ]
  },
  {
   "cell_type": "code",
   "execution_count": 25,
   "metadata": {
    "collapsed": true
   },
   "outputs": [],
   "source": [
    "def nearest_item(data, item = '0446520802' ):#0155061224#0446520802\n",
    "        \"\"\"takes in item Number and calls CosSim, which \n",
    "        computes the nearest items according to \n",
    "        Adjusted Cosine Similarity\"\"\"\n",
    "        \n",
    "        test = data.copy()#necessary because of next step\n",
    "        #this has to be done here, otherwise the mean willl be biased (the item itself will not be in the mean)\n",
    "        \n",
    "        test = AddUserMean(test)# add the user mean\n",
    "        \n",
    "        mask = test.ISBN.isin([item]) #create bool array \n",
    "        Book_Ratings = test[mask] # the ratings our item received\n",
    "        Others_Ratings = test[-mask] # the ratings of the others\n",
    "        \n",
    "        BooksThatWereReadBySameUser = Others_Ratings.User_ID.isin(Book_Ratings.User_ID) # only use users that have rated our item\n",
    "        InterestingCases = Others_Ratings[BooksThatWereReadBySameUser]     #reduces number of cases from 1149780 to 54481  thats about 5% left.  \n",
    "\n",
    "        Nearest = CosSim(InterestingCases,Book_Ratings)# call CosSim\n",
    "\n",
    "        Nearest = Nearest.groupby('ISBN').sum() #groupby ISBN and sum we can do the sum here because the denominator is \n",
    "        #only dependend on the item ISBN\n",
    "        Nearest = Nearest.sort('CosDis',ascending=False)#sort\n",
    "\n",
    "        return(Nearest)\n"
   ]
  },
  {
   "cell_type": "code",
   "execution_count": 26,
   "metadata": {
    "collapsed": false
   },
   "outputs": [
    {
     "name": "stderr",
     "output_type": "stream",
     "text": [
      "C:\\Users\\Trost\\Anaconda3\\lib\\site-packages\\ipykernel\\__main__.py:22: FutureWarning: sort(columns=....) is deprecated, use sort_values(by=.....)\n",
      "C:\\Users\\Trost\\Anaconda3\\lib\\site-packages\\ipykernel\\__main__.py:22: FutureWarning: sort(columns=....) is deprecated, use sort_values(by=.....)\n"
     ]
    },
    {
     "name": "stdout",
     "output_type": "stream",
     "text": [
      "1 loops, best of 3: 716 ms per loop\n"
     ]
    },
    {
     "data": {
      "text/html": [
       "<div>\n",
       "<table border=\"1\" class=\"dataframe\">\n",
       "  <thead>\n",
       "    <tr style=\"text-align: right;\">\n",
       "      <th></th>\n",
       "      <th>CosDis</th>\n",
       "    </tr>\n",
       "    <tr>\n",
       "      <th>ISBN</th>\n",
       "      <th></th>\n",
       "    </tr>\n",
       "  </thead>\n",
       "  <tbody>\n",
       "    <tr>\n",
       "      <th>0316710571</th>\n",
       "      <td>0.131275</td>\n",
       "    </tr>\n",
       "    <tr>\n",
       "      <th>0451190572</th>\n",
       "      <td>0.116380</td>\n",
       "    </tr>\n",
       "    <tr>\n",
       "      <th>0452279178</th>\n",
       "      <td>0.113003</td>\n",
       "    </tr>\n",
       "    <tr>\n",
       "      <th>038533558X</th>\n",
       "      <td>0.103347</td>\n",
       "    </tr>\n",
       "    <tr>\n",
       "      <th>0553296981</th>\n",
       "      <td>0.091346</td>\n",
       "    </tr>\n",
       "    <tr>\n",
       "      <th>0439064864</th>\n",
       "      <td>0.087345</td>\n",
       "    </tr>\n",
       "  </tbody>\n",
       "</table>\n",
       "</div>"
      ],
      "text/plain": [
       "              CosDis\n",
       "ISBN                \n",
       "0316710571  0.131275\n",
       "0451190572  0.116380\n",
       "0452279178  0.113003\n",
       "038533558X  0.103347\n",
       "0553296981  0.091346\n",
       "0439064864  0.087345"
      ]
     },
     "execution_count": 26,
     "metadata": {},
     "output_type": "execute_result"
    }
   ],
   "source": [
    "a = nearest_item(data)\n",
    "%timeit nearest_item(data)\n",
    "a[:6]\n"
   ]
  },
  {
   "cell_type": "markdown",
   "metadata": {},
   "source": [
    "# recommend 6 items to user"
   ]
  },
  {
   "cell_type": "code",
   "execution_count": 27,
   "metadata": {
    "collapsed": true
   },
   "outputs": [],
   "source": [
    "\n",
    "\n",
    "\n",
    "\n",
    "def get_rec_user(data,user_based_rec):\n",
    "    similar_users = list(user_based_rec[:6].index) # get list of 6 most similar users\n",
    "    mask = data.User_ID.isin(similar_users) #create bool array for similar users\n",
    "    similar_user_favs = data[mask] # only use similar users\n",
    "\n",
    "    test = similar_user_favs.groupby('ISBN').mean() #groups the list by ISBNs. \n",
    "    test = test.sort('Book_Rating',ascending=False)# return df sorted by book rating\n",
    "    #    print(test)\n",
    "    return(test)\n"
   ]
  },
  {
   "cell_type": "code",
   "execution_count": 28,
   "metadata": {
    "collapsed": true
   },
   "outputs": [],
   "source": [
    "def new_user(data,user=219459, book= '0446520802'):#'0446520802'):#'0155061224',,,552147729\n",
    "    \n",
    "    user_based_rec = nearest_user(data,user,2)# nearest users\n",
    "    item_based_rec = nearest_item(data,book) # nearest items\n",
    "    highest_rated = data.groupby('ISBN').mean()# highest rated books\n",
    "    \n",
    "    if user_based_rec.empty and item_based_rec.empty:\n",
    "\n",
    "        return highest_rated[:6]#if no additional info: recommend \"best\" books to new user\n",
    "    elif user_based_rec.empty and not item_based_rec.empty:\n",
    "\n",
    "        return item_based_rec[:6] # return item based rec\n",
    "    elif item_based_rec.empty and not user_based_rec.empty:\n",
    "        user_based = get_rec_user(data,user_based_rec)\n",
    "        return user_based[:6]# return user based rec\n",
    "    else:\n",
    "        user_based = get_rec_user(data,user_based_rec)\n",
    "        return pd.concat([user_based[:3],item_based_rec[:3]]) # return half-half"
   ]
  },
  {
   "cell_type": "code",
   "execution_count": 29,
   "metadata": {
    "collapsed": false
   },
   "outputs": [
    {
     "name": "stderr",
     "output_type": "stream",
     "text": [
      "C:\\Users\\Trost\\Anaconda3\\lib\\site-packages\\ipykernel\\__main__.py:22: FutureWarning: sort(columns=....) is deprecated, use sort_values(by=.....)\n",
      "C:\\Users\\Trost\\Anaconda3\\lib\\site-packages\\ipykernel\\__main__.py:11: FutureWarning: sort(columns=....) is deprecated, use sort_values(by=.....)\n",
      "C:\\Users\\Trost\\Anaconda3\\lib\\site-packages\\ipykernel\\__main__.py:22: FutureWarning: sort(columns=....) is deprecated, use sort_values(by=.....)\n",
      "C:\\Users\\Trost\\Anaconda3\\lib\\site-packages\\ipykernel\\__main__.py:11: FutureWarning: sort(columns=....) is deprecated, use sort_values(by=.....)\n"
     ]
    },
    {
     "name": "stdout",
     "output_type": "stream",
     "text": [
      "1 loops, best of 3: 2.12 s per loop\n"
     ]
    },
    {
     "data": {
      "text/html": [
       "<div>\n",
       "<table border=\"1\" class=\"dataframe\">\n",
       "  <thead>\n",
       "    <tr style=\"text-align: right;\">\n",
       "      <th></th>\n",
       "      <th>Book_Rating</th>\n",
       "      <th>CosDis</th>\n",
       "      <th>User_ID</th>\n",
       "    </tr>\n",
       "    <tr>\n",
       "      <th>ISBN</th>\n",
       "      <th></th>\n",
       "      <th></th>\n",
       "      <th></th>\n",
       "    </tr>\n",
       "  </thead>\n",
       "  <tbody>\n",
       "    <tr>\n",
       "      <th>0099628716</th>\n",
       "      <td>10</td>\n",
       "      <td>NaN</td>\n",
       "      <td>160541</td>\n",
       "    </tr>\n",
       "    <tr>\n",
       "      <th>0747256152</th>\n",
       "      <td>10</td>\n",
       "      <td>NaN</td>\n",
       "      <td>157247</td>\n",
       "    </tr>\n",
       "    <tr>\n",
       "      <th>3404139178</th>\n",
       "      <td>10</td>\n",
       "      <td>NaN</td>\n",
       "      <td>132500</td>\n",
       "    </tr>\n",
       "    <tr>\n",
       "      <th>0316666343</th>\n",
       "      <td>NaN</td>\n",
       "      <td>3.074204e-317</td>\n",
       "      <td>NaN</td>\n",
       "    </tr>\n",
       "    <tr>\n",
       "      <th>0860074382</th>\n",
       "      <td>NaN</td>\n",
       "      <td>2.944812e-317</td>\n",
       "      <td>NaN</td>\n",
       "    </tr>\n",
       "    <tr>\n",
       "      <th>0877017883</th>\n",
       "      <td>NaN</td>\n",
       "      <td>2.800768e-317</td>\n",
       "      <td>NaN</td>\n",
       "    </tr>\n",
       "  </tbody>\n",
       "</table>\n",
       "</div>"
      ],
      "text/plain": [
       "            Book_Rating         CosDis  User_ID\n",
       "ISBN                                           \n",
       "0099628716           10            NaN   160541\n",
       "0747256152           10            NaN   157247\n",
       "3404139178           10            NaN   132500\n",
       "0316666343          NaN  3.074204e-317      NaN\n",
       "0860074382          NaN  2.944812e-317      NaN\n",
       "0877017883          NaN  2.800768e-317      NaN"
      ]
     },
     "execution_count": 29,
     "metadata": {},
     "output_type": "execute_result"
    }
   ],
   "source": [
    "a = new_user(data)\n",
    "%timeit new_user(data)\n",
    "a\n"
   ]
  },
  {
   "cell_type": "code",
   "execution_count": 30,
   "metadata": {
    "collapsed": false
   },
   "outputs": [
    {
     "name": "stderr",
     "output_type": "stream",
     "text": [
      "C:\\Users\\Trost\\Anaconda3\\lib\\site-packages\\ipykernel\\__main__.py:22: FutureWarning: sort(columns=....) is deprecated, use sort_values(by=.....)\n",
      "C:\\Users\\Trost\\Anaconda3\\lib\\site-packages\\ipykernel\\__main__.py:11: FutureWarning: sort(columns=....) is deprecated, use sort_values(by=.....)\n",
      "C:\\Users\\Trost\\Anaconda3\\lib\\site-packages\\ipykernel\\__main__.py:22: FutureWarning: sort(columns=....) is deprecated, use sort_values(by=.....)\n",
      "C:\\Users\\Trost\\Anaconda3\\lib\\site-packages\\ipykernel\\__main__.py:11: FutureWarning: sort(columns=....) is deprecated, use sort_values(by=.....)\n"
     ]
    },
    {
     "name": "stdout",
     "output_type": "stream",
     "text": [
      "1 loops, best of 3: 1.94 s per loop\n"
     ]
    },
    {
     "data": {
      "text/html": [
       "<div>\n",
       "<table border=\"1\" class=\"dataframe\">\n",
       "  <thead>\n",
       "    <tr style=\"text-align: right;\">\n",
       "      <th></th>\n",
       "      <th>User_ID</th>\n",
       "      <th>Book_Rating</th>\n",
       "    </tr>\n",
       "    <tr>\n",
       "      <th>ISBN</th>\n",
       "      <th></th>\n",
       "      <th></th>\n",
       "    </tr>\n",
       "  </thead>\n",
       "  <tbody>\n",
       "    <tr>\n",
       "      <th>0684801523</th>\n",
       "      <td>206944</td>\n",
       "      <td>10</td>\n",
       "    </tr>\n",
       "    <tr>\n",
       "      <th>0685340651</th>\n",
       "      <td>100906</td>\n",
       "      <td>10</td>\n",
       "    </tr>\n",
       "    <tr>\n",
       "      <th>0140286764</th>\n",
       "      <td>100906</td>\n",
       "      <td>10</td>\n",
       "    </tr>\n",
       "    <tr>\n",
       "      <th>088001301X</th>\n",
       "      <td>100906</td>\n",
       "      <td>10</td>\n",
       "    </tr>\n",
       "    <tr>\n",
       "      <th>0425126064</th>\n",
       "      <td>207494</td>\n",
       "      <td>10</td>\n",
       "    </tr>\n",
       "    <tr>\n",
       "      <th>0312862113</th>\n",
       "      <td>207494</td>\n",
       "      <td>10</td>\n",
       "    </tr>\n",
       "  </tbody>\n",
       "</table>\n",
       "</div>"
      ],
      "text/plain": [
       "            User_ID  Book_Rating\n",
       "ISBN                            \n",
       "0684801523   206944           10\n",
       "0685340651   100906           10\n",
       "0140286764   100906           10\n",
       "088001301X   100906           10\n",
       "0425126064   207494           10\n",
       "0312862113   207494           10"
      ]
     },
     "execution_count": 30,
     "metadata": {},
     "output_type": "execute_result"
    }
   ],
   "source": [
    "\n",
    "\n",
    "\n",
    "\n",
    "b = new_user(data,user=170155,book=29)\n",
    "%timeit new_user(data,user=170155,book=29)\n",
    "b\n"
   ]
  },
  {
   "cell_type": "markdown",
   "metadata": {},
   "source": [
    "# Randomly delete 20% of the ratings and try to predict them."
   ]
  },
  {
   "cell_type": "code",
   "execution_count": 31,
   "metadata": {
    "collapsed": true
   },
   "outputs": [],
   "source": [
    "from random import sample\n",
    "\n",
    "def del_20(data):\n",
    "        minus20 = data.copy() # don't delete it in original \n",
    "        mask =  np.array(sample(range(len(minus20)),round(len(minus20)*.2))) #create 20% NaNs\n",
    "        minus20['orig_vals'] = minus20.Book_Rating # store original values\n",
    "        minus20['Book_Rating'].ix[mask] = np.nan # delete specified values\n",
    "        return(minus20)\n"
   ]
  },
  {
   "cell_type": "code",
   "execution_count": 32,
   "metadata": {
    "collapsed": false
   },
   "outputs": [
    {
     "name": "stderr",
     "output_type": "stream",
     "text": [
      "C:\\Users\\Trost\\Anaconda3\\lib\\site-packages\\pandas\\core\\indexing.py:115: SettingWithCopyWarning: \n",
      "A value is trying to be set on a copy of a slice from a DataFrame\n",
      "\n",
      "See the caveats in the documentation: http://pandas.pydata.org/pandas-docs/stable/indexing.html#indexing-view-versus-copy\n",
      "  self._setitem_with_indexer(indexer, value)\n"
     ]
    },
    {
     "data": {
      "text/plain": [
       "True"
      ]
     },
     "execution_count": 32,
     "metadata": {},
     "output_type": "execute_result"
    }
   ],
   "source": [
    "\n",
    "\n",
    "\n",
    "without_20 = del_20(data)\n",
    "without_20.Book_Rating.isnull().any() #check if there are any nans in Book_rting\n"
   ]
  },
  {
   "cell_type": "code",
   "execution_count": 35,
   "metadata": {
    "collapsed": false
   },
   "outputs": [
    {
     "data": {
      "text/html": [
       "<div>\n",
       "<table border=\"1\" class=\"dataframe\">\n",
       "  <thead>\n",
       "    <tr style=\"text-align: right;\">\n",
       "      <th></th>\n",
       "      <th>User_ID</th>\n",
       "      <th>ISBN</th>\n",
       "      <th>Book_Rating</th>\n",
       "      <th>orig_vals</th>\n",
       "    </tr>\n",
       "  </thead>\n",
       "  <tbody>\n",
       "    <tr>\n",
       "      <th>0</th>\n",
       "      <td>276725</td>\n",
       "      <td>034545104X</td>\n",
       "      <td>0</td>\n",
       "      <td>0</td>\n",
       "    </tr>\n",
       "    <tr>\n",
       "      <th>1</th>\n",
       "      <td>276726</td>\n",
       "      <td>0155061224</td>\n",
       "      <td>5</td>\n",
       "      <td>5</td>\n",
       "    </tr>\n",
       "    <tr>\n",
       "      <th>2</th>\n",
       "      <td>276727</td>\n",
       "      <td>0446520802</td>\n",
       "      <td>0</td>\n",
       "      <td>0</td>\n",
       "    </tr>\n",
       "    <tr>\n",
       "      <th>3</th>\n",
       "      <td>276729</td>\n",
       "      <td>052165615X</td>\n",
       "      <td>3</td>\n",
       "      <td>3</td>\n",
       "    </tr>\n",
       "    <tr>\n",
       "      <th>4</th>\n",
       "      <td>276729</td>\n",
       "      <td>0521795028</td>\n",
       "      <td>6</td>\n",
       "      <td>6</td>\n",
       "    </tr>\n",
       "    <tr>\n",
       "      <th>5</th>\n",
       "      <td>276733</td>\n",
       "      <td>2080674722</td>\n",
       "      <td>NaN</td>\n",
       "      <td>0</td>\n",
       "    </tr>\n",
       "    <tr>\n",
       "      <th>6</th>\n",
       "      <td>276736</td>\n",
       "      <td>3257224281</td>\n",
       "      <td>NaN</td>\n",
       "      <td>8</td>\n",
       "    </tr>\n",
       "    <tr>\n",
       "      <th>7</th>\n",
       "      <td>276737</td>\n",
       "      <td>0600570967</td>\n",
       "      <td>NaN</td>\n",
       "      <td>6</td>\n",
       "    </tr>\n",
       "    <tr>\n",
       "      <th>8</th>\n",
       "      <td>276744</td>\n",
       "      <td>038550120X</td>\n",
       "      <td>7</td>\n",
       "      <td>7</td>\n",
       "    </tr>\n",
       "    <tr>\n",
       "      <th>9</th>\n",
       "      <td>276745</td>\n",
       "      <td>342310538</td>\n",
       "      <td>NaN</td>\n",
       "      <td>10</td>\n",
       "    </tr>\n",
       "  </tbody>\n",
       "</table>\n",
       "</div>"
      ],
      "text/plain": [
       "   User_ID        ISBN  Book_Rating  orig_vals\n",
       "0   276725  034545104X            0          0\n",
       "1   276726  0155061224            5          5\n",
       "2   276727  0446520802            0          0\n",
       "3   276729  052165615X            3          3\n",
       "4   276729  0521795028            6          6\n",
       "5   276733  2080674722          NaN          0\n",
       "6   276736  3257224281          NaN          8\n",
       "7   276737  0600570967          NaN          6\n",
       "8   276744  038550120X            7          7\n",
       "9   276745   342310538          NaN         10"
      ]
     },
     "execution_count": 35,
     "metadata": {},
     "output_type": "execute_result"
    }
   ],
   "source": [
    "without_20[:10]\n",
    "\n"
   ]
  },
  {
   "cell_type": "markdown",
   "metadata": {},
   "source": [
    "## fill in values that belong to a book that has been rated exactly once.\n",
    "\n",
    "This is kinda problematic, because books that have been rated only once/a few times (if that value gets deleted) don't have any backup information we could use. Therefore we just predict the mean. Not perfect, but it's something.\n"
   ]
  },
  {
   "cell_type": "code",
   "execution_count": 84,
   "metadata": {
    "collapsed": true
   },
   "outputs": [],
   "source": [
    "def fill_single_rated_nan(data):\n",
    "    #find books that are rated exactly once and set rating to mean rating\n",
    "    data['ones'] = 1 # add counter \n",
    "    data = data.join(data.groupby('ISBN')['ones'].count(), on='ISBN',rsuffix = '_count') # .count() counter\n",
    "    \n",
    "    mask_rated_once = data.ones_count == 1 # create mask where counted counter is still 1\n",
    "    mask_is_na = data.Book_Rating.isnull() # create mask for missing entries\n",
    "    mask_both = (mask_rated_once & mask_is_na) # create combined mask where both other masks are true\n",
    "    data['mask_rated_once'] = mask_rated_once\n",
    "    data['mask_is_na'] = mask_is_na\n",
    "    data['mask'] = mask_both\n",
    "    data['Book_Rating_new'] = data.Book_Rating # set new book rating to a copy of the one containing the deleted entries\n",
    "    data['Book_Rating_new'][mask_both] = data.Book_Rating.mean() #fill in the mean in places where the mask is true\n",
    "    del data['User_ID']\n",
    "    del data['ones']\n",
    "    #del data['ones_count']\n",
    "    del data['mask_rated_once']\n",
    "    #del data['mask_is_na']\n",
    "    return(data)\n"
   ]
  },
  {
   "cell_type": "code",
   "execution_count": 85,
   "metadata": {
    "collapsed": false
   },
   "outputs": [
    {
     "name": "stderr",
     "output_type": "stream",
     "text": [
      "C:\\Users\\Trost\\Anaconda3\\lib\\site-packages\\ipykernel\\__main__.py:13: SettingWithCopyWarning: \n",
      "A value is trying to be set on a copy of a slice from a DataFrame\n",
      "\n",
      "See the caveats in the documentation: http://pandas.pydata.org/pandas-docs/stable/indexing.html#indexing-view-versus-copy\n"
     ]
    }
   ],
   "source": [
    "a = fill_single_rated_nan(without_20)"
   ]
  },
  {
   "cell_type": "markdown",
   "metadata": {},
   "source": [
    "## fill values for books that have additional information\n",
    "\n",
    "Other books have been rated several times, i.e. they have backup information. We will use the mean rating a book received to fill up the gaps.\n"
   ]
  },
  {
   "cell_type": "code",
   "execution_count": 86,
   "metadata": {
    "collapsed": true
   },
   "outputs": [],
   "source": [
    "def add_book_mean(data):\n",
    "    \"\"\"get the book mean\"\"\"\n",
    "    Table = data.join( data.groupby('ISBN')['Book_Rating'].mean(), on='ISBN',rsuffix = '_Mean') # ignores NaNs by default. Like R.\n",
    "    return(Table)\n"
   ]
  },
  {
   "cell_type": "code",
   "execution_count": 87,
   "metadata": {
    "collapsed": false
   },
   "outputs": [
    {
     "data": {
      "text/html": [
       "<div>\n",
       "<table border=\"1\" class=\"dataframe\">\n",
       "  <thead>\n",
       "    <tr style=\"text-align: right;\">\n",
       "      <th></th>\n",
       "      <th>User_ID</th>\n",
       "      <th>ISBN</th>\n",
       "      <th>Book_Rating</th>\n",
       "      <th>Book_Rating_Mean</th>\n",
       "    </tr>\n",
       "  </thead>\n",
       "  <tbody>\n",
       "    <tr>\n",
       "      <th>0</th>\n",
       "      <td>276725</td>\n",
       "      <td>034545104X</td>\n",
       "      <td>0</td>\n",
       "      <td>2.933333</td>\n",
       "    </tr>\n",
       "    <tr>\n",
       "      <th>1</th>\n",
       "      <td>276726</td>\n",
       "      <td>0155061224</td>\n",
       "      <td>5</td>\n",
       "      <td>2.500000</td>\n",
       "    </tr>\n",
       "    <tr>\n",
       "      <th>2</th>\n",
       "      <td>276727</td>\n",
       "      <td>0446520802</td>\n",
       "      <td>0</td>\n",
       "      <td>4.060345</td>\n",
       "    </tr>\n",
       "    <tr>\n",
       "      <th>3</th>\n",
       "      <td>276729</td>\n",
       "      <td>052165615X</td>\n",
       "      <td>3</td>\n",
       "      <td>3.000000</td>\n",
       "    </tr>\n",
       "    <tr>\n",
       "      <th>4</th>\n",
       "      <td>276729</td>\n",
       "      <td>0521795028</td>\n",
       "      <td>6</td>\n",
       "      <td>6.000000</td>\n",
       "    </tr>\n",
       "  </tbody>\n",
       "</table>\n",
       "</div>"
      ],
      "text/plain": [
       "   User_ID        ISBN  Book_Rating  Book_Rating_Mean\n",
       "0   276725  034545104X            0          2.933333\n",
       "1   276726  0155061224            5          2.500000\n",
       "2   276727  0446520802            0          4.060345\n",
       "3   276729  052165615X            3          3.000000\n",
       "4   276729  0521795028            6          6.000000"
      ]
     },
     "execution_count": 87,
     "metadata": {},
     "output_type": "execute_result"
    }
   ],
   "source": [
    "c = data.copy()\n",
    "d = add_book_mean(c)\n",
    "d.head()"
   ]
  },
  {
   "cell_type": "code",
   "execution_count": 88,
   "metadata": {
    "collapsed": true
   },
   "outputs": [],
   "source": [
    "def fill_informative_nan(data):\n",
    "    \"\"\"fills \"informative\" entries with the mean rating of the book\"\"\"\n",
    "    \n",
    "    data_with_mean = add_book_mean(data) #add book mean\n",
    "    mask = data_with_mean.Book_Rating_new.isnull()# create that indicates if entries are missing\n",
    "    data['B_R_New'] = data_with_mean.Book_Rating_new # set to intermediate-filled \n",
    "    data['B_R_New'][mask] = data_with_mean['Book_Rating_Mean'] #fills with the book mean\n",
    "    return data"
   ]
  },
  {
   "cell_type": "code",
   "execution_count": 89,
   "metadata": {
    "collapsed": false
   },
   "outputs": [
    {
     "name": "stderr",
     "output_type": "stream",
     "text": [
      "C:\\Users\\Trost\\Anaconda3\\lib\\site-packages\\ipykernel\\__main__.py:7: SettingWithCopyWarning: \n",
      "A value is trying to be set on a copy of a slice from a DataFrame\n",
      "\n",
      "See the caveats in the documentation: http://pandas.pydata.org/pandas-docs/stable/indexing.html#indexing-view-versus-copy\n"
     ]
    },
    {
     "data": {
      "text/html": [
       "<div>\n",
       "<table border=\"1\" class=\"dataframe\">\n",
       "  <thead>\n",
       "    <tr style=\"text-align: right;\">\n",
       "      <th></th>\n",
       "      <th>ISBN</th>\n",
       "      <th>Book_Rating</th>\n",
       "      <th>orig_vals</th>\n",
       "      <th>ones_count</th>\n",
       "      <th>mask_is_na</th>\n",
       "      <th>mask</th>\n",
       "      <th>Book_Rating_new</th>\n",
       "      <th>B_R_New</th>\n",
       "    </tr>\n",
       "  </thead>\n",
       "  <tbody>\n",
       "    <tr>\n",
       "      <th>0</th>\n",
       "      <td>034545104X</td>\n",
       "      <td>NaN</td>\n",
       "      <td>0</td>\n",
       "      <td>60</td>\n",
       "      <td>True</td>\n",
       "      <td>False</td>\n",
       "      <td>NaN</td>\n",
       "      <td>2.727273</td>\n",
       "    </tr>\n",
       "    <tr>\n",
       "      <th>1</th>\n",
       "      <td>0155061224</td>\n",
       "      <td>NaN</td>\n",
       "      <td>5</td>\n",
       "      <td>2</td>\n",
       "      <td>True</td>\n",
       "      <td>False</td>\n",
       "      <td>NaN</td>\n",
       "      <td>0.000000</td>\n",
       "    </tr>\n",
       "    <tr>\n",
       "      <th>2</th>\n",
       "      <td>0446520802</td>\n",
       "      <td>NaN</td>\n",
       "      <td>0</td>\n",
       "      <td>116</td>\n",
       "      <td>True</td>\n",
       "      <td>False</td>\n",
       "      <td>NaN</td>\n",
       "      <td>4.076087</td>\n",
       "    </tr>\n",
       "    <tr>\n",
       "      <th>3</th>\n",
       "      <td>052165615X</td>\n",
       "      <td>3</td>\n",
       "      <td>3</td>\n",
       "      <td>1</td>\n",
       "      <td>False</td>\n",
       "      <td>False</td>\n",
       "      <td>3.000000</td>\n",
       "      <td>3.000000</td>\n",
       "    </tr>\n",
       "    <tr>\n",
       "      <th>4</th>\n",
       "      <td>0521795028</td>\n",
       "      <td>6</td>\n",
       "      <td>6</td>\n",
       "      <td>1</td>\n",
       "      <td>False</td>\n",
       "      <td>False</td>\n",
       "      <td>6.000000</td>\n",
       "      <td>6.000000</td>\n",
       "    </tr>\n",
       "    <tr>\n",
       "      <th>5</th>\n",
       "      <td>2080674722</td>\n",
       "      <td>0</td>\n",
       "      <td>0</td>\n",
       "      <td>3</td>\n",
       "      <td>False</td>\n",
       "      <td>False</td>\n",
       "      <td>0.000000</td>\n",
       "      <td>0.000000</td>\n",
       "    </tr>\n",
       "    <tr>\n",
       "      <th>6</th>\n",
       "      <td>3257224281</td>\n",
       "      <td>8</td>\n",
       "      <td>8</td>\n",
       "      <td>5</td>\n",
       "      <td>False</td>\n",
       "      <td>False</td>\n",
       "      <td>8.000000</td>\n",
       "      <td>8.000000</td>\n",
       "    </tr>\n",
       "    <tr>\n",
       "      <th>7</th>\n",
       "      <td>0600570967</td>\n",
       "      <td>NaN</td>\n",
       "      <td>6</td>\n",
       "      <td>1</td>\n",
       "      <td>True</td>\n",
       "      <td>True</td>\n",
       "      <td>2.866344</td>\n",
       "      <td>2.866344</td>\n",
       "    </tr>\n",
       "    <tr>\n",
       "      <th>8</th>\n",
       "      <td>038550120X</td>\n",
       "      <td>7</td>\n",
       "      <td>7</td>\n",
       "      <td>184</td>\n",
       "      <td>False</td>\n",
       "      <td>False</td>\n",
       "      <td>7.000000</td>\n",
       "      <td>7.000000</td>\n",
       "    </tr>\n",
       "    <tr>\n",
       "      <th>9</th>\n",
       "      <td>342310538</td>\n",
       "      <td>10</td>\n",
       "      <td>10</td>\n",
       "      <td>2</td>\n",
       "      <td>False</td>\n",
       "      <td>False</td>\n",
       "      <td>10.000000</td>\n",
       "      <td>10.000000</td>\n",
       "    </tr>\n",
       "  </tbody>\n",
       "</table>\n",
       "</div>"
      ],
      "text/plain": [
       "         ISBN  Book_Rating  orig_vals  ones_count mask_is_na   mask  \\\n",
       "0  034545104X          NaN          0          60       True  False   \n",
       "1  0155061224          NaN          5           2       True  False   \n",
       "2  0446520802          NaN          0         116       True  False   \n",
       "3  052165615X            3          3           1      False  False   \n",
       "4  0521795028            6          6           1      False  False   \n",
       "5  2080674722            0          0           3      False  False   \n",
       "6  3257224281            8          8           5      False  False   \n",
       "7  0600570967          NaN          6           1       True   True   \n",
       "8  038550120X            7          7         184      False  False   \n",
       "9   342310538           10         10           2      False  False   \n",
       "\n",
       "   Book_Rating_new    B_R_New  \n",
       "0              NaN   2.727273  \n",
       "1              NaN   0.000000  \n",
       "2              NaN   4.076087  \n",
       "3         3.000000   3.000000  \n",
       "4         6.000000   6.000000  \n",
       "5         0.000000   0.000000  \n",
       "6         8.000000   8.000000  \n",
       "7         2.866344   2.866344  \n",
       "8         7.000000   7.000000  \n",
       "9        10.000000  10.000000  "
      ]
     },
     "execution_count": 89,
     "metadata": {},
     "output_type": "execute_result"
    }
   ],
   "source": [
    "x = fill_informative_nan(a)\n",
    "x[:10]"
   ]
  },
  {
   "cell_type": "code",
   "execution_count": 90,
   "metadata": {
    "collapsed": false
   },
   "outputs": [
    {
     "name": "stderr",
     "output_type": "stream",
     "text": [
      "C:\\Users\\Trost\\Anaconda3\\lib\\site-packages\\ipykernel\\__main__.py:13: SettingWithCopyWarning: \n",
      "A value is trying to be set on a copy of a slice from a DataFrame\n",
      "\n",
      "See the caveats in the documentation: http://pandas.pydata.org/pandas-docs/stable/indexing.html#indexing-view-versus-copy\n",
      "C:\\Users\\Trost\\Anaconda3\\lib\\site-packages\\ipykernel\\__main__.py:7: SettingWithCopyWarning: \n",
      "A value is trying to be set on a copy of a slice from a DataFrame\n",
      "\n",
      "See the caveats in the documentation: http://pandas.pydata.org/pandas-docs/stable/indexing.html#indexing-view-versus-copy\n"
     ]
    },
    {
     "data": {
      "text/plain": [
       "True"
      ]
     },
     "execution_count": 90,
     "metadata": {},
     "output_type": "execute_result"
    }
   ],
   "source": [
    "\n",
    "\n",
    "\n",
    "\n",
    "filled_single = fill_single_rated_nan(without_20)\n",
    "#filled_single_mean = add_book_mean(filled_single)\n",
    "filled_all = fill_informative_nan(filled_single)\n",
    "filled_all.B_R_New.isnull().any()\n"
   ]
  },
  {
   "cell_type": "markdown",
   "metadata": {},
   "source": [
    "## still NaNs?\n",
    "\n",
    "There are (a few) books, that still contain nans. The guess is that those are books that had several ratings that all got deleted in the process\n"
   ]
  },
  {
   "cell_type": "code",
   "execution_count": 91,
   "metadata": {
    "collapsed": false
   },
   "outputs": [
    {
     "data": {
      "text/plain": [
       "5497"
      ]
     },
     "execution_count": 91,
     "metadata": {},
     "output_type": "execute_result"
    }
   ],
   "source": [
    "testtest = filled_all[filled_all.B_R_New.isnull()] #how many entries are there?\n",
    "len(testtest)"
   ]
  },
  {
   "cell_type": "code",
   "execution_count": 92,
   "metadata": {
    "collapsed": false
   },
   "outputs": [
    {
     "data": {
      "text/plain": [
       "5"
      ]
     },
     "execution_count": 92,
     "metadata": {},
     "output_type": "execute_result"
    }
   ],
   "source": [
    "max(testtest.ones_count) #whats the maximum of ratings one of thos books had?\n",
    "\n"
   ]
  },
  {
   "cell_type": "code",
   "execution_count": 93,
   "metadata": {
    "collapsed": false
   },
   "outputs": [
    {
     "data": {
      "text/plain": [
       "2.1569947243951244"
      ]
     },
     "execution_count": 93,
     "metadata": {},
     "output_type": "execute_result"
    }
   ],
   "source": [
    "np.mean(testtest.ones_count) #what is the mean number of ratings that books had?"
   ]
  },
  {
   "cell_type": "code",
   "execution_count": 94,
   "metadata": {
    "collapsed": false
   },
   "outputs": [
    {
     "name": "stderr",
     "output_type": "stream",
     "text": [
      "C:\\Users\\Trost\\Anaconda3\\lib\\site-packages\\ipykernel\\__main__.py:1: SettingWithCopyWarning: \n",
      "A value is trying to be set on a copy of a slice from a DataFrame\n",
      "\n",
      "See the caveats in the documentation: http://pandas.pydata.org/pandas-docs/stable/indexing.html#indexing-view-versus-copy\n",
      "  if __name__ == '__main__':\n"
     ]
    },
    {
     "data": {
      "text/plain": [
       "False"
      ]
     },
     "execution_count": 94,
     "metadata": {},
     "output_type": "execute_result"
    }
   ],
   "source": [
    "filled_all['B_R_New'][filled_all.B_R_New.isnull()] = filled_all.B_R_New.mean() # fill them up with mean, since we're pretty \n",
    "#sure that we're dealing with \"unfortunately deleted\" entries\n",
    "filled_all.B_R_New.isnull().any()"
   ]
  },
  {
   "cell_type": "code",
   "execution_count": 95,
   "metadata": {
    "collapsed": false
   },
   "outputs": [
    {
     "data": {
      "text/plain": [
       "2.857660943076448"
      ]
     },
     "execution_count": 95,
     "metadata": {},
     "output_type": "execute_result"
    }
   ],
   "source": [
    "filled_all.B_R_New.mean()\n",
    "\n"
   ]
  },
  {
   "cell_type": "code",
   "execution_count": 96,
   "metadata": {
    "collapsed": false
   },
   "outputs": [
    {
     "data": {
      "text/plain": [
       "2.8669501991685364"
      ]
     },
     "execution_count": 96,
     "metadata": {},
     "output_type": "execute_result"
    }
   ],
   "source": [
    "filled_all.orig_vals.mean()\n",
    "\n"
   ]
  },
  {
   "cell_type": "code",
   "execution_count": 97,
   "metadata": {
    "collapsed": true
   },
   "outputs": [],
   "source": [
    "def avg_error(Table):\n",
    "    \"\"\"computes our average error\"\"\"\n",
    "    return (sum((Table.orig_vals[filled_all.mask_is_na] \n",
    "                 - Table.B_R_New[Table.mask_is_na])**2)**1/2\n",
    "           )/len(Table.mask_is_na)"
   ]
  },
  {
   "cell_type": "code",
   "execution_count": 98,
   "metadata": {
    "collapsed": false
   },
   "outputs": [
    {
     "data": {
      "text/plain": [
       "1.6747564384266398"
      ]
     },
     "execution_count": 98,
     "metadata": {},
     "output_type": "execute_result"
    }
   ],
   "source": [
    "avg_error(filled_all)\n",
    "\n"
   ]
  },
  {
   "cell_type": "code",
   "execution_count": 99,
   "metadata": {
    "collapsed": false
   },
   "outputs": [
    {
     "name": "stderr",
     "output_type": "stream",
     "text": [
      "C:\\Users\\Trost\\Anaconda3\\lib\\site-packages\\pandas\\core\\indexing.py:115: SettingWithCopyWarning: \n",
      "A value is trying to be set on a copy of a slice from a DataFrame\n",
      "\n",
      "See the caveats in the documentation: http://pandas.pydata.org/pandas-docs/stable/indexing.html#indexing-view-versus-copy\n",
      "  self._setitem_with_indexer(indexer, value)\n",
      "C:\\Users\\Trost\\Anaconda3\\lib\\site-packages\\ipykernel\\__main__.py:13: SettingWithCopyWarning: \n",
      "A value is trying to be set on a copy of a slice from a DataFrame\n",
      "\n",
      "See the caveats in the documentation: http://pandas.pydata.org/pandas-docs/stable/indexing.html#indexing-view-versus-copy\n",
      "C:\\Users\\Trost\\Anaconda3\\lib\\site-packages\\ipykernel\\__main__.py:7: SettingWithCopyWarning: \n",
      "A value is trying to be set on a copy of a slice from a DataFrame\n",
      "\n",
      "See the caveats in the documentation: http://pandas.pydata.org/pandas-docs/stable/indexing.html#indexing-view-versus-copy\n"
     ]
    },
    {
     "data": {
      "text/plain": [
       "1.5563662359960369"
      ]
     },
     "execution_count": 99,
     "metadata": {},
     "output_type": "execute_result"
    }
   ],
   "source": [
    "\n",
    "\n",
    "\n",
    "\n",
    "estimate = list()\n",
    "\n",
    "for i in range(100):\n",
    "    #call some functions from before\n",
    "    \n",
    "    without_20 = del_20(data)\n",
    "    filled_single = fill_single_rated_nan(without_20)\n",
    "    filled_all = fill_informative_nan(filled_single)\n",
    "    filled_all['B_R_New'][filled_all.B_R_New.isnull()] = filled_all.B_R_New.mean()\n",
    "    \n",
    "    estimate.append(avg_error(filled_all))\n",
    "    \n",
    "    \n",
    "np.mean(estimate)\n"
   ]
  },
  {
   "cell_type": "code",
   "execution_count": 100,
   "metadata": {
    "collapsed": false
   },
   "outputs": [
    {
     "data": {
      "text/plain": [
       "<matplotlib.axes._subplots.AxesSubplot at 0x461ee48>"
      ]
     },
     "execution_count": 100,
     "metadata": {},
     "output_type": "execute_result"
    },
    {
     "data": {
      "image/png": "[encoded data removed]",
      "text/plain": [
       "<matplotlib.figure.Figure at 0x55bee80>"
      ]
     },
     "metadata": {},
     "output_type": "display_data"
    }
   ],
   "source": [
    "plotting = pd.Series(estimate)\n",
    "plotting.hist()"
   ]
  },
  {
   "cell_type": "code",
   "execution_count": null,
   "metadata": {
    "collapsed": true
   },
   "outputs": [],
   "source": []
  }
 ],
 "metadata": {
  "celltoolbar": "Slideshow",
  "kernelspec": {
   "display_name": "Python 3",
   "language": "python",
   "name": "python3"
  },
  "language_info": {
   "codemirror_mode": {
    "name": "ipython",
    "version": 3
   },
   "file_extension": ".py",
   "mimetype": "text/x-python",
   "name": "python",
   "nbconvert_exporter": "python",
   "pygments_lexer": "ipython3",
   "version": "3.4.3"
  }
 },
 "nbformat": 4,
 "nbformat_minor": 0
}
